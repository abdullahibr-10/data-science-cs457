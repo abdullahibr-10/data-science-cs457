{
 "cells": [
  {
   "cell_type": "markdown",
   "metadata": {
    "application/vnd.databricks.v1+cell": {
     "cellMetadata": {
      "byteLimit": 2048000,
      "rowLimit": 10000
     },
     "inputWidgets": {},
     "nuid": "998874f6-f184-424a-82bc-95c959ac5de0",
     "showTitle": false,
     "tableResultSettingsMap": {},
     "title": ""
    }
   },
   "source": [
    "### Write your name"
   ]
  },
  {
   "cell_type": "code",
   "execution_count": 0,
   "metadata": {
    "application/vnd.databricks.v1+cell": {
     "cellMetadata": {
      "byteLimit": 2048000,
      "rowLimit": 10000
     },
     "inputWidgets": {},
     "nuid": "995767c2-8fbe-4a7d-80ac-3109c45de204",
     "showTitle": false,
     "tableResultSettingsMap": {},
     "title": ""
    }
   },
   "outputs": [],
   "source": [
    "from pyspark import SparkConf, SparkContext\n",
    "from pyspark.sql import SQLContext, SparkSession\n",
    "\n",
    "#sc is the Spark Context already available at databricks, so we do not need to create it again.\n",
    "#sc = SparkContext()\n",
    "# sqlContext = SQLContext(sc)\n",
    "\n",
    "# from pyspark.sql import SparkSession\n",
    "sqlContext = SparkSession.builder.appName('abc').getOrCreate()"
   ]
  },
  {
   "cell_type": "markdown",
   "metadata": {
    "application/vnd.databricks.v1+cell": {
     "cellMetadata": {
      "byteLimit": 2048000,
      "rowLimit": 10000
     },
     "inputWidgets": {},
     "nuid": "dad83ce3-0a95-468b-be6b-eeb20a725806",
     "showTitle": false,
     "tableResultSettingsMap": {},
     "title": ""
    }
   },
   "source": [
    "# Creating RDD (Resilient Distributed Dataset) - fundamental data structure of Spark"
   ]
  },
  {
   "cell_type": "code",
   "execution_count": 0,
   "metadata": {
    "application/vnd.databricks.v1+cell": {
     "cellMetadata": {
      "byteLimit": 2048000,
      "rowLimit": 10000
     },
     "inputWidgets": {},
     "nuid": "85a92d7d-862a-43da-a8e8-c1505a52225f",
     "showTitle": false,
     "tableResultSettingsMap": {},
     "title": ""
    }
   },
   "outputs": [],
   "source": [
    "products = sc.textFile(\"/FileStore/tables/SalesData.txt\")"
   ]
  },
  {
   "cell_type": "code",
   "execution_count": 0,
   "metadata": {
    "application/vnd.databricks.v1+cell": {
     "cellMetadata": {
      "byteLimit": 2048000,
      "rowLimit": 10000
     },
     "inputWidgets": {},
     "nuid": "2aa738f2-f4d1-4901-aad0-d5a8ee807c89",
     "showTitle": false,
     "tableResultSettingsMap": {},
     "title": ""
    }
   },
   "outputs": [
    {
     "output_type": "stream",
     "name": "stdout",
     "output_type": "stream",
     "text": [
      "Out[39]: 'ProductID\\tName\\tProductNumber\\tColor\\tStandardCost\\tListPrice\\tSize\\tWeight\\tProductCategoryID\\tProductModelID\\tSellStartDate\\tSellEndDate\\tDiscontinuedDate\\tThumbNailPhoto\\tThumbnailPhotoFileName\\trowguid\\tModifiedDate'"
     ]
    }
   ],
   "source": [
    "products.first()"
   ]
  },
  {
   "cell_type": "code",
   "execution_count": 0,
   "metadata": {
    "application/vnd.databricks.v1+cell": {
     "cellMetadata": {
      "byteLimit": 2048000,
      "rowLimit": 10000
     },
     "inputWidgets": {},
     "nuid": "1d226610-9a0e-4915-9861-82c2b2163b0c",
     "showTitle": false,
     "tableResultSettingsMap": {},
     "title": ""
    }
   },
   "outputs": [
    {
     "output_type": "stream",
     "name": "stdout",
     "output_type": "stream",
     "text": [
      "The data has 17 columns\nOut[40]: ['ProductID',\n 'Name',\n 'ProductNumber',\n 'Color',\n 'StandardCost',\n 'ListPrice',\n 'Size',\n 'Weight',\n 'ProductCategoryID',\n 'ProductModelID',\n 'SellStartDate',\n 'SellEndDate',\n 'DiscontinuedDate',\n 'ThumbNailPhoto',\n 'ThumbnailPhotoFileName',\n 'rowguid',\n 'ModifiedDate']"
     ]
    }
   ],
   "source": [
    "print(\"The data has {} columns\".format(len(products.first().split(\"\\t\"))))\n",
    "header = products.first().split(\"\\t\")\n",
    "header"
   ]
  },
  {
   "cell_type": "code",
   "execution_count": 0,
   "metadata": {
    "application/vnd.databricks.v1+cell": {
     "cellMetadata": {
      "byteLimit": 2048000,
      "rowLimit": 10000
     },
     "inputWidgets": {},
     "nuid": "ae301838-99e7-4a98-9531-f399521e6e46",
     "showTitle": false,
     "tableResultSettingsMap": {},
     "title": ""
    }
   },
   "outputs": [],
   "source": [
    "head = products.first()\n",
    "content = products.filter(lambda line: line != head)"
   ]
  },
  {
   "cell_type": "code",
   "execution_count": 0,
   "metadata": {
    "application/vnd.databricks.v1+cell": {
     "cellMetadata": {
      "byteLimit": 2048000,
      "rowLimit": 10000
     },
     "inputWidgets": {},
     "nuid": "b25629db-cfa9-4fd9-93fb-a1dc0fe5a044",
     "showTitle": false,
     "tableResultSettingsMap": {},
     "title": ""
    }
   },
   "outputs": [
    {
     "output_type": "stream",
     "name": "stdout",
     "output_type": "stream",
     "text": [
      "Out[42]: '680\\tHL Road Frame - Black, 58\\tFR-R92B-58\\tBlack\\t1059.31\\t1431.50\\t58\\t1016.04\\t18\\t6\\t1998-06-01 00:00:00.000\\tNULL\\tNULL\\t0x47494638396150003100F70000000000800000008000808000000080800080008080808080C0C0C0FF000000FF00FFFF000000FFFF00FF00FFFFFFFFFF000000000000000000000000000000000000000000000000000000000000000000000000000000000000000000000000000000000000000000000000000000000000\\tno_image_available_small.gif\\t43DD68D6-14A4-461F-9069-55309D90EA7E\\t2004-03-11 10:01:36.827'"
     ]
    }
   ],
   "source": [
    "content.first()"
   ]
  },
  {
   "cell_type": "code",
   "execution_count": 0,
   "metadata": {
    "application/vnd.databricks.v1+cell": {
     "cellMetadata": {
      "byteLimit": 2048000,
      "rowLimit": 10000
     },
     "inputWidgets": {},
     "nuid": "7c6477b3-ae17-40c9-ad94-e226c1d96a67",
     "showTitle": false,
     "tableResultSettingsMap": {},
     "title": ""
    }
   },
   "outputs": [
    {
     "output_type": "stream",
     "name": "stdout",
     "output_type": "stream",
     "text": [
      "Out[43]: 17"
     ]
    }
   ],
   "source": [
    "content.map(lambda line: len(line.split(\"\\t\"))).distinct().collect()[0]"
   ]
  },
  {
   "cell_type": "markdown",
   "metadata": {
    "application/vnd.databricks.v1+cell": {
     "cellMetadata": {
      "byteLimit": 2048000,
      "rowLimit": 10000
     },
     "inputWidgets": {},
     "nuid": "a3097865-16c7-4069-bf6b-b61d2a71ced9",
     "showTitle": false,
     "tableResultSettingsMap": {},
     "title": ""
    }
   },
   "source": [
    "# Example of RDD using Scala"
   ]
  },
  {
   "cell_type": "code",
   "execution_count": 0,
   "metadata": {
    "application/vnd.databricks.v1+cell": {
     "cellMetadata": {
      "byteLimit": 2048000,
      "rowLimit": 10000
     },
     "inputWidgets": {},
     "nuid": "fd3e1c26-ea05-4ffb-b91d-6ef5936864db",
     "showTitle": false,
     "tableResultSettingsMap": {},
     "title": ""
    }
   },
   "outputs": [
    {
     "output_type": "stream",
     "name": "stdout",
     "output_type": "stream",
     "text": [
      "Out[44]: [['680',\n  'HL Road Frame - Black, 58',\n  'FR-R92B-58',\n  'Black',\n  '1059.31',\n  '1431.50',\n  '58',\n  '1016.04',\n  '18',\n  '6',\n  '1998-06-01 00:00:00.000',\n  'NULL',\n  'NULL',\n  '0x47494638396150003100F70000000000800000008000808000000080800080008080808080C0C0C0FF000000FF00FFFF000000FFFF00FF00FFFFFFFFFF000000000000000000000000000000000000000000000000000000000000000000000000000000000000000000000000000000000000000000000000000000000000',\n  'no_image_available_small.gif',\n  '43DD68D6-14A4-461F-9069-55309D90EA7E',\n  '2004-03-11 10:01:36.827']]"
     ]
    }
   ],
   "source": [
    "rdd1 = (content.filter(lambda line: line.split(\"\\t\"))\n",
    " .map(lambda line: (line.split(\"\\t\")))\n",
    ")\n",
    "rdd1.take(1)"
   ]
  },
  {
   "cell_type": "markdown",
   "metadata": {
    "application/vnd.databricks.v1+cell": {
     "cellMetadata": {
      "byteLimit": 2048000,
      "rowLimit": 10000
     },
     "inputWidgets": {},
     "nuid": "a105419c-a4d8-4fee-a173-8a25b774998c",
     "showTitle": false,
     "tableResultSettingsMap": {},
     "title": ""
    }
   },
   "source": [
    "# Converting RDD into Spark Dataframe"
   ]
  },
  {
   "cell_type": "code",
   "execution_count": 0,
   "metadata": {
    "application/vnd.databricks.v1+cell": {
     "cellMetadata": {
      "byteLimit": 2048000,
      "rowLimit": 10000
     },
     "inputWidgets": {},
     "nuid": "9a3f50ec-faaf-4aae-975c-5eeb4b1f66d6",
     "showTitle": false,
     "tableResultSettingsMap": {},
     "title": ""
    }
   },
   "outputs": [
    {
     "output_type": "stream",
     "name": "stdout",
     "output_type": "stream",
     "text": [
      "+---------+--------------------+-------------+-----+------------+---------+----+-------+-----------------+--------------+--------------------+--------------------+----------------+--------------------+----------------------+--------------------+--------------------+\n|ProductID|                Name|ProductNumber|Color|StandardCost|ListPrice|Size| Weight|ProductCategoryID|ProductModelID|       SellStartDate|         SellEndDate|DiscontinuedDate|      ThumbNailPhoto|ThumbnailPhotoFileName|             rowguid|        ModifiedDate|\n+---------+--------------------+-------------+-----+------------+---------+----+-------+-----------------+--------------+--------------------+--------------------+----------------+--------------------+----------------------+--------------------+--------------------+\n|      680|HL Road Frame - B...|   FR-R92B-58|Black|     1059.31|  1431.50|  58|1016.04|               18|             6|1998-06-01 00:00:...|                NULL|            NULL|0x474946383961500...|  no_image_availabl...|43DD68D6-14A4-461...|2004-03-11 10:01:...|\n|      706|HL Road Frame - R...|   FR-R92R-58|  Red|     1059.31|  1431.50|  58|1016.04|               18|             6|1998-06-01 00:00:...|                NULL|            NULL|0x474946383961500...|  no_image_availabl...|9540FF17-2712-4C9...|2004-03-11 10:01:...|\n|      707|Sport-100 Helmet,...|    HL-U509-R|  Red|     13.0863|    34.99|NULL|   NULL|               35|            33|2001-07-01 00:00:...|                NULL|            NULL|0x474946383961500...|  no_image_availabl...|2E1EF41A-C08A-4FF...|2004-03-11 10:01:...|\n|      708|Sport-100 Helmet,...|      HL-U509|Black|     13.0863|    34.99|NULL|   NULL|               35|            33|2001-07-01 00:00:...|                NULL|            NULL|0x474946383961500...|  no_image_availabl...|A25A44FB-C2DE-426...|2004-03-11 10:01:...|\n|      709|Mountain Bike Soc...|    SO-B909-M|White|      3.3963|     9.50|   M|   NULL|               27|            18|2001-07-01 00:00:...|2002-06-30 00:00:...|            NULL|0x474946383961500...|  no_image_availabl...|18F95F47-1540-4E0...|2004-03-11 10:01:...|\n|      710|Mountain Bike Soc...|    SO-B909-L|White|      3.3963|     9.50|   L|   NULL|               27|            18|2001-07-01 00:00:...|2002-06-30 00:00:...|            NULL|0x474946383961500...|  no_image_availabl...|161C035E-21B3-4E1...|2004-03-11 10:01:...|\n|      711|Sport-100 Helmet,...|    HL-U509-B| Blue|     13.0863|    34.99|NULL|   NULL|               35|            33|2001-07-01 00:00:...|                NULL|            NULL|0x474946383961500...|  no_image_availabl...|FD7C0858-4179-48C...|2004-03-11 10:01:...|\n|      712|        AWC Logo Cap|      CA-1098|Multi|      6.9223|     8.99|NULL|   NULL|               23|             2|2001-07-01 00:00:...|                NULL|            NULL|0x474946383961500...|  no_image_availabl...|B9EDE243-A6F4-462...|2004-03-11 10:01:...|\n|      713|Long-Sleeve Logo ...|    LJ-0192-S|Multi|     38.4923|    49.99|   S|   NULL|               25|            11|2001-07-01 00:00:...|                NULL|            NULL|0x474946383961500...|  awc_jersey_male_s...|FD449C82-A259-4FA...|2004-03-11 10:01:...|\n|      714|Long-Sleeve Logo ...|    LJ-0192-M|Multi|     38.4923|    49.99|   M|   NULL|               25|            11|2001-07-01 00:00:...|                NULL|            NULL|0x474946383961500...|  awc_jersey_male_s...|6A290063-A0CF-432...|2004-03-11 10:01:...|\n|      715|Long-Sleeve Logo ...|    LJ-0192-L|Multi|     38.4923|    49.99|   L|   NULL|               25|            11|2001-07-01 00:00:...|                NULL|            NULL|0x474946383961500...|  awc_jersey_male_s...|34CF5EF5-C077-4EA...|2004-03-11 10:01:...|\n|      716|Long-Sleeve Logo ...|    LJ-0192-X|Multi|     38.4923|    49.99|  XL|   NULL|               25|            11|2001-07-01 00:00:...|                NULL|            NULL|0x474946383961500...|  awc_jersey_male_s...|6EC47EC9-C041-4DD...|2004-03-11 10:01:...|\n|      717|HL Road Frame - R...|   FR-R92R-62|  Red|    868.6342|  1431.50|  62|1043.26|               18|             6|2001-07-01 00:00:...|                NULL|            NULL|0x474946383961500...|  no_image_availabl...|052E4F8B-0A2A-46B...|2004-03-11 10:01:...|\n|      718|HL Road Frame - R...|   FR-R92R-44|  Red|    868.6342|  1431.50|  44| 961.61|               18|             6|2001-07-01 00:00:...|                NULL|            NULL|0x474946383961500...|  no_image_availabl...|A88D3B54-2CAE-43F...|2004-03-11 10:01:...|\n|      719|HL Road Frame - R...|   FR-R92R-48|  Red|    868.6342|  1431.50|  48| 979.75|               18|             6|2001-07-01 00:00:...|                NULL|            NULL|0x474946383961500...|  no_image_availabl...|07BEFC9A-7634-402...|2004-03-11 10:01:...|\n|      720|HL Road Frame - R...|   FR-R92R-52|  Red|    868.6342|  1431.50|  52| 997.90|               18|             6|2001-07-01 00:00:...|                NULL|            NULL|0x474946383961500...|  no_image_availabl...|FCFEA68F-310E-4E6...|2004-03-11 10:01:...|\n|      721|HL Road Frame - R...|   FR-R92R-56|  Red|    868.6342|  1431.50|  56|1016.04|               18|             6|2001-07-01 00:00:...|                NULL|            NULL|0x474946383961500...|  no_image_availabl...|56C85873-4993-41B...|2004-03-11 10:01:...|\n|      722|LL Road Frame - B...|   FR-R38B-58|Black|    204.6251|   337.22|  58|1115.83|               18|             9|2001-07-01 00:00:...|                NULL|            NULL|0x474946383961500...|  no_image_availabl...|2140F256-F705-4D6...|2004-03-11 10:01:...|\n|      723|LL Road Frame - B...|   FR-R38B-60|Black|    204.6251|   337.22|  60|1124.90|               18|             9|2001-07-01 00:00:...|                NULL|            NULL|0x474946383961500...|  no_image_availabl...|AA95E2A5-E7C4-4B7...|2004-03-11 10:01:...|\n|      724|LL Road Frame - B...|   FR-R38B-62|Black|    204.6251|   337.22|  62|1133.98|               18|             9|2001-07-01 00:00:...|                NULL|            NULL|0x474946383961500...|  no_image_availabl...|5247BE33-50BF-452...|2004-03-11 10:01:...|\n+---------+--------------------+-------------+-----+------------+---------+----+-------+-----------------+--------------+--------------------+--------------------+----------------+--------------------+----------------------+--------------------+--------------------+\nonly showing top 20 rows\n\n"
     ]
    }
   ],
   "source": [
    "df = rdd1.toDF(header)\n",
    "df.show()"
   ]
  },
  {
   "cell_type": "markdown",
   "metadata": {
    "application/vnd.databricks.v1+cell": {
     "cellMetadata": {
      "byteLimit": 2048000,
      "rowLimit": 10000
     },
     "inputWidgets": {},
     "nuid": "fb282bbf-f4b2-4299-9c07-9b978bce0169",
     "showTitle": false,
     "tableResultSettingsMap": {},
     "title": ""
    }
   },
   "source": [
    "# Using Two Different Code/Syntax\n",
    "## Spark Dataframe syntax and SQL Table syntax"
   ]
  },
  {
   "cell_type": "markdown",
   "metadata": {
    "application/vnd.databricks.v1+cell": {
     "cellMetadata": {
      "byteLimit": 2048000,
      "rowLimit": 10000
     },
     "inputWidgets": {},
     "nuid": "634a7e65-f23f-4043-963f-feeaa28bfa85",
     "showTitle": false,
     "tableResultSettingsMap": {},
     "title": ""
    }
   },
   "source": [
    "### Spark Dataframe syntax"
   ]
  },
  {
   "cell_type": "code",
   "execution_count": 0,
   "metadata": {
    "application/vnd.databricks.v1+cell": {
     "cellMetadata": {
      "byteLimit": 2048000,
      "rowLimit": 10000
     },
     "inputWidgets": {},
     "nuid": "fae7aa88-69b3-42fe-b863-c890bb7975eb",
     "showTitle": false,
     "tableResultSettingsMap": {},
     "title": ""
    }
   },
   "outputs": [
    {
     "output_type": "stream",
     "name": "stdout",
     "output_type": "stream",
     "text": [
      "+-------------------------+-------+\n|Name                     |Weight |\n+-------------------------+-------+\n|HL Road Frame - Black, 58|1016.04|\n|HL Road Frame - Red, 58  |1016.04|\n|Sport-100 Helmet, Red    |null   |\n|Sport-100 Helmet, Black  |null   |\n|Mountain Bike Socks, M   |null   |\n+-------------------------+-------+\nonly showing top 5 rows\n\n"
     ]
    }
   ],
   "source": [
    "# selecting two columns Name and Weight from original dataframe and convert into their proper datatype. Default is string\n",
    "spark_df = df.select(df.Name, df.Weight.cast(\"float\"))\n",
    "spark_df.show(5, truncate=False)"
   ]
  },
  {
   "cell_type": "markdown",
   "metadata": {
    "application/vnd.databricks.v1+cell": {
     "cellMetadata": {
      "byteLimit": 2048000,
      "rowLimit": 10000
     },
     "inputWidgets": {},
     "nuid": "76e9f5d3-2ce4-42a6-8a97-151f62966559",
     "showTitle": false,
     "tableResultSettingsMap": {},
     "title": ""
    }
   },
   "source": [
    "### SQL Table syntax\n",
    "First convert the original Spark Dataframe df into SQL Table and then write SQL syntax"
   ]
  },
  {
   "cell_type": "code",
   "execution_count": 0,
   "metadata": {
    "application/vnd.databricks.v1+cell": {
     "cellMetadata": {
      "byteLimit": 2048000,
      "rowLimit": 10000
     },
     "inputWidgets": {},
     "nuid": "ba37d163-0abd-47ac-a2dd-609382697ca7",
     "showTitle": false,
     "tableResultSettingsMap": {},
     "title": ""
    }
   },
   "outputs": [
    {
     "output_type": "stream",
     "name": "stdout",
     "output_type": "stream",
     "text": [
      "+-------------------------+-------+\n|Name                     |Weight |\n+-------------------------+-------+\n|HL Road Frame - Black, 58|1016.04|\n|HL Road Frame - Red, 58  |1016.04|\n|Sport-100 Helmet, Red    |null   |\n|Sport-100 Helmet, Black  |null   |\n|Mountain Bike Socks, M   |null   |\n+-------------------------+-------+\n\n"
     ]
    }
   ],
   "source": [
    "# convert the original Spark Dataframe df into SQL Table\n",
    "df.createOrReplaceTempView(\"df_table\")\n",
    "# write SQL query syntax\n",
    "sqlContext.sql(\" SELECT Name, cast(Weight as float) FROM df_table limit 5\").show(truncate=False)"
   ]
  },
  {
   "cell_type": "markdown",
   "metadata": {
    "application/vnd.databricks.v1+cell": {
     "cellMetadata": {
      "byteLimit": 2048000,
      "rowLimit": 10000
     },
     "inputWidgets": {},
     "nuid": "69d4323b-c498-4abe-b321-1a62cd627ed8",
     "showTitle": false,
     "tableResultSettingsMap": {},
     "title": ""
    }
   },
   "source": [
    "## Write your solutions using Spark Dataframe syntax and Spark SQL syntax. Your output should match with the RDD output"
   ]
  },
  {
   "cell_type": "markdown",
   "metadata": {
    "application/vnd.databricks.v1+cell": {
     "cellMetadata": {
      "byteLimit": 2048000,
      "rowLimit": 10000
     },
     "inputWidgets": {},
     "nuid": "6019e613-c169-4946-923d-2d87ba1ce274",
     "showTitle": false,
     "tableResultSettingsMap": {},
     "title": ""
    }
   },
   "source": [
    "#### 1. Find the names and weight of the top 15 products by weight. Sort weight by descending order."
   ]
  },
  {
   "cell_type": "markdown",
   "metadata": {
    "application/vnd.databricks.v1+cell": {
     "cellMetadata": {
      "byteLimit": 2048000,
      "rowLimit": 10000
     },
     "inputWidgets": {},
     "nuid": "cf59b76e-c51a-4445-9d49-eb6dc0c6ad00",
     "showTitle": false,
     "tableResultSettingsMap": {},
     "title": ""
    }
   },
   "source": [
    "##### Using RDD"
   ]
  },
  {
   "cell_type": "code",
   "execution_count": 0,
   "metadata": {
    "application/vnd.databricks.v1+cell": {
     "cellMetadata": {
      "byteLimit": 2048000,
      "rowLimit": 10000
     },
     "inputWidgets": {},
     "nuid": "728d67e4-bc29-4991-a999-154e1450fbf6",
     "showTitle": false,
     "tableResultSettingsMap": {},
     "title": ""
    }
   },
   "outputs": [
    {
     "output_type": "stream",
     "name": "stdout",
     "output_type": "stream",
     "text": [
      "Out[48]: [('Touring-3000 Blue, 62', 13607.7),\n ('Touring-3000 Yellow, 62', 13607.7),\n ('Touring-3000 Blue, 58', 13562.34),\n ('Touring-3000 Yellow, 58', 13512.45),\n ('Touring-3000 Blue, 54', 13462.55),\n ('Touring-3000 Yellow, 54', 13344.62),\n ('Touring-3000 Yellow, 50', 13213.08),\n ('Touring-3000 Blue, 50', 13213.08),\n ('Touring-3000 Yellow, 44', 13049.78),\n ('Touring-3000 Blue, 44', 13049.78),\n ('Mountain-500 Silver, 52', 13008.96),\n ('Mountain-500 Black, 52', 13008.96),\n ('Mountain-500 Silver, 48', 12891.03),\n ('Mountain-500 Black, 48', 12891.03),\n ('Mountain-500 Silver, 44', 12759.49)]"
     ]
    }
   ],
   "source": [
    "(content.filter(lambda line: line.split(\"\\t\")[7] != \"NULL\")\n",
    " .map(lambda line: (line.split(\"\\t\")[1], float(line.split(\"\\t\")[7])))\n",
    "                     .takeOrdered(15, lambda x : -x[1])\n",
    "                    )"
   ]
  },
  {
   "cell_type": "markdown",
   "metadata": {
    "application/vnd.databricks.v1+cell": {
     "cellMetadata": {
      "byteLimit": 2048000,
      "rowLimit": 10000
     },
     "inputWidgets": {},
     "nuid": "9908f57f-848d-49c8-a3c9-5040d1e35a32",
     "showTitle": false,
     "tableResultSettingsMap": {},
     "title": ""
    }
   },
   "source": [
    "##### Using Spark DataFrame"
   ]
  },
  {
   "cell_type": "code",
   "execution_count": 0,
   "metadata": {
    "application/vnd.databricks.v1+cell": {
     "cellMetadata": {
      "byteLimit": 2048000,
      "rowLimit": 10000
     },
     "inputWidgets": {},
     "nuid": "16c097bd-6deb-4dd6-967c-98b4a32c89dd",
     "showTitle": false,
     "tableResultSettingsMap": {},
     "title": ""
    }
   },
   "outputs": [
    {
     "output_type": "stream",
     "name": "stdout",
     "output_type": "stream",
     "text": [
      "+-----------------------+--------+\n|Name                   |Weight  |\n+-----------------------+--------+\n|Touring-3000 Yellow, 62|13607.7 |\n|Touring-3000 Blue, 62  |13607.7 |\n|Touring-3000 Blue, 58  |13562.34|\n|Touring-3000 Yellow, 58|13512.45|\n|Touring-3000 Blue, 54  |13462.55|\n|Touring-3000 Yellow, 54|13344.62|\n|Touring-3000 Yellow, 50|13213.08|\n|Touring-3000 Blue, 50  |13213.08|\n|Touring-3000 Yellow, 44|13049.78|\n|Touring-3000 Blue, 44  |13049.78|\n|Mountain-500 Silver, 52|13008.96|\n|Mountain-500 Black, 52 |13008.96|\n|Mountain-500 Silver, 48|12891.03|\n|Mountain-500 Black, 48 |12891.03|\n|Mountain-500 Silver, 44|12759.49|\n+-----------------------+--------+\n\n"
     ]
    }
   ],
   "source": [
    "sorted_df = spark_df.orderBy(\"Weight\", ascending=False)\n",
    "\n",
    "first_15_products = sorted_df.limit(15)\n",
    "\n",
    "first_15_products.show(truncate=False)\n"
   ]
  },
  {
   "cell_type": "markdown",
   "metadata": {
    "application/vnd.databricks.v1+cell": {
     "cellMetadata": {
      "byteLimit": 2048000,
      "rowLimit": 10000
     },
     "inputWidgets": {},
     "nuid": "d1aee5df-1ab5-4a8d-a36c-1ae78c3d1195",
     "showTitle": false,
     "tableResultSettingsMap": {},
     "title": ""
    }
   },
   "source": [
    "##### Using Spark SQL"
   ]
  },
  {
   "cell_type": "code",
   "execution_count": 0,
   "metadata": {
    "application/vnd.databricks.v1+cell": {
     "cellMetadata": {
      "byteLimit": 2048000,
      "implicitDf": true,
      "rowLimit": 10000
     },
     "inputWidgets": {},
     "nuid": "dc945e57-6428-4d09-b227-b875758c36f9",
     "showTitle": false,
     "tableResultSettingsMap": {},
     "title": ""
    }
   },
   "outputs": [
    {
     "output_type": "display_data",
     "data": {
      "text/html": [
       "<style scoped>\n",
       "  .table-result-container {\n",
       "    max-height: 300px;\n",
       "    overflow: auto;\n",
       "  }\n",
       "  table, th, td {\n",
       "    border: 1px solid black;\n",
       "    border-collapse: collapse;\n",
       "  }\n",
       "  th, td {\n",
       "    padding: 5px;\n",
       "  }\n",
       "  th {\n",
       "    text-align: left;\n",
       "  }\n",
       "</style><div class='table-result-container'><table class='table-result'><thead style='background-color: white'><tr><th>Name</th><th>Weight</th></tr></thead><tbody><tr><td>Touring-3000 Yellow, 62</td><td>13607.7</td></tr><tr><td>Touring-3000 Blue, 62</td><td>13607.7</td></tr><tr><td>Touring-3000 Blue, 58</td><td>13562.34</td></tr><tr><td>Touring-3000 Yellow, 58</td><td>13512.45</td></tr><tr><td>Touring-3000 Blue, 54</td><td>13462.55</td></tr><tr><td>Touring-3000 Yellow, 54</td><td>13344.62</td></tr><tr><td>Touring-3000 Yellow, 50</td><td>13213.08</td></tr><tr><td>Touring-3000 Blue, 50</td><td>13213.08</td></tr><tr><td>Touring-3000 Yellow, 44</td><td>13049.78</td></tr><tr><td>Touring-3000 Blue, 44</td><td>13049.78</td></tr><tr><td>Mountain-500 Silver, 52</td><td>13008.96</td></tr><tr><td>Mountain-500 Black, 52</td><td>13008.96</td></tr><tr><td>Mountain-500 Silver, 48</td><td>12891.03</td></tr><tr><td>Mountain-500 Black, 48</td><td>12891.03</td></tr><tr><td>Mountain-500 Silver, 44</td><td>12759.49</td></tr></tbody></table></div>"
      ]
     },
     "metadata": {
      "application/vnd.databricks.v1+output": {
       "addedWidgets": {},
       "aggData": [],
       "aggError": "",
       "aggOverflow": false,
       "aggSchema": [],
       "aggSeriesLimitReached": false,
       "aggType": "",
       "arguments": {},
       "columnCustomDisplayInfos": {},
       "data": [
        [
         "Touring-3000 Yellow, 62",
         13607.7
        ],
        [
         "Touring-3000 Blue, 62",
         13607.7
        ],
        [
         "Touring-3000 Blue, 58",
         13562.34
        ],
        [
         "Touring-3000 Yellow, 58",
         13512.45
        ],
        [
         "Touring-3000 Blue, 54",
         13462.55
        ],
        [
         "Touring-3000 Yellow, 54",
         13344.62
        ],
        [
         "Touring-3000 Yellow, 50",
         13213.08
        ],
        [
         "Touring-3000 Blue, 50",
         13213.08
        ],
        [
         "Touring-3000 Yellow, 44",
         13049.78
        ],
        [
         "Touring-3000 Blue, 44",
         13049.78
        ],
        [
         "Mountain-500 Silver, 52",
         13008.96
        ],
        [
         "Mountain-500 Black, 52",
         13008.96
        ],
        [
         "Mountain-500 Silver, 48",
         12891.03
        ],
        [
         "Mountain-500 Black, 48",
         12891.03
        ],
        [
         "Mountain-500 Silver, 44",
         12759.49
        ]
       ],
       "datasetInfos": [],
       "dbfsResultPath": null,
       "isJsonSchema": true,
       "metadata": {},
       "overflow": false,
       "plotOptions": {
        "customPlotOptions": {},
        "displayType": "table",
        "pivotAggregation": null,
        "pivotColumns": null,
        "xColumns": null,
        "yColumns": null
       },
       "removedWidgets": [],
       "schema": [
        {
         "metadata": "{}",
         "name": "Name",
         "type": "\"string\""
        },
        {
         "metadata": "{}",
         "name": "Weight",
         "type": "\"float\""
        }
       ],
       "type": "table"
      }
     },
     "output_type": "display_data"
    }
   ],
   "source": [
    "%sql\n",
    "SELECT Name, CAST(Weight AS FLOAT) AS Weight\n",
    "FROM df_table\n",
    "WHERE Weight IS NOT NULL\n",
    "ORDER BY Weight DESC\n",
    "LIMIT 15"
   ]
  },
  {
   "cell_type": "markdown",
   "metadata": {
    "application/vnd.databricks.v1+cell": {
     "cellMetadata": {
      "byteLimit": 2048000,
      "rowLimit": 10000
     },
     "inputWidgets": {},
     "nuid": "6a364981-2a82-4a66-940d-b62a3c2eabad",
     "showTitle": false,
     "tableResultSettingsMap": {},
     "title": ""
    }
   },
   "source": [
    "#### 2. Retrieve product details (name, color, size, product model ID) for products where the product model ID is 5"
   ]
  },
  {
   "cell_type": "markdown",
   "metadata": {
    "application/vnd.databricks.v1+cell": {
     "cellMetadata": {
      "byteLimit": 2048000,
      "rowLimit": 10000
     },
     "inputWidgets": {},
     "nuid": "30dffc8a-4473-4429-83ba-4ce42cb63432",
     "showTitle": false,
     "tableResultSettingsMap": {},
     "title": ""
    }
   },
   "source": [
    "##### Using RDD"
   ]
  },
  {
   "cell_type": "code",
   "execution_count": 0,
   "metadata": {
    "application/vnd.databricks.v1+cell": {
     "cellMetadata": {
      "byteLimit": 2048000,
      "rowLimit": 10000
     },
     "inputWidgets": {},
     "nuid": "b7f96168-273f-4786-8231-ee60b60aae89",
     "showTitle": false,
     "tableResultSettingsMap": {},
     "title": ""
    }
   },
   "outputs": [
    {
     "output_type": "stream",
     "name": "stdout",
     "output_type": "stream",
     "text": [
      "Out[51]: [('HL Mountain Frame - Silver, 42', 'Silver', '42', '5'),\n ('HL Mountain Frame - Silver, 44', 'Silver', '44', '5'),\n ('HL Mountain Frame - Silver, 48', 'Silver', '48', '5'),\n ('HL Mountain Frame - Silver, 46', 'Silver', '46', '5'),\n ('HL Mountain Frame - Black, 42', 'Black', '42', '5'),\n ('HL Mountain Frame - Black, 44', 'Black', '44', '5'),\n ('HL Mountain Frame - Black, 48', 'Black', '48', '5'),\n ('HL Mountain Frame - Black, 46', 'Black', '46', '5'),\n ('HL Mountain Frame - Black, 38', 'Black', '38', '5'),\n ('HL Mountain Frame - Silver, 38', 'Silver', '38', '5')]"
     ]
    }
   ],
   "source": [
    "(content.filter(lambda line:line.split(\"\\t\")[9]==\"5\")\n",
    " .map(lambda line: (line.split(\"\\t\")[1],line.split(\"\\t\")[3], line.split(\"\\t\")[6], line.split(\"\\t\")[9])).collect()\n",
    ")"
   ]
  },
  {
   "cell_type": "markdown",
   "metadata": {
    "application/vnd.databricks.v1+cell": {
     "cellMetadata": {
      "byteLimit": 2048000,
      "rowLimit": 10000
     },
     "inputWidgets": {},
     "nuid": "4d8dabcd-bf51-4d10-96e6-71df3695d272",
     "showTitle": false,
     "tableResultSettingsMap": {},
     "title": ""
    }
   },
   "source": [
    "##### Using Spark Dataframe"
   ]
  },
  {
   "cell_type": "code",
   "execution_count": 0,
   "metadata": {
    "application/vnd.databricks.v1+cell": {
     "cellMetadata": {
      "byteLimit": 2048000,
      "rowLimit": 10000
     },
     "inputWidgets": {},
     "nuid": "cdf6ee7e-f5b8-410f-b26f-eaeaff7d1c30",
     "showTitle": false,
     "tableResultSettingsMap": {},
     "title": ""
    }
   },
   "outputs": [
    {
     "output_type": "stream",
     "name": "stdout",
     "output_type": "stream",
     "text": [
      "+------------------------------+------+----+--------------+\n|Name                          |Color |Size|ProductModelID|\n+------------------------------+------+----+--------------+\n|HL Mountain Frame - Silver, 42|Silver|42  |5             |\n|HL Mountain Frame - Silver, 44|Silver|44  |5             |\n|HL Mountain Frame - Silver, 48|Silver|48  |5             |\n|HL Mountain Frame - Silver, 46|Silver|46  |5             |\n|HL Mountain Frame - Black, 42 |Black |42  |5             |\n|HL Mountain Frame - Black, 44 |Black |44  |5             |\n|HL Mountain Frame - Black, 48 |Black |48  |5             |\n|HL Mountain Frame - Black, 46 |Black |46  |5             |\n|HL Mountain Frame - Black, 38 |Black |38  |5             |\n|HL Mountain Frame - Silver, 38|Silver|38  |5             |\n+------------------------------+------+----+--------------+\n\n"
     ]
    }
   ],
   "source": [
    "required_df = df.filter(df.ProductModelID == 5)\n",
    "\n",
    "product5_det_df = required_df.select(\"Name\", \"Color\", \"Size\", \"ProductModelID\")\n",
    "\n",
    "product5_det_df.show(truncate=False)"
   ]
  },
  {
   "cell_type": "markdown",
   "metadata": {
    "application/vnd.databricks.v1+cell": {
     "cellMetadata": {
      "byteLimit": 2048000,
      "rowLimit": 10000
     },
     "inputWidgets": {},
     "nuid": "c961a430-7293-4f8d-b3f9-c4070c1e235e",
     "showTitle": false,
     "tableResultSettingsMap": {},
     "title": ""
    }
   },
   "source": [
    "##### Using Spark SQL"
   ]
  },
  {
   "cell_type": "code",
   "execution_count": 0,
   "metadata": {
    "application/vnd.databricks.v1+cell": {
     "cellMetadata": {
      "byteLimit": 2048000,
      "implicitDf": true,
      "rowLimit": 10000
     },
     "inputWidgets": {},
     "nuid": "4332a9af-30c6-4395-b25e-c6147aad93dd",
     "showTitle": false,
     "tableResultSettingsMap": {},
     "title": ""
    }
   },
   "outputs": [
    {
     "output_type": "display_data",
     "data": {
      "text/html": [
       "<style scoped>\n",
       "  .table-result-container {\n",
       "    max-height: 300px;\n",
       "    overflow: auto;\n",
       "  }\n",
       "  table, th, td {\n",
       "    border: 1px solid black;\n",
       "    border-collapse: collapse;\n",
       "  }\n",
       "  th, td {\n",
       "    padding: 5px;\n",
       "  }\n",
       "  th {\n",
       "    text-align: left;\n",
       "  }\n",
       "</style><div class='table-result-container'><table class='table-result'><thead style='background-color: white'><tr><th>Name</th><th>Color</th><th>Size</th><th>ProductModelID</th></tr></thead><tbody><tr><td>HL Mountain Frame - Silver, 42</td><td>Silver</td><td>42</td><td>5</td></tr><tr><td>HL Mountain Frame - Silver, 44</td><td>Silver</td><td>44</td><td>5</td></tr><tr><td>HL Mountain Frame - Silver, 48</td><td>Silver</td><td>48</td><td>5</td></tr><tr><td>HL Mountain Frame - Silver, 46</td><td>Silver</td><td>46</td><td>5</td></tr><tr><td>HL Mountain Frame - Black, 42</td><td>Black</td><td>42</td><td>5</td></tr><tr><td>HL Mountain Frame - Black, 44</td><td>Black</td><td>44</td><td>5</td></tr><tr><td>HL Mountain Frame - Black, 48</td><td>Black</td><td>48</td><td>5</td></tr><tr><td>HL Mountain Frame - Black, 46</td><td>Black</td><td>46</td><td>5</td></tr><tr><td>HL Mountain Frame - Black, 38</td><td>Black</td><td>38</td><td>5</td></tr><tr><td>HL Mountain Frame - Silver, 38</td><td>Silver</td><td>38</td><td>5</td></tr></tbody></table></div>"
      ]
     },
     "metadata": {
      "application/vnd.databricks.v1+output": {
       "addedWidgets": {},
       "aggData": [],
       "aggError": "",
       "aggOverflow": false,
       "aggSchema": [],
       "aggSeriesLimitReached": false,
       "aggType": "",
       "arguments": {},
       "columnCustomDisplayInfos": {},
       "data": [
        [
         "HL Mountain Frame - Silver, 42",
         "Silver",
         "42",
         "5"
        ],
        [
         "HL Mountain Frame - Silver, 44",
         "Silver",
         "44",
         "5"
        ],
        [
         "HL Mountain Frame - Silver, 48",
         "Silver",
         "48",
         "5"
        ],
        [
         "HL Mountain Frame - Silver, 46",
         "Silver",
         "46",
         "5"
        ],
        [
         "HL Mountain Frame - Black, 42",
         "Black",
         "42",
         "5"
        ],
        [
         "HL Mountain Frame - Black, 44",
         "Black",
         "44",
         "5"
        ],
        [
         "HL Mountain Frame - Black, 48",
         "Black",
         "48",
         "5"
        ],
        [
         "HL Mountain Frame - Black, 46",
         "Black",
         "46",
         "5"
        ],
        [
         "HL Mountain Frame - Black, 38",
         "Black",
         "38",
         "5"
        ],
        [
         "HL Mountain Frame - Silver, 38",
         "Silver",
         "38",
         "5"
        ]
       ],
       "datasetInfos": [],
       "dbfsResultPath": null,
       "isJsonSchema": true,
       "metadata": {},
       "overflow": false,
       "plotOptions": {
        "customPlotOptions": {},
        "displayType": "table",
        "pivotAggregation": null,
        "pivotColumns": null,
        "xColumns": null,
        "yColumns": null
       },
       "removedWidgets": [],
       "schema": [
        {
         "metadata": "{}",
         "name": "Name",
         "type": "\"string\""
        },
        {
         "metadata": "{}",
         "name": "Color",
         "type": "\"string\""
        },
        {
         "metadata": "{}",
         "name": "Size",
         "type": "\"string\""
        },
        {
         "metadata": "{}",
         "name": "ProductModelID",
         "type": "\"string\""
        }
       ],
       "type": "table"
      }
     },
     "output_type": "display_data"
    }
   ],
   "source": [
    "%sql\n",
    "SELECT Name, Color, Size, ProductModelID\n",
    "FROM df_table\n",
    "WHERE ProductModelID = 5"
   ]
  },
  {
   "cell_type": "markdown",
   "metadata": {
    "application/vnd.databricks.v1+cell": {
     "cellMetadata": {
      "byteLimit": 2048000,
      "rowLimit": 10000
     },
     "inputWidgets": {},
     "nuid": "e3c9fc97-d853-479d-bbe2-134342535de9",
     "showTitle": false,
     "tableResultSettingsMap": {},
     "title": ""
    }
   },
   "source": [
    "#### 3. Retrieve the name and product number of the products that have a color of 'black', 'red', or 'white' and a size of 'S' or 'M'"
   ]
  },
  {
   "cell_type": "markdown",
   "metadata": {
    "application/vnd.databricks.v1+cell": {
     "cellMetadata": {
      "byteLimit": 2048000,
      "rowLimit": 10000
     },
     "inputWidgets": {},
     "nuid": "31174ab6-690a-42de-becb-5452c1e902bf",
     "showTitle": false,
     "tableResultSettingsMap": {},
     "title": ""
    }
   },
   "source": [
    "##### Using RDD"
   ]
  },
  {
   "cell_type": "code",
   "execution_count": 0,
   "metadata": {
    "application/vnd.databricks.v1+cell": {
     "cellMetadata": {
      "byteLimit": 2048000,
      "rowLimit": 10000
     },
     "inputWidgets": {},
     "nuid": "1b99ae62-4b55-4e7f-b27e-80f79909aeca",
     "showTitle": false,
     "tableResultSettingsMap": {},
     "title": ""
    }
   },
   "outputs": [
    {
     "output_type": "stream",
     "name": "stdout",
     "output_type": "stream",
     "text": [
      "Out[61]: [('Mountain Bike Socks, M', 'SO-B909-M', 'White', 'M'),\n (\"Men's Sports Shorts, S\", 'SH-M897-S', 'Black', 'S'),\n (\"Men's Sports Shorts, M\", 'SH-M897-M', 'Black', 'M'),\n (\"Women's Tights, S\", 'TG-W091-S', 'Black', 'S'),\n (\"Women's Tights, M\", 'TG-W091-M', 'Black', 'M'),\n ('Half-Finger Gloves, S', 'GL-H102-S', 'Black', 'S'),\n ('Half-Finger Gloves, M', 'GL-H102-M', 'Black', 'M'),\n ('Full-Finger Gloves, S', 'GL-F110-S', 'Black', 'S'),\n ('Full-Finger Gloves, M', 'GL-F110-M', 'Black', 'M'),\n (\"Women's Mountain Shorts, S\", 'SH-W890-S', 'Black', 'S'),\n (\"Women's Mountain Shorts, M\", 'SH-W890-M', 'Black', 'M'),\n ('Racing Socks, M', 'SO-R809-M', 'White', 'M')]"
     ]
    }
   ],
   "source": [
    "colors = [\"White\",\"Black\",\"Red\"]\n",
    "sizes = [\"S\",\"M\"]\n",
    "\n",
    "(content.filter(lambda line: line.split(\"\\t\")[6] in sizes)\n",
    ".filter(lambda line: line.split(\"\\t\")[3] in colors)\n",
    ".map(lambda line: (line.split(\"\\t\")[1],line.split(\"\\t\")[2], line.split(\"\\t\")[3],line.split(\"\\t\")[6]))\n",
    " .collect()\n",
    ")"
   ]
  },
  {
   "cell_type": "markdown",
   "metadata": {
    "application/vnd.databricks.v1+cell": {
     "cellMetadata": {
      "byteLimit": 2048000,
      "rowLimit": 10000
     },
     "inputWidgets": {},
     "nuid": "895cbde1-b7ef-49fd-9c0f-696369f27128",
     "showTitle": false,
     "tableResultSettingsMap": {},
     "title": ""
    }
   },
   "source": [
    "##### Using Spark Dataframe"
   ]
  },
  {
   "cell_type": "code",
   "execution_count": 0,
   "metadata": {
    "application/vnd.databricks.v1+cell": {
     "cellMetadata": {
      "byteLimit": 2048000,
      "rowLimit": 10000
     },
     "inputWidgets": {},
     "nuid": "17a831f7-0cb4-43f2-8bbb-77b1e035ade8",
     "showTitle": false,
     "tableResultSettingsMap": {},
     "title": ""
    }
   },
   "outputs": [
    {
     "output_type": "stream",
     "name": "stdout",
     "output_type": "stream",
     "text": [
      "+--------------------------+--------------+\n|Name                      |ProductModelID|\n+--------------------------+--------------+\n|Mountain Bike Socks, M    |18            |\n|Men's Sports Shorts, S    |13            |\n|Men's Sports Shorts, M    |13            |\n|Women's Tights, S         |38            |\n|Women's Tights, M         |38            |\n|Half-Finger Gloves, S     |4             |\n|Half-Finger Gloves, M     |4             |\n|Full-Finger Gloves, S     |3             |\n|Full-Finger Gloves, M     |3             |\n|Women's Mountain Shorts, S|37            |\n|Women's Mountain Shorts, M|37            |\n|Racing Socks, M           |24            |\n+--------------------------+--------------+\n\n"
     ]
    }
   ],
   "source": [
    "required_df = df.filter((df.Color.isin('Black', 'Red', 'White')) & (df.Size.isin('S', 'M')))\n",
    "\n",
    "product_details_df = required_df.select(\"Name\", \"ProductModelID\")\n",
    "\n",
    "product_details_df.show(truncate=False)\n",
    "\n"
   ]
  },
  {
   "cell_type": "markdown",
   "metadata": {
    "application/vnd.databricks.v1+cell": {
     "cellMetadata": {
      "byteLimit": 2048000,
      "rowLimit": 10000
     },
     "inputWidgets": {},
     "nuid": "15ba2bdf-70ae-4dcf-b00a-fdd80f352e96",
     "showTitle": false,
     "tableResultSettingsMap": {},
     "title": ""
    }
   },
   "source": [
    "##### Using Spark SQL"
   ]
  },
  {
   "cell_type": "code",
   "execution_count": 0,
   "metadata": {
    "application/vnd.databricks.v1+cell": {
     "cellMetadata": {
      "byteLimit": 2048000,
      "implicitDf": true,
      "rowLimit": 10000
     },
     "inputWidgets": {},
     "nuid": "da3463c2-f9b1-480a-ab44-c69af4275b91",
     "showTitle": false,
     "tableResultSettingsMap": {},
     "title": ""
    }
   },
   "outputs": [
    {
     "output_type": "display_data",
     "data": {
      "text/html": [
       "<style scoped>\n",
       "  .table-result-container {\n",
       "    max-height: 300px;\n",
       "    overflow: auto;\n",
       "  }\n",
       "  table, th, td {\n",
       "    border: 1px solid black;\n",
       "    border-collapse: collapse;\n",
       "  }\n",
       "  th, td {\n",
       "    padding: 5px;\n",
       "  }\n",
       "  th {\n",
       "    text-align: left;\n",
       "  }\n",
       "</style><div class='table-result-container'><table class='table-result'><thead style='background-color: white'><tr><th>Name</th><th>ProductModelID</th></tr></thead><tbody><tr><td>Mountain Bike Socks, M</td><td>18</td></tr><tr><td>Men's Sports Shorts, S</td><td>13</td></tr><tr><td>Men's Sports Shorts, M</td><td>13</td></tr><tr><td>Women's Tights, S</td><td>38</td></tr><tr><td>Women's Tights, M</td><td>38</td></tr><tr><td>Half-Finger Gloves, S</td><td>4</td></tr><tr><td>Half-Finger Gloves, M</td><td>4</td></tr><tr><td>Full-Finger Gloves, S</td><td>3</td></tr><tr><td>Full-Finger Gloves, M</td><td>3</td></tr><tr><td>Women's Mountain Shorts, S</td><td>37</td></tr><tr><td>Women's Mountain Shorts, M</td><td>37</td></tr><tr><td>Racing Socks, M</td><td>24</td></tr></tbody></table></div>"
      ]
     },
     "metadata": {
      "application/vnd.databricks.v1+output": {
       "addedWidgets": {},
       "aggData": [],
       "aggError": "",
       "aggOverflow": false,
       "aggSchema": [],
       "aggSeriesLimitReached": false,
       "aggType": "",
       "arguments": {},
       "columnCustomDisplayInfos": {},
       "data": [
        [
         "Mountain Bike Socks, M",
         "18"
        ],
        [
         "Men's Sports Shorts, S",
         "13"
        ],
        [
         "Men's Sports Shorts, M",
         "13"
        ],
        [
         "Women's Tights, S",
         "38"
        ],
        [
         "Women's Tights, M",
         "38"
        ],
        [
         "Half-Finger Gloves, S",
         "4"
        ],
        [
         "Half-Finger Gloves, M",
         "4"
        ],
        [
         "Full-Finger Gloves, S",
         "3"
        ],
        [
         "Full-Finger Gloves, M",
         "3"
        ],
        [
         "Women's Mountain Shorts, S",
         "37"
        ],
        [
         "Women's Mountain Shorts, M",
         "37"
        ],
        [
         "Racing Socks, M",
         "24"
        ]
       ],
       "datasetInfos": [],
       "dbfsResultPath": null,
       "isJsonSchema": true,
       "metadata": {},
       "overflow": false,
       "plotOptions": {
        "customPlotOptions": {},
        "displayType": "table",
        "pivotAggregation": null,
        "pivotColumns": null,
        "xColumns": null,
        "yColumns": null
       },
       "removedWidgets": [],
       "schema": [
        {
         "metadata": "{}",
         "name": "Name",
         "type": "\"string\""
        },
        {
         "metadata": "{}",
         "name": "ProductModelID",
         "type": "\"string\""
        }
       ],
       "type": "table"
      }
     },
     "output_type": "display_data"
    }
   ],
   "source": [
    "%sql\n",
    "SELECT Name, ProductModelID\n",
    "FROM df_table\n",
    "WHERE Color IN ('Black', 'Red', 'White')\n",
    "  AND Size IN ('S', 'M')"
   ]
  },
  {
   "cell_type": "markdown",
   "metadata": {
    "application/vnd.databricks.v1+cell": {
     "cellMetadata": {
      "byteLimit": 2048000,
      "rowLimit": 10000
     },
     "inputWidgets": {},
     "nuid": "3280d1e9-90e3-4a1b-9ceb-6283c93680a2",
     "showTitle": false,
     "tableResultSettingsMap": {},
     "title": ""
    }
   },
   "source": [
    "#### 4. Retrieve the product name, product number, color and list price of products whose product number begins with 'BK-'. Retrieve only 15 records and Sort the price in descending order"
   ]
  },
  {
   "cell_type": "markdown",
   "metadata": {
    "application/vnd.databricks.v1+cell": {
     "cellMetadata": {
      "byteLimit": 2048000,
      "rowLimit": 10000
     },
     "inputWidgets": {},
     "nuid": "9f7884c4-f177-4bc9-ab8a-8512fdbc8c4f",
     "showTitle": false,
     "tableResultSettingsMap": {},
     "title": ""
    }
   },
   "source": [
    "##### Using RDD"
   ]
  },
  {
   "cell_type": "code",
   "execution_count": 0,
   "metadata": {
    "application/vnd.databricks.v1+cell": {
     "cellMetadata": {
      "byteLimit": 2048000,
      "rowLimit": 10000
     },
     "inputWidgets": {},
     "nuid": "2f57b2b8-877f-4cd1-9a22-d0f6e450a175",
     "showTitle": false,
     "tableResultSettingsMap": {},
     "title": ""
    }
   },
   "outputs": [
    {
     "output_type": "stream",
     "name": "stdout",
     "output_type": "stream",
     "text": [
      "Out[66]: [('Road-150 Red, 62', 'BK-R93R-62', 'Red', 3578.27),\n ('Road-150 Red, 44', 'BK-R93R-44', 'Red', 3578.27),\n ('Road-150 Red, 48', 'BK-R93R-48', 'Red', 3578.27),\n ('Road-150 Red, 52', 'BK-R93R-52', 'Red', 3578.27),\n ('Road-150 Red, 56', 'BK-R93R-56', 'Red', 3578.27),\n ('Mountain-100 Silver, 38', 'BK-M82S-38', 'Silver', 3399.99),\n ('Mountain-100 Silver, 42', 'BK-M82S-42', 'Silver', 3399.99),\n ('Mountain-100 Silver, 44', 'BK-M82S-44', 'Silver', 3399.99),\n ('Mountain-100 Silver, 48', 'BK-M82S-48', 'Silver', 3399.99),\n ('Mountain-100 Black, 38', 'BK-M82B-38', 'Black', 3374.99),\n ('Mountain-100 Black, 42', 'BK-M82B-42', 'Black', 3374.99),\n ('Mountain-100 Black, 44', 'BK-M82B-44', 'Black', 3374.99),\n ('Mountain-100 Black, 48', 'BK-M82B-48', 'Black', 3374.99),\n ('Road-250 Red, 44', 'BK-R89R-44', 'Red', 2443.35),\n ('Road-250 Red, 48', 'BK-R89R-48', 'Red', 2443.35)]"
     ]
    }
   ],
   "source": [
    "(content.filter(lambda line: \"BK\" in line.split(\"\\t\")[2])\n",
    " .map(lambda line: (line.split(\"\\t\")[1], line.split(\"\\t\")[2], line.split(\"\\t\")[3], float(line.split(\"\\t\")[5])))\n",
    ".takeOrdered(15, lambda x: -x[3]))"
   ]
  },
  {
   "cell_type": "markdown",
   "metadata": {
    "application/vnd.databricks.v1+cell": {
     "cellMetadata": {
      "byteLimit": 2048000,
      "rowLimit": 10000
     },
     "inputWidgets": {},
     "nuid": "7215148c-38cc-4abf-a1a7-2cdaf49bd379",
     "showTitle": false,
     "tableResultSettingsMap": {},
     "title": ""
    }
   },
   "source": [
    "##### Using Spark Dataframe"
   ]
  },
  {
   "cell_type": "code",
   "execution_count": 0,
   "metadata": {
    "application/vnd.databricks.v1+cell": {
     "cellMetadata": {
      "byteLimit": 2048000,
      "rowLimit": 10000
     },
     "inputWidgets": {},
     "nuid": "0c33ad13-fd2c-4b55-85cc-091d3a453573",
     "showTitle": false,
     "tableResultSettingsMap": {},
     "title": ""
    }
   },
   "outputs": [
    {
     "output_type": "stream",
     "name": "stdout",
     "output_type": "stream",
     "text": [
      "+-------------------------+--------------+------+---------+\n|Name                     |ProductModelID|Color |ListPrice|\n+-------------------------+--------------+------+---------+\n|Road-650 Black, 52       |30            |Black |782.99   |\n|Road-650 Black, 62       |30            |Black |782.99   |\n|Road-650 Red, 58         |30            |Red   |782.99   |\n|Road-650 Red, 60         |30            |Red   |782.99   |\n|Road-650 Red, 62         |30            |Red   |782.99   |\n|Road-650 Red, 44         |30            |Red   |782.99   |\n|Road-650 Red, 48         |30            |Red   |782.99   |\n|Road-650 Red, 52         |30            |Red   |782.99   |\n|Road-650 Black, 58       |30            |Black |782.99   |\n|Road-650 Black, 60       |30            |Black |782.99   |\n|Road-650 Black, 44       |30            |Black |782.99   |\n|Road-650 Black, 48       |30            |Black |782.99   |\n|Mountain-400-W Silver, 38|22            |Silver|769.49   |\n|Mountain-400-W Silver, 40|22            |Silver|769.49   |\n|Mountain-400-W Silver, 42|22            |Silver|769.49   |\n|Mountain-400-W Silver, 46|22            |Silver|769.49   |\n|Touring-3000 Blue, 54    |36            |Blue  |742.35   |\n|Touring-3000 Blue, 58    |36            |Blue  |742.35   |\n|Touring-3000 Blue, 62    |36            |Blue  |742.35   |\n|Touring-3000 Yellow, 44  |36            |Yellow|742.35   |\n+-------------------------+--------------+------+---------+\nonly showing top 20 rows\n\n"
     ]
    }
   ],
   "source": [
    "filtered_df = df.filter(df.ProductNumber.startswith(\"BK-\"))\n",
    "\n",
    "required_df = filtered_df.orderBy(df.ListPrice, ascending=False)\n",
    "\n",
    "product_details_df = required_df.select(\"Name\", \"ProductModelID\", \"Color\", \"ListPrice\")\n",
    "\n",
    "product_details_df.show(truncate=False)\n"
   ]
  },
  {
   "cell_type": "markdown",
   "metadata": {
    "application/vnd.databricks.v1+cell": {
     "cellMetadata": {
      "byteLimit": 2048000,
      "rowLimit": 10000
     },
     "inputWidgets": {},
     "nuid": "6193a402-fe07-4770-92fa-51e26816d3b7",
     "showTitle": false,
     "tableResultSettingsMap": {},
     "title": ""
    }
   },
   "source": [
    "##### Using Spark SQL"
   ]
  },
  {
   "cell_type": "code",
   "execution_count": 0,
   "metadata": {
    "application/vnd.databricks.v1+cell": {
     "cellMetadata": {
      "byteLimit": 2048000,
      "implicitDf": true,
      "rowLimit": 10000
     },
     "inputWidgets": {},
     "nuid": "820deb27-888e-45b3-8ec2-e61a3dc1a14b",
     "showTitle": false,
     "tableResultSettingsMap": {},
     "title": ""
    }
   },
   "outputs": [
    {
     "output_type": "display_data",
     "data": {
      "text/html": [
       "<style scoped>\n",
       "  .table-result-container {\n",
       "    max-height: 300px;\n",
       "    overflow: auto;\n",
       "  }\n",
       "  table, th, td {\n",
       "    border: 1px solid black;\n",
       "    border-collapse: collapse;\n",
       "  }\n",
       "  th, td {\n",
       "    padding: 5px;\n",
       "  }\n",
       "  th {\n",
       "    text-align: left;\n",
       "  }\n",
       "</style><div class='table-result-container'><table class='table-result'><thead style='background-color: white'><tr><th>Name</th><th>ProductModelID</th><th>Color</th><th>ListPrice</th></tr></thead><tbody><tr><td>Road-650 Red, 52</td><td>30</td><td>Red</td><td>782.99</td></tr><tr><td>Road-650 Black, 58</td><td>30</td><td>Black</td><td>782.99</td></tr><tr><td>Road-650 Red, 48</td><td>30</td><td>Red</td><td>782.99</td></tr><tr><td>Road-650 Red, 58</td><td>30</td><td>Red</td><td>782.99</td></tr><tr><td>Road-650 Red, 60</td><td>30</td><td>Red</td><td>782.99</td></tr><tr><td>Road-650 Red, 62</td><td>30</td><td>Red</td><td>782.99</td></tr><tr><td>Road-650 Red, 44</td><td>30</td><td>Red</td><td>782.99</td></tr><tr><td>Road-650 Black, 52</td><td>30</td><td>Black</td><td>782.99</td></tr><tr><td>Road-650 Black, 60</td><td>30</td><td>Black</td><td>782.99</td></tr><tr><td>Road-650 Black, 62</td><td>30</td><td>Black</td><td>782.99</td></tr><tr><td>Road-650 Black, 44</td><td>30</td><td>Black</td><td>782.99</td></tr><tr><td>Road-650 Black, 48</td><td>30</td><td>Black</td><td>782.99</td></tr><tr><td>Mountain-400-W Silver, 38</td><td>22</td><td>Silver</td><td>769.49</td></tr><tr><td>Mountain-400-W Silver, 40</td><td>22</td><td>Silver</td><td>769.49</td></tr><tr><td>Mountain-400-W Silver, 42</td><td>22</td><td>Silver</td><td>769.49</td></tr></tbody></table></div>"
      ]
     },
     "metadata": {
      "application/vnd.databricks.v1+output": {
       "addedWidgets": {},
       "aggData": [],
       "aggError": "",
       "aggOverflow": false,
       "aggSchema": [],
       "aggSeriesLimitReached": false,
       "aggType": "",
       "arguments": {},
       "columnCustomDisplayInfos": {},
       "data": [
        [
         "Road-650 Red, 52",
         "30",
         "Red",
         "782.99"
        ],
        [
         "Road-650 Black, 58",
         "30",
         "Black",
         "782.99"
        ],
        [
         "Road-650 Red, 48",
         "30",
         "Red",
         "782.99"
        ],
        [
         "Road-650 Red, 58",
         "30",
         "Red",
         "782.99"
        ],
        [
         "Road-650 Red, 60",
         "30",
         "Red",
         "782.99"
        ],
        [
         "Road-650 Red, 62",
         "30",
         "Red",
         "782.99"
        ],
        [
         "Road-650 Red, 44",
         "30",
         "Red",
         "782.99"
        ],
        [
         "Road-650 Black, 52",
         "30",
         "Black",
         "782.99"
        ],
        [
         "Road-650 Black, 60",
         "30",
         "Black",
         "782.99"
        ],
        [
         "Road-650 Black, 62",
         "30",
         "Black",
         "782.99"
        ],
        [
         "Road-650 Black, 44",
         "30",
         "Black",
         "782.99"
        ],
        [
         "Road-650 Black, 48",
         "30",
         "Black",
         "782.99"
        ],
        [
         "Mountain-400-W Silver, 38",
         "22",
         "Silver",
         "769.49"
        ],
        [
         "Mountain-400-W Silver, 40",
         "22",
         "Silver",
         "769.49"
        ],
        [
         "Mountain-400-W Silver, 42",
         "22",
         "Silver",
         "769.49"
        ]
       ],
       "datasetInfos": [],
       "dbfsResultPath": null,
       "isJsonSchema": true,
       "metadata": {},
       "overflow": false,
       "plotOptions": {
        "customPlotOptions": {},
        "displayType": "table",
        "pivotAggregation": null,
        "pivotColumns": null,
        "xColumns": null,
        "yColumns": null
       },
       "removedWidgets": [],
       "schema": [
        {
         "metadata": "{}",
         "name": "Name",
         "type": "\"string\""
        },
        {
         "metadata": "{}",
         "name": "ProductModelID",
         "type": "\"string\""
        },
        {
         "metadata": "{}",
         "name": "Color",
         "type": "\"string\""
        },
        {
         "metadata": "{}",
         "name": "ListPrice",
         "type": "\"string\""
        }
       ],
       "type": "table"
      }
     },
     "output_type": "display_data"
    }
   ],
   "source": [
    "%sql\n",
    "SELECT Name, ProductModelID, Color, ListPrice\n",
    "FROM df_table\n",
    "WHERE ProductNumber LIKE 'BK-%'\n",
    "ORDER BY ListPrice DESC\n",
    "LIMIT 15"
   ]
  },
  {
   "cell_type": "markdown",
   "metadata": {
    "application/vnd.databricks.v1+cell": {
     "cellMetadata": {
      "byteLimit": 2048000,
      "rowLimit": 10000
     },
     "inputWidgets": {},
     "nuid": "cec197c9-eb1f-4b42-976d-45c12a0c2cc3",
     "showTitle": false,
     "tableResultSettingsMap": {},
     "title": ""
    }
   },
   "source": [
    "#### 5. Visualize Average List Price per Color and Average List Price per Size. Discuss/Explain your results."
   ]
  },
  {
   "cell_type": "code",
   "execution_count": 0,
   "metadata": {
    "application/vnd.databricks.v1+cell": {
     "cellMetadata": {
      "byteLimit": 2048000,
      "rowLimit": 10000
     },
     "inputWidgets": {},
     "nuid": "f36fa09b-85ee-4ede-8c8c-7bb9ad9429a5",
     "showTitle": false,
     "tableResultSettingsMap": {},
     "title": ""
    }
   },
   "outputs": [],
   "source": [
    "import pandas as pd\n",
    "import matplotlib\n",
    "import matplotlib.pyplot as plt\n",
    "from pyspark.sql import functions as F\n",
    "%matplotlib inline"
   ]
  },
  {
   "cell_type": "code",
   "execution_count": 0,
   "metadata": {
    "application/vnd.databricks.v1+cell": {
     "cellMetadata": {
      "byteLimit": 2048000,
      "rowLimit": 10000
     },
     "inputWidgets": {},
     "nuid": "ad7e9cf5-f424-4b09-af34-df53c021f43a",
     "showTitle": false,
     "tableResultSettingsMap": {},
     "title": ""
    }
   },
   "outputs": [
    {
     "output_type": "display_data",
     "data": {
      "image/png": "[encoded data removed]"
     },
     "metadata": {
      "application/vnd.databricks.v1+output": {
       "addedWidgets": {},
       "arguments": {},
       "data": "data:image/png;base64,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\n",
       "datasetInfos": [],
       "metadata": {},
       "removedWidgets": [],
       "type": "image"
      }
     },
     "output_type": "display_data"
    }
   ],
   "source": [
    "from pyspark.sql.functions import col\n",
    "\n",
    "df = df.withColumn(\"ListPrice\", col(\"ListPrice\").cast(\"float\"))\n",
    "\n",
    "avg_price_color = df.groupBy(\"Color\").avg(\"ListPrice\").collect()\n",
    "avg_price_size = df.groupBy(\"Size\").avg(\"ListPrice\").collect()\n",
    "\n",
    "avg_price_color_df = pd.DataFrame(avg_price_color, columns=[\"Color\", \"AvgListPrice\"])\n",
    "avg_price_size_df = pd.DataFrame(avg_price_size, columns=[\"Size\", \"AvgListPrice\"])\n",
    "\n",
    "\n",
    "plt.figure(figsize=(12, 6))\n",
    "\n",
    "plt.subplot(1, 2, 1)\n",
    "plt.bar(avg_price_color_df[\"Color\"], avg_price_color_df[\"AvgListPrice\"], color='red')\n",
    "plt.title(\"Average List Price per Color\")\n",
    "plt.xlabel(\"Color\")\n",
    "plt.ylabel(\"Average List Price\")\n",
    "plt.xticks(rotation=45)\n",
    "plt.subplot(1, 2, 2)\n",
    "plt.bar(avg_price_size_df[\"Size\"], avg_price_size_df[\"AvgListPrice\"], color='blue')\n",
    "plt.title(\"Average List Price per Size\")\n",
    "plt.xlabel(\"Size\")\n",
    "plt.ylabel(\"Average List Price\")\n",
    "plt.xticks(rotation=45)\n",
    "plt.tight_layout()\n",
    "plt.show()\n"
   ]
  },
  {
   "cell_type": "markdown",
   "metadata": {
    "application/vnd.databricks.v1+cell": {
     "cellMetadata": {},
     "inputWidgets": {},
     "nuid": "c42a005b-6fe2-4736-b1e9-7de0563f2f50",
     "showTitle": false,
     "tableResultSettingsMap": {},
     "title": ""
    }
   },
   "source": [
    "We can observe that the highest average list price is for red products, with the second highest product color in demand being silver. We can also see that the least listed average price is for white products.\n",
    "\n",
    "Similarly, we can observe that the highest listed average price is for size 56, and that is high by quite a dominant margin. "
   ]
  },
  {
   "cell_type": "markdown",
   "metadata": {
    "application/vnd.databricks.v1+cell": {
     "cellMetadata": {
      "byteLimit": 2048000,
      "rowLimit": 10000
     },
     "inputWidgets": {},
     "nuid": "3c3731a0-f63d-46fe-87de-416efca7b8ae",
     "showTitle": false,
     "tableResultSettingsMap": {},
     "title": ""
    }
   },
   "source": [
    "#### 6. Visualize Total Count per Size. Discuss/Explain your results."
   ]
  },
  {
   "cell_type": "code",
   "execution_count": 0,
   "metadata": {
    "application/vnd.databricks.v1+cell": {
     "cellMetadata": {
      "byteLimit": 2048000,
      "rowLimit": 10000
     },
     "inputWidgets": {},
     "nuid": "7d9e8ea0-b441-41c5-be1e-7b93801de3f5",
     "showTitle": false,
     "tableResultSettingsMap": {},
     "title": ""
    }
   },
   "outputs": [
    {
     "output_type": "display_data",
     "data": {
      "image/png": "[encoded data removed]"
     },
     "metadata": {
      "application/vnd.databricks.v1+output": {
       "addedWidgets": {},
       "arguments": {},
       "data": "data:image/png;base64,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\n",
       "datasetInfos": [],
       "metadata": {},
       "removedWidgets": [],
       "type": "image"
      }
     },
     "output_type": "display_data"
    }
   ],
   "source": [
    "size_count_df = df.groupBy(\"Size\").count()\n",
    "\n",
    "size_count_pd = size_count_df.toPandas()\n",
    "\n",
    "\n",
    "plt.figure(figsize=(12, 6))\n",
    "\n",
    "plt.bar(size_count_pd[\"Size\"], size_count_pd[\"count\"], color='purple')\n",
    "plt.title(\"Total Count per Size\")\n",
    "plt.xlabel(\"Size\")\n",
    "plt.ylabel(\"Total Count\")\n",
    "plt.xticks(rotation=45)\n",
    "\n",
    "plt.tight_layout()\n",
    "plt.show()\n"
   ]
  },
  {
   "cell_type": "markdown",
   "metadata": {
    "application/vnd.databricks.v1+cell": {
     "cellMetadata": {},
     "inputWidgets": {},
     "nuid": "9dfab365-d935-4159-8820-8cf815ea2f20",
     "showTitle": false,
     "tableResultSettingsMap": {},
     "title": ""
    }
   },
   "source": [
    "Total count in non null values is highest for size 44. And it is not surprising that the second least count is for 56 size, which was with the most highly listed average price as well. This might be due to high supply and low demand."
   ]
  },
  {
   "cell_type": "markdown",
   "metadata": {
    "application/vnd.databricks.v1+cell": {
     "cellMetadata": {
      "byteLimit": 2048000,
      "rowLimit": 10000
     },
     "inputWidgets": {},
     "nuid": "65b7c02f-106d-4dc6-a681-2708a2b3de5a",
     "showTitle": false,
     "tableResultSettingsMap": {},
     "title": ""
    }
   },
   "source": [
    "# Using Machine Learning Library (For Practice)"
   ]
  },
  {
   "cell_type": "code",
   "execution_count": 0,
   "metadata": {
    "application/vnd.databricks.v1+cell": {
     "cellMetadata": {
      "byteLimit": 2048000,
      "rowLimit": 10000
     },
     "inputWidgets": {},
     "nuid": "d7350414-127d-4e37-8aa0-cdc43f8f0bd4",
     "showTitle": false,
     "tableResultSettingsMap": {},
     "title": ""
    }
   },
   "outputs": [
    {
     "output_type": "display_data",
     "data": {
      "text/plain": [
       ""
      ]
     },
     "metadata": {
      "application/vnd.databricks.v1+output": {
       "arguments": {},
       "data": "",
       "errorSummary": "Command skipped",
       "errorTraceType": "ansi",
       "metadata": {},
       "type": "ipynbError"
      }
     },
     "output_type": "display_data"
    }
   ],
   "source": [
    "dfall = df.select(df.Weight.cast(\"float\"), df.Size.cast(\"float\"), df.ListPrice.cast(\"float\"))\n",
    "dfall.show(5, truncate=False)"
   ]
  },
  {
   "cell_type": "code",
   "execution_count": 0,
   "metadata": {
    "application/vnd.databricks.v1+cell": {
     "cellMetadata": {
      "byteLimit": 2048000,
      "rowLimit": 10000
     },
     "inputWidgets": {},
     "nuid": "c11425a9-aacd-43d0-882c-eb0a0002c6cf",
     "showTitle": false,
     "tableResultSettingsMap": {},
     "title": ""
    }
   },
   "outputs": [
    {
     "output_type": "display_data",
     "data": {
      "text/plain": [
       ""
      ]
     },
     "metadata": {
      "application/vnd.databricks.v1+output": {
       "arguments": {},
       "data": "",
       "errorSummary": "Command skipped",
       "errorTraceType": "ansi",
       "metadata": {},
       "type": "ipynbError"
      }
     },
     "output_type": "display_data"
    }
   ],
   "source": [
    "dfall = dfall.na.drop(\"any\")"
   ]
  },
  {
   "cell_type": "code",
   "execution_count": 0,
   "metadata": {
    "application/vnd.databricks.v1+cell": {
     "cellMetadata": {
      "byteLimit": 2048000,
      "rowLimit": 10000
     },
     "inputWidgets": {},
     "nuid": "653da381-78ec-470d-8994-825d252cea19",
     "showTitle": false,
     "tableResultSettingsMap": {},
     "title": ""
    }
   },
   "outputs": [
    {
     "output_type": "display_data",
     "data": {
      "text/plain": [
       ""
      ]
     },
     "metadata": {
      "application/vnd.databricks.v1+output": {
       "arguments": {},
       "data": "",
       "errorSummary": "Command skipped",
       "errorTraceType": "ansi",
       "metadata": {},
       "type": "ipynbError"
      }
     },
     "output_type": "display_data"
    }
   ],
   "source": [
    "feature_columns = dfall.columns[:-1] # here we omit the final column for prediction\n",
    "from pyspark.ml.feature import VectorAssembler\n",
    "assembler = VectorAssembler(inputCols=feature_columns,outputCol=\"features\")"
   ]
  },
  {
   "cell_type": "code",
   "execution_count": 0,
   "metadata": {
    "application/vnd.databricks.v1+cell": {
     "cellMetadata": {
      "byteLimit": 2048000,
      "rowLimit": 10000
     },
     "inputWidgets": {},
     "nuid": "e2c5c2ab-8358-49e4-bd21-dc252e5848a5",
     "showTitle": false,
     "tableResultSettingsMap": {},
     "title": ""
    }
   },
   "outputs": [
    {
     "output_type": "display_data",
     "data": {
      "text/plain": [
       ""
      ]
     },
     "metadata": {
      "application/vnd.databricks.v1+output": {
       "arguments": {},
       "data": "",
       "errorSummary": "Command skipped",
       "errorTraceType": "ansi",
       "metadata": {},
       "type": "ipynbError"
      }
     },
     "output_type": "display_data"
    }
   ],
   "source": [
    "data_2 = assembler.transform(dfall)"
   ]
  },
  {
   "cell_type": "code",
   "execution_count": 0,
   "metadata": {
    "application/vnd.databricks.v1+cell": {
     "cellMetadata": {
      "byteLimit": 2048000,
      "rowLimit": 10000
     },
     "inputWidgets": {},
     "nuid": "05b1b005-27ba-4f4d-bfac-473869a3aee2",
     "showTitle": false,
     "tableResultSettingsMap": {},
     "title": ""
    }
   },
   "outputs": [
    {
     "output_type": "display_data",
     "data": {
      "text/plain": [
       ""
      ]
     },
     "metadata": {
      "application/vnd.databricks.v1+output": {
       "arguments": {},
       "data": "",
       "errorSummary": "Command skipped",
       "errorTraceType": "ansi",
       "metadata": {},
       "type": "ipynbError"
      }
     },
     "output_type": "display_data"
    }
   ],
   "source": [
    "data_2.show()"
   ]
  },
  {
   "cell_type": "code",
   "execution_count": 0,
   "metadata": {
    "application/vnd.databricks.v1+cell": {
     "cellMetadata": {
      "byteLimit": 2048000,
      "rowLimit": 10000
     },
     "inputWidgets": {},
     "nuid": "ceb6abc9-573b-4ae2-8e03-21a79639805a",
     "showTitle": false,
     "tableResultSettingsMap": {},
     "title": ""
    }
   },
   "outputs": [
    {
     "output_type": "display_data",
     "data": {
      "text/plain": [
       ""
      ]
     },
     "metadata": {
      "application/vnd.databricks.v1+output": {
       "arguments": {},
       "data": "",
       "errorSummary": "Command skipped",
       "errorTraceType": "ansi",
       "metadata": {},
       "type": "ipynbError"
      }
     },
     "output_type": "display_data"
    }
   ],
   "source": [
    "from pyspark.ml.regression import LinearRegression"
   ]
  },
  {
   "cell_type": "code",
   "execution_count": 0,
   "metadata": {
    "application/vnd.databricks.v1+cell": {
     "cellMetadata": {
      "byteLimit": 2048000,
      "rowLimit": 10000
     },
     "inputWidgets": {},
     "nuid": "950d1b20-4331-4510-b9cd-db2819cb3474",
     "showTitle": false,
     "tableResultSettingsMap": {},
     "title": ""
    }
   },
   "outputs": [
    {
     "output_type": "display_data",
     "data": {
      "text/plain": [
       ""
      ]
     },
     "metadata": {
      "application/vnd.databricks.v1+output": {
       "arguments": {},
       "data": "",
       "errorSummary": "Command skipped",
       "errorTraceType": "ansi",
       "metadata": {},
       "type": "ipynbError"
      }
     },
     "output_type": "display_data"
    }
   ],
   "source": [
    "algo = LinearRegression(featuresCol=\"features\", labelCol=\"ListPrice\")"
   ]
  },
  {
   "cell_type": "code",
   "execution_count": 0,
   "metadata": {
    "application/vnd.databricks.v1+cell": {
     "cellMetadata": {
      "byteLimit": 2048000,
      "rowLimit": 10000
     },
     "inputWidgets": {},
     "nuid": "bb9182a8-78da-4250-8303-26a222676e1d",
     "showTitle": false,
     "tableResultSettingsMap": {},
     "title": ""
    }
   },
   "outputs": [
    {
     "output_type": "display_data",
     "data": {
      "text/plain": [
       ""
      ]
     },
     "metadata": {
      "application/vnd.databricks.v1+output": {
       "arguments": {},
       "data": "",
       "errorSummary": "Command skipped",
       "errorTraceType": "ansi",
       "metadata": {},
       "type": "ipynbError"
      }
     },
     "output_type": "display_data"
    }
   ],
   "source": [
    "model = algo.fit(data_2)"
   ]
  },
  {
   "cell_type": "code",
   "execution_count": 0,
   "metadata": {
    "application/vnd.databricks.v1+cell": {
     "cellMetadata": {
      "byteLimit": 2048000,
      "rowLimit": 10000
     },
     "inputWidgets": {},
     "nuid": "373a7a87-ed11-4d0f-b98d-98ce2889907c",
     "showTitle": false,
     "tableResultSettingsMap": {},
     "title": ""
    }
   },
   "outputs": [
    {
     "output_type": "display_data",
     "data": {
      "text/plain": [
       ""
      ]
     },
     "metadata": {
      "application/vnd.databricks.v1+output": {
       "arguments": {},
       "data": "",
       "errorSummary": "Command skipped",
       "errorTraceType": "ansi",
       "metadata": {},
       "type": "ipynbError"
      }
     },
     "output_type": "display_data"
    }
   ],
   "source": [
    "evaluation_summary = model.evaluate(data_2)"
   ]
  },
  {
   "cell_type": "code",
   "execution_count": 0,
   "metadata": {
    "application/vnd.databricks.v1+cell": {
     "cellMetadata": {
      "byteLimit": 2048000,
      "rowLimit": 10000
     },
     "inputWidgets": {},
     "nuid": "1548b3b3-f7f4-48f6-ad73-2b070f7595da",
     "showTitle": false,
     "tableResultSettingsMap": {},
     "title": ""
    }
   },
   "outputs": [
    {
     "output_type": "display_data",
     "data": {
      "text/plain": [
       ""
      ]
     },
     "metadata": {
      "application/vnd.databricks.v1+output": {
       "arguments": {},
       "data": "",
       "errorSummary": "Command skipped",
       "errorTraceType": "ansi",
       "metadata": {},
       "type": "ipynbError"
      }
     },
     "output_type": "display_data"
    }
   ],
   "source": [
    "evaluation_summary.rootMeanSquaredError"
   ]
  },
  {
   "cell_type": "code",
   "execution_count": 0,
   "metadata": {
    "application/vnd.databricks.v1+cell": {
     "cellMetadata": {
      "byteLimit": 2048000,
      "rowLimit": 10000
     },
     "inputWidgets": {},
     "nuid": "5bb20dc4-259c-4de1-bb3c-ea477a692d17",
     "showTitle": false,
     "tableResultSettingsMap": {},
     "title": ""
    }
   },
   "outputs": [
    {
     "output_type": "display_data",
     "data": {
      "text/plain": [
       ""
      ]
     },
     "metadata": {
      "application/vnd.databricks.v1+output": {
       "arguments": {},
       "data": "",
       "errorSummary": "Command skipped",
       "errorTraceType": "ansi",
       "metadata": {},
       "type": "ipynbError"
      }
     },
     "output_type": "display_data"
    }
   ],
   "source": [
    "evaluation_summary.r2"
   ]
  }
 ],
 "metadata": {
  "application/vnd.databricks.v1+notebook": {
   "dashboards": [],
   "environmentMetadata": null,
   "language": "python",
   "notebookMetadata": {
    "mostRecentlyExecutedCommandWithImplicitDF": {
     "commandId": 2466724397376242,
     "dataframes": [
      "_sqldf"
     ]
    },
    "pythonIndentUnit": 2
   },
   "notebookName": "HW14-Spark",
   "widgets": {}
  },
  "kernelspec": {
   "display_name": "Python 2",
   "language": "python",
   "name": "python2"
  },
  "language_info": {
   "codemirror_mode": {
    "name": "ipython",
    "version": 2
   },
   "file_extension": ".py",
   "mimetype": "text/x-python",
   "name": "python",
   "nbconvert_exporter": "python",
   "pygments_lexer": "ipython2",
   "version": "2.7.12"
  }
 },
 "nbformat": 4,
 "nbformat_minor": 0
}
