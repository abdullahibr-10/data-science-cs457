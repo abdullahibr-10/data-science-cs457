{
  "nbformat": 4,
  "nbformat_minor": 0,
  "metadata": {
    "colab": {
      "provenance": []
    },
    "kernelspec": {
      "name": "python3",
      "display_name": "Python 3"
    },
    "language_info": {
      "name": "python"
    }
  },
  "cells": [
    {
      "cell_type": "markdown",
      "source": [
        "# **MUHAMMAD ABDULLAH** - ma07534\n",
        "# **DS HW 3**"
      ],
      "metadata": {
        "id": "NBnl3GRmdMT4"
      }
    },
    {
      "cell_type": "markdown",
      "source": [
        "# Importing the necessary libraries"
      ],
      "metadata": {
        "id": "nxssul24nEZr"
      }
    },
    {
      "cell_type": "code",
      "execution_count": null,
      "metadata": {
        "id": "q0t5OIJZdl_1"
      },
      "outputs": [],
      "source": [
        "import pandas as pd\n",
        "import numpy as np\n",
        "import seaborn as sns\n",
        "import matplotlib.pyplot as plt\n",
        "from scipy import stats"
      ]
    },
    {
      "cell_type": "markdown",
      "source": [
        "Read CSV"
      ],
      "metadata": {
        "id": "gc6E9KSPoMb7"
      }
    },
    {
      "cell_type": "code",
      "source": [
        "df = pd.read_csv('student-scores.csv')\n",
        "df.head(10)"
      ],
      "metadata": {
        "colab": {
          "base_uri": "https://localhost:8080/",
          "height": 383
        },
        "id": "0g9zNJsEnqC7",
        "outputId": "acff68c5-abde-4e61-ca5e-41b6da1cf973"
      },
      "execution_count": null,
      "outputs": [
        {
          "output_type": "execute_result",
          "data": {
            "text/plain": [
              "   id first_name  last_name                                  email  gender  \\\n",
              "0   1       Paul      Casey         paul.casey.1@gslingacademy.com    male   \n",
              "1   2   Danielle   Sandoval  danielle.sandoval.2@gslingacademy.com  female   \n",
              "2   3       Tina    Andrews       tina.andrews.3@gslingacademy.com  female   \n",
              "3   4       Tara      Clark         tara.clark.4@gslingacademy.com  female   \n",
              "4   5    Anthony     Campos     anthony.campos.5@gslingacademy.com    male   \n",
              "5   6      Kelly       Wade         kelly.wade.6@gslingacademy.com  female   \n",
              "6   7    Anthony      Smith      anthony.smith.7@gslingacademy.com    male   \n",
              "7   8     George      Short       george.short.8@gslingacademy.com    male   \n",
              "8   9    Stanley  Gutierrez  stanley.gutierrez.9@gslingacademy.com    male   \n",
              "9  10     Audrey    Simpson    audrey.simpson.10@gslingacademy.com  female   \n",
              "\n",
              "   part_time_job  absence_days  extracurricular_activities  \\\n",
              "0          False             3                       False   \n",
              "1          False             2                       False   \n",
              "2          False             9                        True   \n",
              "3          False             5                       False   \n",
              "4          False             5                       False   \n",
              "5          False             2                       False   \n",
              "6          False             3                        True   \n",
              "7           True             2                        True   \n",
              "8          False             6                       False   \n",
              "9          False             3                        True   \n",
              "\n",
              "   weekly_self_study_hours   career_aspiration  math_score  history_score  \\\n",
              "0                       27              Lawyer          73             81   \n",
              "1                       47              Doctor          90             86   \n",
              "2                       13  Government Officer          81             97   \n",
              "3                        3              Artist          71             74   \n",
              "4                       10             Unknown          84             77   \n",
              "5                       26             Unknown          93            100   \n",
              "6                       23   Software Engineer          99             96   \n",
              "7                       34   Software Engineer          95             95   \n",
              "8                       25             Unknown          94             68   \n",
              "9                       18             Teacher          98             69   \n",
              "\n",
              "   physics_score  chemistry_score  biology_score  english_score  \\\n",
              "0             93               97             63             80   \n",
              "1             96              100             90             88   \n",
              "2             95               96             65             77   \n",
              "3             88               80             89             63   \n",
              "4             65               65             80             74   \n",
              "5             67               78             72             80   \n",
              "6             97               73             88             76   \n",
              "7             82               63             84             70   \n",
              "8             94               85             81             74   \n",
              "9             88               71             67             71   \n",
              "\n",
              "   geography_score  \n",
              "0               87  \n",
              "1               90  \n",
              "2               94  \n",
              "3               86  \n",
              "4               76  \n",
              "5               84  \n",
              "6               64  \n",
              "7               85  \n",
              "8               72  \n",
              "9               73  "
            ],
            "text/html": [
              "\n",
              "  <div id=\"df-19a98556-39b8-4bb1-8e27-6c0c8e4135fc\" class=\"colab-df-container\">\n",
              "    <div>\n",
              "<style scoped>\n",
              "    .dataframe tbody tr th:only-of-type {\n",
              "        vertical-align: middle;\n",
              "    }\n",
              "\n",
              "    .dataframe tbody tr th {\n",
              "        vertical-align: top;\n",
              "    }\n",
              "\n",
              "    .dataframe thead th {\n",
              "        text-align: right;\n",
              "    }\n",
              "</style>\n",
              "<table border=\"1\" class=\"dataframe\">\n",
              "  <thead>\n",
              "    <tr style=\"text-align: right;\">\n",
              "      <th></th>\n",
              "      <th>id</th>\n",
              "      <th>first_name</th>\n",
              "      <th>last_name</th>\n",
              "      <th>email</th>\n",
              "      <th>gender</th>\n",
              "      <th>part_time_job</th>\n",
              "      <th>absence_days</th>\n",
              "      <th>extracurricular_activities</th>\n",
              "      <th>weekly_self_study_hours</th>\n",
              "      <th>career_aspiration</th>\n",
              "      <th>math_score</th>\n",
              "      <th>history_score</th>\n",
              "      <th>physics_score</th>\n",
              "      <th>chemistry_score</th>\n",
              "      <th>biology_score</th>\n",
              "      <th>english_score</th>\n",
              "      <th>geography_score</th>\n",
              "    </tr>\n",
              "  </thead>\n",
              "  <tbody>\n",
              "    <tr>\n",
              "      <th>0</th>\n",
              "      <td>1</td>\n",
              "      <td>Paul</td>\n",
              "      <td>Casey</td>\n",
              "      <td>paul.casey.1@gslingacademy.com</td>\n",
              "      <td>male</td>\n",
              "      <td>False</td>\n",
              "      <td>3</td>\n",
              "      <td>False</td>\n",
              "      <td>27</td>\n",
              "      <td>Lawyer</td>\n",
              "      <td>73</td>\n",
              "      <td>81</td>\n",
              "      <td>93</td>\n",
              "      <td>97</td>\n",
              "      <td>63</td>\n",
              "      <td>80</td>\n",
              "      <td>87</td>\n",
              "    </tr>\n",
              "    <tr>\n",
              "      <th>1</th>\n",
              "      <td>2</td>\n",
              "      <td>Danielle</td>\n",
              "      <td>Sandoval</td>\n",
              "      <td>danielle.sandoval.2@gslingacademy.com</td>\n",
              "      <td>female</td>\n",
              "      <td>False</td>\n",
              "      <td>2</td>\n",
              "      <td>False</td>\n",
              "      <td>47</td>\n",
              "      <td>Doctor</td>\n",
              "      <td>90</td>\n",
              "      <td>86</td>\n",
              "      <td>96</td>\n",
              "      <td>100</td>\n",
              "      <td>90</td>\n",
              "      <td>88</td>\n",
              "      <td>90</td>\n",
              "    </tr>\n",
              "    <tr>\n",
              "      <th>2</th>\n",
              "      <td>3</td>\n",
              "      <td>Tina</td>\n",
              "      <td>Andrews</td>\n",
              "      <td>tina.andrews.3@gslingacademy.com</td>\n",
              "      <td>female</td>\n",
              "      <td>False</td>\n",
              "      <td>9</td>\n",
              "      <td>True</td>\n",
              "      <td>13</td>\n",
              "      <td>Government Officer</td>\n",
              "      <td>81</td>\n",
              "      <td>97</td>\n",
              "      <td>95</td>\n",
              "      <td>96</td>\n",
              "      <td>65</td>\n",
              "      <td>77</td>\n",
              "      <td>94</td>\n",
              "    </tr>\n",
              "    <tr>\n",
              "      <th>3</th>\n",
              "      <td>4</td>\n",
              "      <td>Tara</td>\n",
              "      <td>Clark</td>\n",
              "      <td>tara.clark.4@gslingacademy.com</td>\n",
              "      <td>female</td>\n",
              "      <td>False</td>\n",
              "      <td>5</td>\n",
              "      <td>False</td>\n",
              "      <td>3</td>\n",
              "      <td>Artist</td>\n",
              "      <td>71</td>\n",
              "      <td>74</td>\n",
              "      <td>88</td>\n",
              "      <td>80</td>\n",
              "      <td>89</td>\n",
              "      <td>63</td>\n",
              "      <td>86</td>\n",
              "    </tr>\n",
              "    <tr>\n",
              "      <th>4</th>\n",
              "      <td>5</td>\n",
              "      <td>Anthony</td>\n",
              "      <td>Campos</td>\n",
              "      <td>anthony.campos.5@gslingacademy.com</td>\n",
              "      <td>male</td>\n",
              "      <td>False</td>\n",
              "      <td>5</td>\n",
              "      <td>False</td>\n",
              "      <td>10</td>\n",
              "      <td>Unknown</td>\n",
              "      <td>84</td>\n",
              "      <td>77</td>\n",
              "      <td>65</td>\n",
              "      <td>65</td>\n",
              "      <td>80</td>\n",
              "      <td>74</td>\n",
              "      <td>76</td>\n",
              "    </tr>\n",
              "    <tr>\n",
              "      <th>5</th>\n",
              "      <td>6</td>\n",
              "      <td>Kelly</td>\n",
              "      <td>Wade</td>\n",
              "      <td>kelly.wade.6@gslingacademy.com</td>\n",
              "      <td>female</td>\n",
              "      <td>False</td>\n",
              "      <td>2</td>\n",
              "      <td>False</td>\n",
              "      <td>26</td>\n",
              "      <td>Unknown</td>\n",
              "      <td>93</td>\n",
              "      <td>100</td>\n",
              "      <td>67</td>\n",
              "      <td>78</td>\n",
              "      <td>72</td>\n",
              "      <td>80</td>\n",
              "      <td>84</td>\n",
              "    </tr>\n",
              "    <tr>\n",
              "      <th>6</th>\n",
              "      <td>7</td>\n",
              "      <td>Anthony</td>\n",
              "      <td>Smith</td>\n",
              "      <td>anthony.smith.7@gslingacademy.com</td>\n",
              "      <td>male</td>\n",
              "      <td>False</td>\n",
              "      <td>3</td>\n",
              "      <td>True</td>\n",
              "      <td>23</td>\n",
              "      <td>Software Engineer</td>\n",
              "      <td>99</td>\n",
              "      <td>96</td>\n",
              "      <td>97</td>\n",
              "      <td>73</td>\n",
              "      <td>88</td>\n",
              "      <td>76</td>\n",
              "      <td>64</td>\n",
              "    </tr>\n",
              "    <tr>\n",
              "      <th>7</th>\n",
              "      <td>8</td>\n",
              "      <td>George</td>\n",
              "      <td>Short</td>\n",
              "      <td>george.short.8@gslingacademy.com</td>\n",
              "      <td>male</td>\n",
              "      <td>True</td>\n",
              "      <td>2</td>\n",
              "      <td>True</td>\n",
              "      <td>34</td>\n",
              "      <td>Software Engineer</td>\n",
              "      <td>95</td>\n",
              "      <td>95</td>\n",
              "      <td>82</td>\n",
              "      <td>63</td>\n",
              "      <td>84</td>\n",
              "      <td>70</td>\n",
              "      <td>85</td>\n",
              "    </tr>\n",
              "    <tr>\n",
              "      <th>8</th>\n",
              "      <td>9</td>\n",
              "      <td>Stanley</td>\n",
              "      <td>Gutierrez</td>\n",
              "      <td>stanley.gutierrez.9@gslingacademy.com</td>\n",
              "      <td>male</td>\n",
              "      <td>False</td>\n",
              "      <td>6</td>\n",
              "      <td>False</td>\n",
              "      <td>25</td>\n",
              "      <td>Unknown</td>\n",
              "      <td>94</td>\n",
              "      <td>68</td>\n",
              "      <td>94</td>\n",
              "      <td>85</td>\n",
              "      <td>81</td>\n",
              "      <td>74</td>\n",
              "      <td>72</td>\n",
              "    </tr>\n",
              "    <tr>\n",
              "      <th>9</th>\n",
              "      <td>10</td>\n",
              "      <td>Audrey</td>\n",
              "      <td>Simpson</td>\n",
              "      <td>audrey.simpson.10@gslingacademy.com</td>\n",
              "      <td>female</td>\n",
              "      <td>False</td>\n",
              "      <td>3</td>\n",
              "      <td>True</td>\n",
              "      <td>18</td>\n",
              "      <td>Teacher</td>\n",
              "      <td>98</td>\n",
              "      <td>69</td>\n",
              "      <td>88</td>\n",
              "      <td>71</td>\n",
              "      <td>67</td>\n",
              "      <td>71</td>\n",
              "      <td>73</td>\n",
              "    </tr>\n",
              "  </tbody>\n",
              "</table>\n",
              "</div>\n",
              "    <div class=\"colab-df-buttons\">\n",
              "\n",
              "  <div class=\"colab-df-container\">\n",
              "    <button class=\"colab-df-convert\" onclick=\"convertToInteractive('df-19a98556-39b8-4bb1-8e27-6c0c8e4135fc')\"\n",
              "            title=\"Convert this dataframe to an interactive table.\"\n",
              "            style=\"display:none;\">\n",
              "\n",
              "  <svg xmlns=\"http://www.w3.org/2000/svg\" height=\"24px\" viewBox=\"0 -960 960 960\">\n",
              "    <path d=\"M120-120v-720h720v720H120Zm60-500h600v-160H180v160Zm220 220h160v-160H400v160Zm0 220h160v-160H400v160ZM180-400h160v-160H180v160Zm440 0h160v-160H620v160ZM180-180h160v-160H180v160Zm440 0h160v-160H620v160Z\"/>\n",
              "  </svg>\n",
              "    </button>\n",
              "\n",
              "  <style>\n",
              "    .colab-df-container {\n",
              "      display:flex;\n",
              "      gap: 12px;\n",
              "    }\n",
              "\n",
              "    .colab-df-convert {\n",
              "      background-color: #E8F0FE;\n",
              "      border: none;\n",
              "      border-radius: 50%;\n",
              "      cursor: pointer;\n",
              "      display: none;\n",
              "      fill: #1967D2;\n",
              "      height: 32px;\n",
              "      padding: 0 0 0 0;\n",
              "      width: 32px;\n",
              "    }\n",
              "\n",
              "    .colab-df-convert:hover {\n",
              "      background-color: #E2EBFA;\n",
              "      box-shadow: 0px 1px 2px rgba(60, 64, 67, 0.3), 0px 1px 3px 1px rgba(60, 64, 67, 0.15);\n",
              "      fill: #174EA6;\n",
              "    }\n",
              "\n",
              "    .colab-df-buttons div {\n",
              "      margin-bottom: 4px;\n",
              "    }\n",
              "\n",
              "    [theme=dark] .colab-df-convert {\n",
              "      background-color: #3B4455;\n",
              "      fill: #D2E3FC;\n",
              "    }\n",
              "\n",
              "    [theme=dark] .colab-df-convert:hover {\n",
              "      background-color: #434B5C;\n",
              "      box-shadow: 0px 1px 3px 1px rgba(0, 0, 0, 0.15);\n",
              "      filter: drop-shadow(0px 1px 2px rgba(0, 0, 0, 0.3));\n",
              "      fill: #FFFFFF;\n",
              "    }\n",
              "  </style>\n",
              "\n",
              "    <script>\n",
              "      const buttonEl =\n",
              "        document.querySelector('#df-19a98556-39b8-4bb1-8e27-6c0c8e4135fc button.colab-df-convert');\n",
              "      buttonEl.style.display =\n",
              "        google.colab.kernel.accessAllowed ? 'block' : 'none';\n",
              "\n",
              "      async function convertToInteractive(key) {\n",
              "        const element = document.querySelector('#df-19a98556-39b8-4bb1-8e27-6c0c8e4135fc');\n",
              "        const dataTable =\n",
              "          await google.colab.kernel.invokeFunction('convertToInteractive',\n",
              "                                                    [key], {});\n",
              "        if (!dataTable) return;\n",
              "\n",
              "        const docLinkHtml = 'Like what you see? Visit the ' +\n",
              "          '<a target=\"_blank\" href=https://colab.research.google.com/notebooks/data_table.ipynb>data table notebook</a>'\n",
              "          + ' to learn more about interactive tables.';\n",
              "        element.innerHTML = '';\n",
              "        dataTable['output_type'] = 'display_data';\n",
              "        await google.colab.output.renderOutput(dataTable, element);\n",
              "        const docLink = document.createElement('div');\n",
              "        docLink.innerHTML = docLinkHtml;\n",
              "        element.appendChild(docLink);\n",
              "      }\n",
              "    </script>\n",
              "  </div>\n",
              "\n",
              "\n",
              "<div id=\"df-71e6237f-0130-4c33-ab4d-4008bc6b5a8e\">\n",
              "  <button class=\"colab-df-quickchart\" onclick=\"quickchart('df-71e6237f-0130-4c33-ab4d-4008bc6b5a8e')\"\n",
              "            title=\"Suggest charts\"\n",
              "            style=\"display:none;\">\n",
              "\n",
              "<svg xmlns=\"http://www.w3.org/2000/svg\" height=\"24px\"viewBox=\"0 0 24 24\"\n",
              "     width=\"24px\">\n",
              "    <g>\n",
              "        <path d=\"M19 3H5c-1.1 0-2 .9-2 2v14c0 1.1.9 2 2 2h14c1.1 0 2-.9 2-2V5c0-1.1-.9-2-2-2zM9 17H7v-7h2v7zm4 0h-2V7h2v10zm4 0h-2v-4h2v4z\"/>\n",
              "    </g>\n",
              "</svg>\n",
              "  </button>\n",
              "\n",
              "<style>\n",
              "  .colab-df-quickchart {\n",
              "      --bg-color: #E8F0FE;\n",
              "      --fill-color: #1967D2;\n",
              "      --hover-bg-color: #E2EBFA;\n",
              "      --hover-fill-color: #174EA6;\n",
              "      --disabled-fill-color: #AAA;\n",
              "      --disabled-bg-color: #DDD;\n",
              "  }\n",
              "\n",
              "  [theme=dark] .colab-df-quickchart {\n",
              "      --bg-color: #3B4455;\n",
              "      --fill-color: #D2E3FC;\n",
              "      --hover-bg-color: #434B5C;\n",
              "      --hover-fill-color: #FFFFFF;\n",
              "      --disabled-bg-color: #3B4455;\n",
              "      --disabled-fill-color: #666;\n",
              "  }\n",
              "\n",
              "  .colab-df-quickchart {\n",
              "    background-color: var(--bg-color);\n",
              "    border: none;\n",
              "    border-radius: 50%;\n",
              "    cursor: pointer;\n",
              "    display: none;\n",
              "    fill: var(--fill-color);\n",
              "    height: 32px;\n",
              "    padding: 0;\n",
              "    width: 32px;\n",
              "  }\n",
              "\n",
              "  .colab-df-quickchart:hover {\n",
              "    background-color: var(--hover-bg-color);\n",
              "    box-shadow: 0 1px 2px rgba(60, 64, 67, 0.3), 0 1px 3px 1px rgba(60, 64, 67, 0.15);\n",
              "    fill: var(--button-hover-fill-color);\n",
              "  }\n",
              "\n",
              "  .colab-df-quickchart-complete:disabled,\n",
              "  .colab-df-quickchart-complete:disabled:hover {\n",
              "    background-color: var(--disabled-bg-color);\n",
              "    fill: var(--disabled-fill-color);\n",
              "    box-shadow: none;\n",
              "  }\n",
              "\n",
              "  .colab-df-spinner {\n",
              "    border: 2px solid var(--fill-color);\n",
              "    border-color: transparent;\n",
              "    border-bottom-color: var(--fill-color);\n",
              "    animation:\n",
              "      spin 1s steps(1) infinite;\n",
              "  }\n",
              "\n",
              "  @keyframes spin {\n",
              "    0% {\n",
              "      border-color: transparent;\n",
              "      border-bottom-color: var(--fill-color);\n",
              "      border-left-color: var(--fill-color);\n",
              "    }\n",
              "    20% {\n",
              "      border-color: transparent;\n",
              "      border-left-color: var(--fill-color);\n",
              "      border-top-color: var(--fill-color);\n",
              "    }\n",
              "    30% {\n",
              "      border-color: transparent;\n",
              "      border-left-color: var(--fill-color);\n",
              "      border-top-color: var(--fill-color);\n",
              "      border-right-color: var(--fill-color);\n",
              "    }\n",
              "    40% {\n",
              "      border-color: transparent;\n",
              "      border-right-color: var(--fill-color);\n",
              "      border-top-color: var(--fill-color);\n",
              "    }\n",
              "    60% {\n",
              "      border-color: transparent;\n",
              "      border-right-color: var(--fill-color);\n",
              "    }\n",
              "    80% {\n",
              "      border-color: transparent;\n",
              "      border-right-color: var(--fill-color);\n",
              "      border-bottom-color: var(--fill-color);\n",
              "    }\n",
              "    90% {\n",
              "      border-color: transparent;\n",
              "      border-bottom-color: var(--fill-color);\n",
              "    }\n",
              "  }\n",
              "</style>\n",
              "\n",
              "  <script>\n",
              "    async function quickchart(key) {\n",
              "      const quickchartButtonEl =\n",
              "        document.querySelector('#' + key + ' button');\n",
              "      quickchartButtonEl.disabled = true;  // To prevent multiple clicks.\n",
              "      quickchartButtonEl.classList.add('colab-df-spinner');\n",
              "      try {\n",
              "        const charts = await google.colab.kernel.invokeFunction(\n",
              "            'suggestCharts', [key], {});\n",
              "      } catch (error) {\n",
              "        console.error('Error during call to suggestCharts:', error);\n",
              "      }\n",
              "      quickchartButtonEl.classList.remove('colab-df-spinner');\n",
              "      quickchartButtonEl.classList.add('colab-df-quickchart-complete');\n",
              "    }\n",
              "    (() => {\n",
              "      let quickchartButtonEl =\n",
              "        document.querySelector('#df-71e6237f-0130-4c33-ab4d-4008bc6b5a8e button');\n",
              "      quickchartButtonEl.style.display =\n",
              "        google.colab.kernel.accessAllowed ? 'block' : 'none';\n",
              "    })();\n",
              "  </script>\n",
              "</div>\n",
              "\n",
              "    </div>\n",
              "  </div>\n"
            ],
            "application/vnd.google.colaboratory.intrinsic+json": {
              "type": "dataframe",
              "variable_name": "df",
              "summary": "{\n  \"name\": \"df\",\n  \"rows\": 2000,\n  \"fields\": [\n    {\n      \"column\": \"id\",\n      \"properties\": {\n        \"dtype\": \"number\",\n        \"std\": 577,\n        \"min\": 1,\n        \"max\": 2000,\n        \"num_unique_values\": 2000,\n        \"samples\": [\n          1861,\n          354,\n          1334\n        ],\n        \"semantic_type\": \"\",\n        \"description\": \"\"\n      }\n    },\n    {\n      \"column\": \"first_name\",\n      \"properties\": {\n        \"dtype\": \"category\",\n        \"num_unique_values\": 453,\n        \"samples\": [\n          \"Donna\",\n          \"Lauren\",\n          \"Nathaniel\"\n        ],\n        \"semantic_type\": \"\",\n        \"description\": \"\"\n      }\n    },\n    {\n      \"column\": \"last_name\",\n      \"properties\": {\n        \"dtype\": \"category\",\n        \"num_unique_values\": 707,\n        \"samples\": [\n          \"Ferguson\",\n          \"Bridges\",\n          \"Butler\"\n        ],\n        \"semantic_type\": \"\",\n        \"description\": \"\"\n      }\n    },\n    {\n      \"column\": \"email\",\n      \"properties\": {\n        \"dtype\": \"string\",\n        \"num_unique_values\": 2000,\n        \"samples\": [\n          \"kyle.rodriguez.1861@gslingacademy.com\",\n          \"samuel.jackson.354@gslingacademy.com\",\n          \"julie.gomez.1334@gslingacademy.com\"\n        ],\n        \"semantic_type\": \"\",\n        \"description\": \"\"\n      }\n    },\n    {\n      \"column\": \"gender\",\n      \"properties\": {\n        \"dtype\": \"category\",\n        \"num_unique_values\": 2,\n        \"samples\": [\n          \"female\",\n          \"male\"\n        ],\n        \"semantic_type\": \"\",\n        \"description\": \"\"\n      }\n    },\n    {\n      \"column\": \"part_time_job\",\n      \"properties\": {\n        \"dtype\": \"boolean\",\n        \"num_unique_values\": 2,\n        \"samples\": [\n          true,\n          false\n        ],\n        \"semantic_type\": \"\",\n        \"description\": \"\"\n      }\n    },\n    {\n      \"column\": \"absence_days\",\n      \"properties\": {\n        \"dtype\": \"number\",\n        \"std\": 2,\n        \"min\": 0,\n        \"max\": 10,\n        \"num_unique_values\": 11,\n        \"samples\": [\n          1,\n          3\n        ],\n        \"semantic_type\": \"\",\n        \"description\": \"\"\n      }\n    },\n    {\n      \"column\": \"extracurricular_activities\",\n      \"properties\": {\n        \"dtype\": \"boolean\",\n        \"num_unique_values\": 2,\n        \"samples\": [\n          true,\n          false\n        ],\n        \"semantic_type\": \"\",\n        \"description\": \"\"\n      }\n    },\n    {\n      \"column\": \"weekly_self_study_hours\",\n      \"properties\": {\n        \"dtype\": \"number\",\n        \"std\": 12,\n        \"min\": 0,\n        \"max\": 50,\n        \"num_unique_values\": 50,\n        \"samples\": [\n          39,\n          12\n        ],\n        \"semantic_type\": \"\",\n        \"description\": \"\"\n      }\n    },\n    {\n      \"column\": \"career_aspiration\",\n      \"properties\": {\n        \"dtype\": \"category\",\n        \"num_unique_values\": 17,\n        \"samples\": [\n          \"Lawyer\",\n          \"Doctor\"\n        ],\n        \"semantic_type\": \"\",\n        \"description\": \"\"\n      }\n    },\n    {\n      \"column\": \"math_score\",\n      \"properties\": {\n        \"dtype\": \"number\",\n        \"std\": 13,\n        \"min\": 40,\n        \"max\": 100,\n        \"num_unique_values\": 61,\n        \"samples\": [\n          73,\n          93\n        ],\n        \"semantic_type\": \"\",\n        \"description\": \"\"\n      }\n    },\n    {\n      \"column\": \"history_score\",\n      \"properties\": {\n        \"dtype\": \"number\",\n        \"std\": 12,\n        \"min\": 50,\n        \"max\": 100,\n        \"num_unique_values\": 51,\n        \"samples\": [\n          92,\n          80\n        ],\n        \"semantic_type\": \"\",\n        \"description\": \"\"\n      }\n    },\n    {\n      \"column\": \"physics_score\",\n      \"properties\": {\n        \"dtype\": \"number\",\n        \"std\": 12,\n        \"min\": 50,\n        \"max\": 100,\n        \"num_unique_values\": 50,\n        \"samples\": [\n          85,\n          63\n        ],\n        \"semantic_type\": \"\",\n        \"description\": \"\"\n      }\n    },\n    {\n      \"column\": \"chemistry_score\",\n      \"properties\": {\n        \"dtype\": \"number\",\n        \"std\": 12,\n        \"min\": 50,\n        \"max\": 100,\n        \"num_unique_values\": 51,\n        \"samples\": [\n          82,\n          56\n        ],\n        \"semantic_type\": \"\",\n        \"description\": \"\"\n      }\n    },\n    {\n      \"column\": \"biology_score\",\n      \"properties\": {\n        \"dtype\": \"number\",\n        \"std\": 13,\n        \"min\": 30,\n        \"max\": 100,\n        \"num_unique_values\": 68,\n        \"samples\": [\n          54,\n          97\n        ],\n        \"semantic_type\": \"\",\n        \"description\": \"\"\n      }\n    },\n    {\n      \"column\": \"english_score\",\n      \"properties\": {\n        \"dtype\": \"number\",\n        \"std\": 12,\n        \"min\": 50,\n        \"max\": 99,\n        \"num_unique_values\": 50,\n        \"samples\": [\n          89,\n          73\n        ],\n        \"semantic_type\": \"\",\n        \"description\": \"\"\n      }\n    },\n    {\n      \"column\": \"geography_score\",\n      \"properties\": {\n        \"dtype\": \"number\",\n        \"std\": 11,\n        \"min\": 60,\n        \"max\": 100,\n        \"num_unique_values\": 41,\n        \"samples\": [\n          78,\n          77\n        ],\n        \"semantic_type\": \"\",\n        \"description\": \"\"\n      }\n    }\n  ]\n}"
            }
          },
          "metadata": {},
          "execution_count": 3
        }
      ]
    },
    {
      "cell_type": "markdown",
      "source": [
        "Perform Hypothesis Testing to choose between Null and Alternative Hypothesis and provide\n",
        "justification to your decision with explanation.  \n",
        "1. If math_score of males is greater than females.\n",
        "2. If math_score of Non Doctors is greater than Doctors (Hint: Use career_aspirations to\n",
        "find Doctor and Non Doctors)\n",
        "3. If weekly_self_study_hours of males are greater than females.\n",
        "4. If math_score of no part_time_job male students are greater than part_time_job male\n",
        "students.\n",
        "5. If the average of history_score is less than geography_score.\n",
        "6. If the average of math_score is greater than biology_score.\n",
        "7. If weekly_self_study_hours of extracurricular_activities is less than no\n",
        "extracurricular_activities.\n",
        "8. If absence_days of females are less than males.\n",
        "9. Is there any Association between gender and career_aspiration.\n",
        "10. Is there any Association between gender and part_time_job.\n",
        "\n",
        "\n",
        "![image.png](data:image/png;base64,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)"
      ],
      "metadata": {
        "id": "OclV-XWMoOaT"
      }
    },
    {
      "cell_type": "markdown",
      "source": [
        "\n",
        "\n",
        "---\n",
        "\n",
        "\n",
        "\n",
        "#1. Now focusing on the question \"if math_score of males is greater than females\"\n",
        "\n",
        "- *H0: The math score of males is less than or equal to females.*\n",
        "\n",
        "- *H1: The math score of males is greater than females.*"
      ],
      "metadata": {
        "id": "px1tBgPwoejv"
      }
    },
    {
      "cell_type": "code",
      "source": [
        "male_score = df[df['gender'] == 'male']['math_score']\n",
        "female_score = df[df['gender'] == 'female']['math_score']"
      ],
      "metadata": {
        "id": "neMb3NsiobiC"
      },
      "execution_count": null,
      "outputs": []
    },
    {
      "cell_type": "code",
      "source": [
        "male_score"
      ],
      "metadata": {
        "colab": {
          "base_uri": "https://localhost:8080/",
          "height": 459
        },
        "id": "Q9EPu0VqqirM",
        "outputId": "97a5f282-0073-47ae-87ee-8fae9bb488e3"
      },
      "execution_count": null,
      "outputs": [
        {
          "output_type": "execute_result",
          "data": {
            "text/plain": [
              "0       73\n",
              "4       84\n",
              "6       99\n",
              "7       95\n",
              "8       94\n",
              "        ..\n",
              "1992    79\n",
              "1993    92\n",
              "1994    76\n",
              "1995    83\n",
              "1996    89\n",
              "Name: math_score, Length: 998, dtype: int64"
            ],
            "text/html": [
              "<div>\n",
              "<style scoped>\n",
              "    .dataframe tbody tr th:only-of-type {\n",
              "        vertical-align: middle;\n",
              "    }\n",
              "\n",
              "    .dataframe tbody tr th {\n",
              "        vertical-align: top;\n",
              "    }\n",
              "\n",
              "    .dataframe thead th {\n",
              "        text-align: right;\n",
              "    }\n",
              "</style>\n",
              "<table border=\"1\" class=\"dataframe\">\n",
              "  <thead>\n",
              "    <tr style=\"text-align: right;\">\n",
              "      <th></th>\n",
              "      <th>math_score</th>\n",
              "    </tr>\n",
              "  </thead>\n",
              "  <tbody>\n",
              "    <tr>\n",
              "      <th>0</th>\n",
              "      <td>73</td>\n",
              "    </tr>\n",
              "    <tr>\n",
              "      <th>4</th>\n",
              "      <td>84</td>\n",
              "    </tr>\n",
              "    <tr>\n",
              "      <th>6</th>\n",
              "      <td>99</td>\n",
              "    </tr>\n",
              "    <tr>\n",
              "      <th>7</th>\n",
              "      <td>95</td>\n",
              "    </tr>\n",
              "    <tr>\n",
              "      <th>8</th>\n",
              "      <td>94</td>\n",
              "    </tr>\n",
              "    <tr>\n",
              "      <th>...</th>\n",
              "      <td>...</td>\n",
              "    </tr>\n",
              "    <tr>\n",
              "      <th>1992</th>\n",
              "      <td>79</td>\n",
              "    </tr>\n",
              "    <tr>\n",
              "      <th>1993</th>\n",
              "      <td>92</td>\n",
              "    </tr>\n",
              "    <tr>\n",
              "      <th>1994</th>\n",
              "      <td>76</td>\n",
              "    </tr>\n",
              "    <tr>\n",
              "      <th>1995</th>\n",
              "      <td>83</td>\n",
              "    </tr>\n",
              "    <tr>\n",
              "      <th>1996</th>\n",
              "      <td>89</td>\n",
              "    </tr>\n",
              "  </tbody>\n",
              "</table>\n",
              "<p>998 rows × 1 columns</p>\n",
              "</div><br><label><b>dtype:</b> int64</label>"
            ]
          },
          "metadata": {},
          "execution_count": 5
        }
      ]
    },
    {
      "cell_type": "code",
      "source": [
        "female_score"
      ],
      "metadata": {
        "colab": {
          "base_uri": "https://localhost:8080/",
          "height": 459
        },
        "id": "UH96ux-4qqSX",
        "outputId": "36cda672-e098-4d04-9445-31d9414c9b8b"
      },
      "execution_count": null,
      "outputs": [
        {
          "output_type": "execute_result",
          "data": {
            "text/plain": [
              "1       90\n",
              "2       81\n",
              "3       71\n",
              "5       93\n",
              "9       98\n",
              "        ..\n",
              "1987    97\n",
              "1991    88\n",
              "1997    97\n",
              "1998    51\n",
              "1999    82\n",
              "Name: math_score, Length: 1002, dtype: int64"
            ],
            "text/html": [
              "<div>\n",
              "<style scoped>\n",
              "    .dataframe tbody tr th:only-of-type {\n",
              "        vertical-align: middle;\n",
              "    }\n",
              "\n",
              "    .dataframe tbody tr th {\n",
              "        vertical-align: top;\n",
              "    }\n",
              "\n",
              "    .dataframe thead th {\n",
              "        text-align: right;\n",
              "    }\n",
              "</style>\n",
              "<table border=\"1\" class=\"dataframe\">\n",
              "  <thead>\n",
              "    <tr style=\"text-align: right;\">\n",
              "      <th></th>\n",
              "      <th>math_score</th>\n",
              "    </tr>\n",
              "  </thead>\n",
              "  <tbody>\n",
              "    <tr>\n",
              "      <th>1</th>\n",
              "      <td>90</td>\n",
              "    </tr>\n",
              "    <tr>\n",
              "      <th>2</th>\n",
              "      <td>81</td>\n",
              "    </tr>\n",
              "    <tr>\n",
              "      <th>3</th>\n",
              "      <td>71</td>\n",
              "    </tr>\n",
              "    <tr>\n",
              "      <th>5</th>\n",
              "      <td>93</td>\n",
              "    </tr>\n",
              "    <tr>\n",
              "      <th>9</th>\n",
              "      <td>98</td>\n",
              "    </tr>\n",
              "    <tr>\n",
              "      <th>...</th>\n",
              "      <td>...</td>\n",
              "    </tr>\n",
              "    <tr>\n",
              "      <th>1987</th>\n",
              "      <td>97</td>\n",
              "    </tr>\n",
              "    <tr>\n",
              "      <th>1991</th>\n",
              "      <td>88</td>\n",
              "    </tr>\n",
              "    <tr>\n",
              "      <th>1997</th>\n",
              "      <td>97</td>\n",
              "    </tr>\n",
              "    <tr>\n",
              "      <th>1998</th>\n",
              "      <td>51</td>\n",
              "    </tr>\n",
              "    <tr>\n",
              "      <th>1999</th>\n",
              "      <td>82</td>\n",
              "    </tr>\n",
              "  </tbody>\n",
              "</table>\n",
              "<p>1002 rows × 1 columns</p>\n",
              "</div><br><label><b>dtype:</b> int64</label>"
            ]
          },
          "metadata": {},
          "execution_count": 6
        }
      ]
    },
    {
      "cell_type": "code",
      "source": [
        "t_stat, p_value = stats.ttest_ind(male_score, female_score, alternative='greater')\n",
        "\n",
        "significance_level = 0.05\n",
        "if p_value < significance_level:\n",
        "    print(\"Reject the null hypothesis. The math score of males is greater than females.\")\n",
        "else:\n",
        "    print(\"Fail to reject the null hypothesis. The math score of males is less than or equal to females.\")"
      ],
      "metadata": {
        "colab": {
          "base_uri": "https://localhost:8080/"
        },
        "id": "yWY_e56_qUyw",
        "outputId": "1f16ecec-ae52-4960-8917-9048557d8394"
      },
      "execution_count": null,
      "outputs": [
        {
          "output_type": "stream",
          "name": "stdout",
          "text": [
            "Reject the null hypothesis. The math score of males is greater than females.\n"
          ]
        }
      ]
    },
    {
      "cell_type": "markdown",
      "source": [
        "\n",
        "\n",
        "---\n",
        "#2. Checking If math_score of Non Doctors is greater than Doctors (Hint: Use career_aspirations to find Doctor and Non Doctors)\n",
        "\n",
        "- *H0: The math score of non-doctors is less than or equal to doctors.*\n",
        "\n",
        "- *H1: The math score of non-doctors is greater than doctors.*"
      ],
      "metadata": {
        "id": "1PtuywyyQvbE"
      }
    },
    {
      "cell_type": "code",
      "source": [
        "doc_score = df[df['career_aspiration'] == 'Doctor']['math_score']\n",
        "non_doc_score = df[df['career_aspiration'] != 'Doctor']['math_score']"
      ],
      "metadata": {
        "id": "w_tHUY_5qhSU"
      },
      "execution_count": null,
      "outputs": []
    },
    {
      "cell_type": "code",
      "source": [
        "doc_score"
      ],
      "metadata": {
        "colab": {
          "base_uri": "https://localhost:8080/",
          "height": 459
        },
        "id": "BIGXnZmoSJjl",
        "outputId": "e3fbc96e-d710-46a3-ed4f-a5be9ae921f6"
      },
      "execution_count": null,
      "outputs": [
        {
          "output_type": "execute_result",
          "data": {
            "text/plain": [
              "1        90\n",
              "14       96\n",
              "18       92\n",
              "25       92\n",
              "121      98\n",
              "       ... \n",
              "1956    100\n",
              "1962     88\n",
              "1963     86\n",
              "1986     89\n",
              "1993     92\n",
              "Name: math_score, Length: 119, dtype: int64"
            ],
            "text/html": [
              "<div>\n",
              "<style scoped>\n",
              "    .dataframe tbody tr th:only-of-type {\n",
              "        vertical-align: middle;\n",
              "    }\n",
              "\n",
              "    .dataframe tbody tr th {\n",
              "        vertical-align: top;\n",
              "    }\n",
              "\n",
              "    .dataframe thead th {\n",
              "        text-align: right;\n",
              "    }\n",
              "</style>\n",
              "<table border=\"1\" class=\"dataframe\">\n",
              "  <thead>\n",
              "    <tr style=\"text-align: right;\">\n",
              "      <th></th>\n",
              "      <th>math_score</th>\n",
              "    </tr>\n",
              "  </thead>\n",
              "  <tbody>\n",
              "    <tr>\n",
              "      <th>1</th>\n",
              "      <td>90</td>\n",
              "    </tr>\n",
              "    <tr>\n",
              "      <th>14</th>\n",
              "      <td>96</td>\n",
              "    </tr>\n",
              "    <tr>\n",
              "      <th>18</th>\n",
              "      <td>92</td>\n",
              "    </tr>\n",
              "    <tr>\n",
              "      <th>25</th>\n",
              "      <td>92</td>\n",
              "    </tr>\n",
              "    <tr>\n",
              "      <th>121</th>\n",
              "      <td>98</td>\n",
              "    </tr>\n",
              "    <tr>\n",
              "      <th>...</th>\n",
              "      <td>...</td>\n",
              "    </tr>\n",
              "    <tr>\n",
              "      <th>1956</th>\n",
              "      <td>100</td>\n",
              "    </tr>\n",
              "    <tr>\n",
              "      <th>1962</th>\n",
              "      <td>88</td>\n",
              "    </tr>\n",
              "    <tr>\n",
              "      <th>1963</th>\n",
              "      <td>86</td>\n",
              "    </tr>\n",
              "    <tr>\n",
              "      <th>1986</th>\n",
              "      <td>89</td>\n",
              "    </tr>\n",
              "    <tr>\n",
              "      <th>1993</th>\n",
              "      <td>92</td>\n",
              "    </tr>\n",
              "  </tbody>\n",
              "</table>\n",
              "<p>119 rows × 1 columns</p>\n",
              "</div><br><label><b>dtype:</b> int64</label>"
            ]
          },
          "metadata": {},
          "execution_count": 9
        }
      ]
    },
    {
      "cell_type": "code",
      "source": [
        "non_doc_score"
      ],
      "metadata": {
        "colab": {
          "base_uri": "https://localhost:8080/",
          "height": 459
        },
        "id": "ebXK0S1tV7S-",
        "outputId": "9c0e4aa5-e9f0-481d-86c5-ca12de809072"
      },
      "execution_count": null,
      "outputs": [
        {
          "output_type": "execute_result",
          "data": {
            "text/plain": [
              "0       73\n",
              "2       81\n",
              "3       71\n",
              "4       84\n",
              "5       93\n",
              "        ..\n",
              "1995    83\n",
              "1996    89\n",
              "1997    97\n",
              "1998    51\n",
              "1999    82\n",
              "Name: math_score, Length: 1881, dtype: int64"
            ],
            "text/html": [
              "<div>\n",
              "<style scoped>\n",
              "    .dataframe tbody tr th:only-of-type {\n",
              "        vertical-align: middle;\n",
              "    }\n",
              "\n",
              "    .dataframe tbody tr th {\n",
              "        vertical-align: top;\n",
              "    }\n",
              "\n",
              "    .dataframe thead th {\n",
              "        text-align: right;\n",
              "    }\n",
              "</style>\n",
              "<table border=\"1\" class=\"dataframe\">\n",
              "  <thead>\n",
              "    <tr style=\"text-align: right;\">\n",
              "      <th></th>\n",
              "      <th>math_score</th>\n",
              "    </tr>\n",
              "  </thead>\n",
              "  <tbody>\n",
              "    <tr>\n",
              "      <th>0</th>\n",
              "      <td>73</td>\n",
              "    </tr>\n",
              "    <tr>\n",
              "      <th>2</th>\n",
              "      <td>81</td>\n",
              "    </tr>\n",
              "    <tr>\n",
              "      <th>3</th>\n",
              "      <td>71</td>\n",
              "    </tr>\n",
              "    <tr>\n",
              "      <th>4</th>\n",
              "      <td>84</td>\n",
              "    </tr>\n",
              "    <tr>\n",
              "      <th>5</th>\n",
              "      <td>93</td>\n",
              "    </tr>\n",
              "    <tr>\n",
              "      <th>...</th>\n",
              "      <td>...</td>\n",
              "    </tr>\n",
              "    <tr>\n",
              "      <th>1995</th>\n",
              "      <td>83</td>\n",
              "    </tr>\n",
              "    <tr>\n",
              "      <th>1996</th>\n",
              "      <td>89</td>\n",
              "    </tr>\n",
              "    <tr>\n",
              "      <th>1997</th>\n",
              "      <td>97</td>\n",
              "    </tr>\n",
              "    <tr>\n",
              "      <th>1998</th>\n",
              "      <td>51</td>\n",
              "    </tr>\n",
              "    <tr>\n",
              "      <th>1999</th>\n",
              "      <td>82</td>\n",
              "    </tr>\n",
              "  </tbody>\n",
              "</table>\n",
              "<p>1881 rows × 1 columns</p>\n",
              "</div><br><label><b>dtype:</b> int64</label>"
            ]
          },
          "metadata": {},
          "execution_count": 10
        }
      ]
    },
    {
      "cell_type": "code",
      "source": [
        "t_stat, p_value = stats.ttest_ind(non_doc_score, doc_score, alternative='greater')\n",
        "significance_level = 0.05\n",
        "if p_value < significance_level:\n",
        "    print(\"Reject the null hypothesis. The math score of non-doctors is greater than doctors.\")\n",
        "else:\n",
        "    print(\"Fail to reject the null hypothesis. The math score of non-doctors is less than or equal to doctors.\")"
      ],
      "metadata": {
        "colab": {
          "base_uri": "https://localhost:8080/"
        },
        "id": "n5KdfrmZW8_N",
        "outputId": "54f35b32-9111-4e30-ed8d-a1576a3b45d1"
      },
      "execution_count": null,
      "outputs": [
        {
          "output_type": "stream",
          "name": "stdout",
          "text": [
            "Fail to reject the null hypothesis. The math score of non-doctors is less than or equal to doctors.\n"
          ]
        }
      ]
    },
    {
      "cell_type": "markdown",
      "source": [
        "\n",
        "\n",
        "---\n",
        "#3. If weekly_self_study_hours of males are greater than females.\n",
        "\n",
        "- *H0: Weekly self study hours of males are less than or equal to females.*\n",
        "\n",
        "- *H1: Weekly self study hours of males are greater than females.*"
      ],
      "metadata": {
        "id": "loxbOVSTZJOG"
      }
    },
    {
      "cell_type": "code",
      "source": [
        "male_study = df[df['gender'] == 'male']['weekly_self_study_hours']\n",
        "female_study = df[df['gender'] == 'female']['weekly_self_study_hours']\n",
        "male_study"
      ],
      "metadata": {
        "colab": {
          "base_uri": "https://localhost:8080/",
          "height": 459
        },
        "id": "ZEA188HdZH1b",
        "outputId": "f8c44546-10a0-4c4a-a21d-c46088031401"
      },
      "execution_count": null,
      "outputs": [
        {
          "output_type": "execute_result",
          "data": {
            "text/plain": [
              "0       27\n",
              "4       10\n",
              "6       23\n",
              "7       34\n",
              "8       25\n",
              "        ..\n",
              "1992    12\n",
              "1993    46\n",
              "1994    19\n",
              "1995    30\n",
              "1996    20\n",
              "Name: weekly_self_study_hours, Length: 998, dtype: int64"
            ],
            "text/html": [
              "<div>\n",
              "<style scoped>\n",
              "    .dataframe tbody tr th:only-of-type {\n",
              "        vertical-align: middle;\n",
              "    }\n",
              "\n",
              "    .dataframe tbody tr th {\n",
              "        vertical-align: top;\n",
              "    }\n",
              "\n",
              "    .dataframe thead th {\n",
              "        text-align: right;\n",
              "    }\n",
              "</style>\n",
              "<table border=\"1\" class=\"dataframe\">\n",
              "  <thead>\n",
              "    <tr style=\"text-align: right;\">\n",
              "      <th></th>\n",
              "      <th>weekly_self_study_hours</th>\n",
              "    </tr>\n",
              "  </thead>\n",
              "  <tbody>\n",
              "    <tr>\n",
              "      <th>0</th>\n",
              "      <td>27</td>\n",
              "    </tr>\n",
              "    <tr>\n",
              "      <th>4</th>\n",
              "      <td>10</td>\n",
              "    </tr>\n",
              "    <tr>\n",
              "      <th>6</th>\n",
              "      <td>23</td>\n",
              "    </tr>\n",
              "    <tr>\n",
              "      <th>7</th>\n",
              "      <td>34</td>\n",
              "    </tr>\n",
              "    <tr>\n",
              "      <th>8</th>\n",
              "      <td>25</td>\n",
              "    </tr>\n",
              "    <tr>\n",
              "      <th>...</th>\n",
              "      <td>...</td>\n",
              "    </tr>\n",
              "    <tr>\n",
              "      <th>1992</th>\n",
              "      <td>12</td>\n",
              "    </tr>\n",
              "    <tr>\n",
              "      <th>1993</th>\n",
              "      <td>46</td>\n",
              "    </tr>\n",
              "    <tr>\n",
              "      <th>1994</th>\n",
              "      <td>19</td>\n",
              "    </tr>\n",
              "    <tr>\n",
              "      <th>1995</th>\n",
              "      <td>30</td>\n",
              "    </tr>\n",
              "    <tr>\n",
              "      <th>1996</th>\n",
              "      <td>20</td>\n",
              "    </tr>\n",
              "  </tbody>\n",
              "</table>\n",
              "<p>998 rows × 1 columns</p>\n",
              "</div><br><label><b>dtype:</b> int64</label>"
            ]
          },
          "metadata": {},
          "execution_count": 12
        }
      ]
    },
    {
      "cell_type": "code",
      "source": [
        "female_study"
      ],
      "metadata": {
        "colab": {
          "base_uri": "https://localhost:8080/",
          "height": 459
        },
        "id": "nGWPJODecH1y",
        "outputId": "33701ed2-43c8-4d54-f793-d504aa256b62"
      },
      "execution_count": null,
      "outputs": [
        {
          "output_type": "execute_result",
          "data": {
            "text/plain": [
              "1       47\n",
              "2       13\n",
              "3        3\n",
              "5       26\n",
              "9       18\n",
              "        ..\n",
              "1987     8\n",
              "1991    27\n",
              "1997    14\n",
              "1998     5\n",
              "1999    27\n",
              "Name: weekly_self_study_hours, Length: 1002, dtype: int64"
            ],
            "text/html": [
              "<div>\n",
              "<style scoped>\n",
              "    .dataframe tbody tr th:only-of-type {\n",
              "        vertical-align: middle;\n",
              "    }\n",
              "\n",
              "    .dataframe tbody tr th {\n",
              "        vertical-align: top;\n",
              "    }\n",
              "\n",
              "    .dataframe thead th {\n",
              "        text-align: right;\n",
              "    }\n",
              "</style>\n",
              "<table border=\"1\" class=\"dataframe\">\n",
              "  <thead>\n",
              "    <tr style=\"text-align: right;\">\n",
              "      <th></th>\n",
              "      <th>weekly_self_study_hours</th>\n",
              "    </tr>\n",
              "  </thead>\n",
              "  <tbody>\n",
              "    <tr>\n",
              "      <th>1</th>\n",
              "      <td>47</td>\n",
              "    </tr>\n",
              "    <tr>\n",
              "      <th>2</th>\n",
              "      <td>13</td>\n",
              "    </tr>\n",
              "    <tr>\n",
              "      <th>3</th>\n",
              "      <td>3</td>\n",
              "    </tr>\n",
              "    <tr>\n",
              "      <th>5</th>\n",
              "      <td>26</td>\n",
              "    </tr>\n",
              "    <tr>\n",
              "      <th>9</th>\n",
              "      <td>18</td>\n",
              "    </tr>\n",
              "    <tr>\n",
              "      <th>...</th>\n",
              "      <td>...</td>\n",
              "    </tr>\n",
              "    <tr>\n",
              "      <th>1987</th>\n",
              "      <td>8</td>\n",
              "    </tr>\n",
              "    <tr>\n",
              "      <th>1991</th>\n",
              "      <td>27</td>\n",
              "    </tr>\n",
              "    <tr>\n",
              "      <th>1997</th>\n",
              "      <td>14</td>\n",
              "    </tr>\n",
              "    <tr>\n",
              "      <th>1998</th>\n",
              "      <td>5</td>\n",
              "    </tr>\n",
              "    <tr>\n",
              "      <th>1999</th>\n",
              "      <td>27</td>\n",
              "    </tr>\n",
              "  </tbody>\n",
              "</table>\n",
              "<p>1002 rows × 1 columns</p>\n",
              "</div><br><label><b>dtype:</b> int64</label>"
            ]
          },
          "metadata": {},
          "execution_count": 13
        }
      ]
    },
    {
      "cell_type": "code",
      "source": [
        "t_stat, p_value = stats.ttest_ind(male_study, female_study, alternative='greater')\n",
        "\n",
        "significance_level = 0.05\n",
        "if p_value < significance_level:\n",
        "    print(\"Reject the null hypothesis. Weekly self study hours of males are greater than females.\")\n",
        "else:\n",
        "    print(\"Fail to reject the null hypothesis. Weekly self study hours of males are less than or equal to females.\")"
      ],
      "metadata": {
        "colab": {
          "base_uri": "https://localhost:8080/"
        },
        "id": "lDpTEvHwceQk",
        "outputId": "b2be4d27-ec0d-45db-9033-6c4e58ad42ce"
      },
      "execution_count": null,
      "outputs": [
        {
          "output_type": "stream",
          "name": "stdout",
          "text": [
            "Reject the null hypothesis. Weekly self study hours of males are greater than females.\n"
          ]
        }
      ]
    },
    {
      "cell_type": "markdown",
      "source": [
        "\n",
        "\n",
        "---\n",
        "\n",
        "#4. If math_score of no part_time_job male students are greater than part_time_job male students.\n",
        "\n",
        "H0: *The math score of no part-time job male students is less than or equal to part-time job male students.*\n",
        "\n",
        "H1: *The math score of no part-time job male students is greater than part-time job male students.*"
      ],
      "metadata": {
        "id": "W9MX4Qstc65I"
      }
    },
    {
      "cell_type": "code",
      "source": [
        "no_pt_job_male = df[(df['gender'] == 'Male') & (df['part_time_job'] == False)]['math_score']\n",
        "pt_job_male = df[(df['gender'] == 'Male') & (df['part_time_job'] == True)]['math_score']\n",
        "\n",
        "t_stat, p_value = stats.ttest_ind(no_pt_job_male, pt_job_male, alternative='greater')\n",
        "\n",
        "significance_level = 0.05\n",
        "if p_value < significance_level:\n",
        "    print(\"Reject the null hypothesis. The math score of no part-time job male students is greater than part-time job male students.\")\n",
        "else:\n",
        "    print(\"Fail to reject the null hypothesis. The math score of no part-time job male students is less than or equal to part-time job male students.\")"
      ],
      "metadata": {
        "colab": {
          "base_uri": "https://localhost:8080/"
        },
        "id": "9GmeoKioc25y",
        "outputId": "bb18beef-8281-42f6-afe7-19cb76690dad"
      },
      "execution_count": null,
      "outputs": [
        {
          "output_type": "stream",
          "name": "stdout",
          "text": [
            "Fail to reject the null hypothesis. The math score of no part-time job male students is less than or equal to part-time job male students.\n"
          ]
        }
      ]
    },
    {
      "cell_type": "markdown",
      "source": [
        "\n",
        "\n",
        "---\n",
        "\n",
        "# 5. If the average of history_score is less than geography_score.\n",
        "\n",
        "- *H0: The average of history_score is greater than or equal to geography_score.*\n",
        "\n",
        "- *H1: The average of history_score is less than geography_score.*"
      ],
      "metadata": {
        "id": "95IQBXSPhBik"
      }
    },
    {
      "cell_type": "code",
      "source": [
        "history_score = df['history_score']\n",
        "geography_score = df['geography_score']\n",
        "\n",
        "t_stat, p_value = stats.ttest_ind(history_score, geography_score, alternative='less')\n",
        "\n",
        "significance_level = 0.05\n",
        "\n",
        "if p_value < significance_level:\n",
        "  print(\"Reject the null hypothesis. The average of history_score is less than geography_score.\")\n",
        "else:\n",
        "  print(\"Fail to reject the null hypothesis. The average of history_score is greater than or equal to geography_score.\")"
      ],
      "metadata": {
        "colab": {
          "base_uri": "https://localhost:8080/"
        },
        "id": "QkSE7I0Vn6Sn",
        "outputId": "6701ce11-ff4e-46b0-8c41-87b24468d344"
      },
      "execution_count": null,
      "outputs": [
        {
          "output_type": "stream",
          "name": "stdout",
          "text": [
            "Fail to reject the null hypothesis. The average of history_score is greater than or equal to geography_score.\n"
          ]
        }
      ]
    },
    {
      "cell_type": "markdown",
      "source": [
        "# 6. If the average of math_score is greater than biology_score.\n",
        "\n",
        "- *H0: The average of math_score is less than or equal to geography_score.*\n",
        "\n",
        "- *H1: The average of math_score is greater than geography_score.*"
      ],
      "metadata": {
        "id": "GOTP1nW1uXFk"
      }
    },
    {
      "cell_type": "code",
      "source": [
        "math_score = df['math_score']\n",
        "biology_score = df['biology_score']\n",
        "\n",
        "t_stat, p_value = stats.ttest_ind(math_score, biology_score, alternative='greater')\n",
        "\n",
        "significance_level = 0.05\n",
        "\n",
        "if p_value < significance_level:\n",
        "  print(\"Reject the null hypothesis. The average of math_score is greater than biology_score.\")\n",
        "else:\n",
        "  print(\"Fail to reject the null hypothesis. The average of math_score is less than or equal to biology_score.\")"
      ],
      "metadata": {
        "colab": {
          "base_uri": "https://localhost:8080/"
        },
        "id": "PXuii18lBFOl",
        "outputId": "be0a71ca-bef2-4136-e0fb-5e69780476dd"
      },
      "execution_count": null,
      "outputs": [
        {
          "output_type": "stream",
          "name": "stdout",
          "text": [
            "Reject the null hypothesis. The average of math_score is greater than biology_score.\n"
          ]
        }
      ]
    },
    {
      "cell_type": "markdown",
      "source": [
        "\n",
        "\n",
        "---\n",
        "\n",
        "# 7. If weekly_self_study_hours of extracurricular_activities is less than no extracurricular_activities.\n",
        "\n",
        "- *H0: The weekly_self_study_hours of extracurricular_activities is greater than or equal to no extracurricular_activities.*\n",
        "\n",
        "- *H1: The weekly_self_study_hours of extracurricular_activities is less than no extracurricular_activities.*"
      ],
      "metadata": {
        "id": "7LJd3agaIWcM"
      }
    },
    {
      "cell_type": "code",
      "source": [
        "extracurricular_study = df[df['extracurricular_activities'] == True]['weekly_self_study_hours']\n",
        "no_extracurricular_study = df[df['extracurricular_activities'] == False]['weekly_self_study_hours']\n",
        "\n",
        "t_stat, p_value = stats.ttest_ind(extracurricular_study, no_extracurricular_study, alternative='less')\n",
        "\n",
        "significance_level = 0.05\n",
        "if p_value < significance_level:\n",
        "    print(\"Reject the null hypothesis. The weekly_self_study_hours of extracurricular_activities is less than no extracurricular_activities.\")\n",
        "else:\n",
        "    print(\"Fail to reject the null hypothesis. The weekly_self_study_hours of extracurricular_activities is greater than or equal to no extracurricular_activities.\")\n"
      ],
      "metadata": {
        "colab": {
          "base_uri": "https://localhost:8080/"
        },
        "id": "eU5OCg7hCBkD",
        "outputId": "7fcff96e-afd8-4f88-9f04-d66eda1c2ba5"
      },
      "execution_count": null,
      "outputs": [
        {
          "output_type": "stream",
          "name": "stdout",
          "text": [
            "Reject the null hypothesis. The weekly_self_study_hours of extracurricular_activities is less than no extracurricular_activities.\n"
          ]
        }
      ]
    },
    {
      "cell_type": "markdown",
      "source": [
        "\n",
        "\n",
        "---\n",
        "\n",
        "\n",
        "# 8. If absence_days of females are less than males.\n",
        "\n",
        "- H0 = Absence days of females are greater than or equal to males.\n",
        "\n",
        "- H1 = Absence days of females are less than males."
      ],
      "metadata": {
        "id": "Q2eB_9zoLcWG"
      }
    },
    {
      "cell_type": "code",
      "source": [
        "female_abs = df[df['gender'] == 'female']['absence_days']\n",
        "male_abs = df[df['gender'] == 'male']['absence_days']\n",
        "\n",
        "t_stat, p_value = stats.ttest_ind(female_abs, male_abs, alternative='less')\n",
        "\n",
        "significance_level = 0.05\n",
        "if p_value < significance_level:\n",
        "    print(\"Reject the null hypothesis. Absence days of females are less than males.\")\n",
        "else:\n",
        "    print(\"Fail to reject the null hypothesis. Absence days of females are greater than or equal to males.\")"
      ],
      "metadata": {
        "colab": {
          "base_uri": "https://localhost:8080/"
        },
        "id": "UsNPmMccLbaY",
        "outputId": "20d3a1b0-d611-4e3a-b17f-435122a063e0"
      },
      "execution_count": null,
      "outputs": [
        {
          "output_type": "stream",
          "name": "stdout",
          "text": [
            "Fail to reject the null hypothesis. Absence days of females are greater than or equal to males.\n"
          ]
        }
      ]
    },
    {
      "cell_type": "markdown",
      "source": [
        "\n",
        "\n",
        "---\n",
        "\n",
        "\n",
        "\n",
        "# 9. Is there any Association between gender and career_aspiration.\n",
        "\n",
        "- H0 = There is no association between gender and career_aspiration.\n",
        "\n",
        "- H1 = gender and career_inspiration are associated.\n",
        "\n",
        "\n"
      ],
      "metadata": {
        "id": "rU0NHsfjNTsb"
      }
    },
    {
      "cell_type": "code",
      "source": [
        "chisqt = pd.crosstab(df['gender'], df['career_aspiration'])\n",
        "chi2, p_value, dof, expected = stats.chi2_contingency(chisqt)\n",
        "\n",
        "significance_level = 0.05\n",
        "if p_value < significance_level:\n",
        "    print(\"Reject the null hypothesis. There is an association between gender and career_aspiration.\")\n",
        "else:\n",
        "    print(\"Fail to reject the null hypothesis. There is no association between gender and career_aspiration.\")"
      ],
      "metadata": {
        "colab": {
          "base_uri": "https://localhost:8080/"
        },
        "id": "deoKW8VmNrW7",
        "outputId": "5c56dc81-6f6b-4662-c59c-98850afcf44c"
      },
      "execution_count": null,
      "outputs": [
        {
          "output_type": "stream",
          "name": "stdout",
          "text": [
            "Reject the null hypothesis. There is an association between gender and career_aspiration.\n"
          ]
        }
      ]
    },
    {
      "cell_type": "markdown",
      "source": [
        "\n",
        "\n",
        "---\n",
        "# 10. Is there any Association between gender and part_time_job.\n",
        "\n",
        "- H0 = There is no association between gender and career_inspiration.\n",
        "\n",
        "- H1 = gender and part_time_job are associated.\n",
        "\n"
      ],
      "metadata": {
        "id": "64J4PxlfOJMi"
      }
    },
    {
      "cell_type": "code",
      "source": [
        "chisqt = pd.crosstab(df['gender'], df['part_time_job'])\n",
        "chi2, p_value, dof, expected = stats.chi2_contingency(chisqt)\n",
        "\n",
        "significance_level = 0.05\n",
        "\n",
        "if p_value < significance_level:\n",
        "    print(\"Reject the null hypothesis. There is an association between gender and part_time_job.\")\n",
        "else:\n",
        "    print(\"Fail to reject the null hypothesis. There is no association between gender and part_time_job.\")"
      ],
      "metadata": {
        "colab": {
          "base_uri": "https://localhost:8080/"
        },
        "id": "0sXsa85UOIYW",
        "outputId": "718c18f4-f525-4ee6-c8eb-f6d0b576ff23"
      },
      "execution_count": null,
      "outputs": [
        {
          "output_type": "stream",
          "name": "stdout",
          "text": [
            "Fail to reject the null hypothesis. There is no association between gender and part_time_job.\n"
          ]
        }
      ]
    }
  ]
}