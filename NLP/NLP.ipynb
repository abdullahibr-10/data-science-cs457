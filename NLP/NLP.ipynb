{
  "nbformat": 4,
  "nbformat_minor": 0,
  "metadata": {
    "colab": {
      "provenance": []
    },
    "kernelspec": {
      "name": "python3",
      "display_name": "Python 3"
    },
    "language_info": {
      "name": "python"
    }
  },
  "cells": [
    {
      "cell_type": "code",
      "execution_count": 3,
      "metadata": {
        "colab": {
          "base_uri": "https://localhost:8080/"
        },
        "id": "aq2GwgJd1zA2",
        "outputId": "6688c335-e901-4933-a498-746e660ecdef"
      },
      "outputs": [
        {
          "output_type": "stream",
          "name": "stderr",
          "text": [
            "[nltk_data] Downloading package averaged_perceptron_tagger to\n",
            "[nltk_data]     /root/nltk_data...\n",
            "[nltk_data]   Package averaged_perceptron_tagger is already up-to-\n",
            "[nltk_data]       date!\n",
            "[nltk_data] Downloading package punkt to /root/nltk_data...\n",
            "[nltk_data]   Package punkt is already up-to-date!\n"
          ]
        },
        {
          "output_type": "stream",
          "name": "stdout",
          "text": [
            "Requirement already satisfied: newspaper3k in /usr/local/lib/python3.10/dist-packages (0.2.8)\n",
            "Requirement already satisfied: beautifulsoup4>=4.4.1 in /usr/local/lib/python3.10/dist-packages (from newspaper3k) (4.12.3)\n",
            "Requirement already satisfied: Pillow>=3.3.0 in /usr/local/lib/python3.10/dist-packages (from newspaper3k) (11.0.0)\n",
            "Requirement already satisfied: PyYAML>=3.11 in /usr/local/lib/python3.10/dist-packages (from newspaper3k) (6.0.2)\n",
            "Requirement already satisfied: cssselect>=0.9.2 in /usr/local/lib/python3.10/dist-packages (from newspaper3k) (1.2.0)\n",
            "Requirement already satisfied: lxml>=3.6.0 in /usr/local/lib/python3.10/dist-packages (from newspaper3k) (5.3.0)\n",
            "Requirement already satisfied: nltk>=3.2.1 in /usr/local/lib/python3.10/dist-packages (from newspaper3k) (3.9.1)\n",
            "Requirement already satisfied: requests>=2.10.0 in /usr/local/lib/python3.10/dist-packages (from newspaper3k) (2.32.3)\n",
            "Requirement already satisfied: feedparser>=5.2.1 in /usr/local/lib/python3.10/dist-packages (from newspaper3k) (6.0.11)\n",
            "Requirement already satisfied: tldextract>=2.0.1 in /usr/local/lib/python3.10/dist-packages (from newspaper3k) (5.1.3)\n",
            "Requirement already satisfied: feedfinder2>=0.0.4 in /usr/local/lib/python3.10/dist-packages (from newspaper3k) (0.0.4)\n",
            "Requirement already satisfied: jieba3k>=0.35.1 in /usr/local/lib/python3.10/dist-packages (from newspaper3k) (0.35.1)\n",
            "Requirement already satisfied: python-dateutil>=2.5.3 in /usr/local/lib/python3.10/dist-packages (from newspaper3k) (2.8.2)\n",
            "Requirement already satisfied: tinysegmenter==0.3 in /usr/local/lib/python3.10/dist-packages (from newspaper3k) (0.3)\n",
            "Requirement already satisfied: soupsieve>1.2 in /usr/local/lib/python3.10/dist-packages (from beautifulsoup4>=4.4.1->newspaper3k) (2.6)\n",
            "Requirement already satisfied: six in /usr/local/lib/python3.10/dist-packages (from feedfinder2>=0.0.4->newspaper3k) (1.16.0)\n",
            "Requirement already satisfied: sgmllib3k in /usr/local/lib/python3.10/dist-packages (from feedparser>=5.2.1->newspaper3k) (1.0.0)\n",
            "Requirement already satisfied: click in /usr/local/lib/python3.10/dist-packages (from nltk>=3.2.1->newspaper3k) (8.1.7)\n",
            "Requirement already satisfied: joblib in /usr/local/lib/python3.10/dist-packages (from nltk>=3.2.1->newspaper3k) (1.4.2)\n",
            "Requirement already satisfied: regex>=2021.8.3 in /usr/local/lib/python3.10/dist-packages (from nltk>=3.2.1->newspaper3k) (2024.9.11)\n",
            "Requirement already satisfied: tqdm in /usr/local/lib/python3.10/dist-packages (from nltk>=3.2.1->newspaper3k) (4.66.6)\n",
            "Requirement already satisfied: charset-normalizer<4,>=2 in /usr/local/lib/python3.10/dist-packages (from requests>=2.10.0->newspaper3k) (3.4.0)\n",
            "Requirement already satisfied: idna<4,>=2.5 in /usr/local/lib/python3.10/dist-packages (from requests>=2.10.0->newspaper3k) (3.10)\n",
            "Requirement already satisfied: urllib3<3,>=1.21.1 in /usr/local/lib/python3.10/dist-packages (from requests>=2.10.0->newspaper3k) (2.2.3)\n",
            "Requirement already satisfied: certifi>=2017.4.17 in /usr/local/lib/python3.10/dist-packages (from requests>=2.10.0->newspaper3k) (2024.8.30)\n",
            "Requirement already satisfied: requests-file>=1.4 in /usr/local/lib/python3.10/dist-packages (from tldextract>=2.0.1->newspaper3k) (2.1.0)\n",
            "Requirement already satisfied: filelock>=3.0.8 in /usr/local/lib/python3.10/dist-packages (from tldextract>=2.0.1->newspaper3k) (3.16.1)\n",
            "Requirement already satisfied: lxml_html_clean in /usr/local/lib/python3.10/dist-packages (0.4.1)\n",
            "Requirement already satisfied: lxml in /usr/local/lib/python3.10/dist-packages (from lxml_html_clean) (5.3.0)\n",
            "Collecting en-core-web-trf==3.7.3\n",
            "  Downloading https://github.com/explosion/spacy-models/releases/download/en_core_web_trf-3.7.3/en_core_web_trf-3.7.3-py3-none-any.whl (457.4 MB)\n",
            "\u001b[2K     \u001b[90m━━━━━━━━━━━━━━━━━━━━━━━━━━━━━━━━━━━━━━━━\u001b[0m \u001b[32m457.4/457.4 MB\u001b[0m \u001b[31m1.3 MB/s\u001b[0m eta \u001b[36m0:00:00\u001b[0m\n",
            "\u001b[?25hRequirement already satisfied: spacy<3.8.0,>=3.7.2 in /usr/local/lib/python3.10/dist-packages (from en-core-web-trf==3.7.3) (3.7.5)\n",
            "Requirement already satisfied: spacy-curated-transformers<0.3.0,>=0.2.0 in /usr/local/lib/python3.10/dist-packages (from en-core-web-trf==3.7.3) (0.2.2)\n",
            "Requirement already satisfied: spacy-legacy<3.1.0,>=3.0.11 in /usr/local/lib/python3.10/dist-packages (from spacy<3.8.0,>=3.7.2->en-core-web-trf==3.7.3) (3.0.12)\n",
            "Requirement already satisfied: spacy-loggers<2.0.0,>=1.0.0 in /usr/local/lib/python3.10/dist-packages (from spacy<3.8.0,>=3.7.2->en-core-web-trf==3.7.3) (1.0.5)\n",
            "Requirement already satisfied: murmurhash<1.1.0,>=0.28.0 in /usr/local/lib/python3.10/dist-packages (from spacy<3.8.0,>=3.7.2->en-core-web-trf==3.7.3) (1.0.10)\n",
            "Requirement already satisfied: cymem<2.1.0,>=2.0.2 in /usr/local/lib/python3.10/dist-packages (from spacy<3.8.0,>=3.7.2->en-core-web-trf==3.7.3) (2.0.8)\n",
            "Requirement already satisfied: preshed<3.1.0,>=3.0.2 in /usr/local/lib/python3.10/dist-packages (from spacy<3.8.0,>=3.7.2->en-core-web-trf==3.7.3) (3.0.9)\n",
            "Requirement already satisfied: thinc<8.3.0,>=8.2.2 in /usr/local/lib/python3.10/dist-packages (from spacy<3.8.0,>=3.7.2->en-core-web-trf==3.7.3) (8.2.5)\n",
            "Requirement already satisfied: wasabi<1.2.0,>=0.9.1 in /usr/local/lib/python3.10/dist-packages (from spacy<3.8.0,>=3.7.2->en-core-web-trf==3.7.3) (1.1.3)\n",
            "Requirement already satisfied: srsly<3.0.0,>=2.4.3 in /usr/local/lib/python3.10/dist-packages (from spacy<3.8.0,>=3.7.2->en-core-web-trf==3.7.3) (2.4.8)\n",
            "Requirement already satisfied: catalogue<2.1.0,>=2.0.6 in /usr/local/lib/python3.10/dist-packages (from spacy<3.8.0,>=3.7.2->en-core-web-trf==3.7.3) (2.0.10)\n",
            "Requirement already satisfied: weasel<0.5.0,>=0.1.0 in /usr/local/lib/python3.10/dist-packages (from spacy<3.8.0,>=3.7.2->en-core-web-trf==3.7.3) (0.4.1)\n",
            "Requirement already satisfied: typer<1.0.0,>=0.3.0 in /usr/local/lib/python3.10/dist-packages (from spacy<3.8.0,>=3.7.2->en-core-web-trf==3.7.3) (0.13.0)\n",
            "Requirement already satisfied: tqdm<5.0.0,>=4.38.0 in /usr/local/lib/python3.10/dist-packages (from spacy<3.8.0,>=3.7.2->en-core-web-trf==3.7.3) (4.66.6)\n",
            "Requirement already satisfied: requests<3.0.0,>=2.13.0 in /usr/local/lib/python3.10/dist-packages (from spacy<3.8.0,>=3.7.2->en-core-web-trf==3.7.3) (2.32.3)\n",
            "Requirement already satisfied: pydantic!=1.8,!=1.8.1,<3.0.0,>=1.7.4 in /usr/local/lib/python3.10/dist-packages (from spacy<3.8.0,>=3.7.2->en-core-web-trf==3.7.3) (2.9.2)\n",
            "Requirement already satisfied: jinja2 in /usr/local/lib/python3.10/dist-packages (from spacy<3.8.0,>=3.7.2->en-core-web-trf==3.7.3) (3.1.4)\n",
            "Requirement already satisfied: setuptools in /usr/local/lib/python3.10/dist-packages (from spacy<3.8.0,>=3.7.2->en-core-web-trf==3.7.3) (75.1.0)\n",
            "Requirement already satisfied: packaging>=20.0 in /usr/local/lib/python3.10/dist-packages (from spacy<3.8.0,>=3.7.2->en-core-web-trf==3.7.3) (24.2)\n",
            "Requirement already satisfied: langcodes<4.0.0,>=3.2.0 in /usr/local/lib/python3.10/dist-packages (from spacy<3.8.0,>=3.7.2->en-core-web-trf==3.7.3) (3.4.1)\n",
            "Requirement already satisfied: numpy>=1.19.0 in /usr/local/lib/python3.10/dist-packages (from spacy<3.8.0,>=3.7.2->en-core-web-trf==3.7.3) (1.26.4)\n",
            "Requirement already satisfied: curated-transformers<0.2.0,>=0.1.0 in /usr/local/lib/python3.10/dist-packages (from spacy-curated-transformers<0.3.0,>=0.2.0->en-core-web-trf==3.7.3) (0.1.1)\n",
            "Requirement already satisfied: curated-tokenizers<0.1.0,>=0.0.9 in /usr/local/lib/python3.10/dist-packages (from spacy-curated-transformers<0.3.0,>=0.2.0->en-core-web-trf==3.7.3) (0.0.9)\n",
            "Requirement already satisfied: torch>=1.12.0 in /usr/local/lib/python3.10/dist-packages (from spacy-curated-transformers<0.3.0,>=0.2.0->en-core-web-trf==3.7.3) (2.5.1+cu121)\n",
            "Requirement already satisfied: regex>=2022 in /usr/local/lib/python3.10/dist-packages (from curated-tokenizers<0.1.0,>=0.0.9->spacy-curated-transformers<0.3.0,>=0.2.0->en-core-web-trf==3.7.3) (2024.9.11)\n",
            "Requirement already satisfied: language-data>=1.2 in /usr/local/lib/python3.10/dist-packages (from langcodes<4.0.0,>=3.2.0->spacy<3.8.0,>=3.7.2->en-core-web-trf==3.7.3) (1.2.0)\n",
            "Requirement already satisfied: annotated-types>=0.6.0 in /usr/local/lib/python3.10/dist-packages (from pydantic!=1.8,!=1.8.1,<3.0.0,>=1.7.4->spacy<3.8.0,>=3.7.2->en-core-web-trf==3.7.3) (0.7.0)\n",
            "Requirement already satisfied: pydantic-core==2.23.4 in /usr/local/lib/python3.10/dist-packages (from pydantic!=1.8,!=1.8.1,<3.0.0,>=1.7.4->spacy<3.8.0,>=3.7.2->en-core-web-trf==3.7.3) (2.23.4)\n",
            "Requirement already satisfied: typing-extensions>=4.6.1 in /usr/local/lib/python3.10/dist-packages (from pydantic!=1.8,!=1.8.1,<3.0.0,>=1.7.4->spacy<3.8.0,>=3.7.2->en-core-web-trf==3.7.3) (4.12.2)\n",
            "Requirement already satisfied: charset-normalizer<4,>=2 in /usr/local/lib/python3.10/dist-packages (from requests<3.0.0,>=2.13.0->spacy<3.8.0,>=3.7.2->en-core-web-trf==3.7.3) (3.4.0)\n",
            "Requirement already satisfied: idna<4,>=2.5 in /usr/local/lib/python3.10/dist-packages (from requests<3.0.0,>=2.13.0->spacy<3.8.0,>=3.7.2->en-core-web-trf==3.7.3) (3.10)\n",
            "Requirement already satisfied: urllib3<3,>=1.21.1 in /usr/local/lib/python3.10/dist-packages (from requests<3.0.0,>=2.13.0->spacy<3.8.0,>=3.7.2->en-core-web-trf==3.7.3) (2.2.3)\n",
            "Requirement already satisfied: certifi>=2017.4.17 in /usr/local/lib/python3.10/dist-packages (from requests<3.0.0,>=2.13.0->spacy<3.8.0,>=3.7.2->en-core-web-trf==3.7.3) (2024.8.30)\n",
            "Requirement already satisfied: blis<0.8.0,>=0.7.8 in /usr/local/lib/python3.10/dist-packages (from thinc<8.3.0,>=8.2.2->spacy<3.8.0,>=3.7.2->en-core-web-trf==3.7.3) (0.7.11)\n",
            "Requirement already satisfied: confection<1.0.0,>=0.0.1 in /usr/local/lib/python3.10/dist-packages (from thinc<8.3.0,>=8.2.2->spacy<3.8.0,>=3.7.2->en-core-web-trf==3.7.3) (0.1.5)\n",
            "Requirement already satisfied: filelock in /usr/local/lib/python3.10/dist-packages (from torch>=1.12.0->spacy-curated-transformers<0.3.0,>=0.2.0->en-core-web-trf==3.7.3) (3.16.1)\n",
            "Requirement already satisfied: networkx in /usr/local/lib/python3.10/dist-packages (from torch>=1.12.0->spacy-curated-transformers<0.3.0,>=0.2.0->en-core-web-trf==3.7.3) (3.4.2)\n",
            "Requirement already satisfied: fsspec in /usr/local/lib/python3.10/dist-packages (from torch>=1.12.0->spacy-curated-transformers<0.3.0,>=0.2.0->en-core-web-trf==3.7.3) (2024.10.0)\n",
            "Requirement already satisfied: sympy==1.13.1 in /usr/local/lib/python3.10/dist-packages (from torch>=1.12.0->spacy-curated-transformers<0.3.0,>=0.2.0->en-core-web-trf==3.7.3) (1.13.1)\n",
            "Requirement already satisfied: mpmath<1.4,>=1.1.0 in /usr/local/lib/python3.10/dist-packages (from sympy==1.13.1->torch>=1.12.0->spacy-curated-transformers<0.3.0,>=0.2.0->en-core-web-trf==3.7.3) (1.3.0)\n",
            "Requirement already satisfied: click>=8.0.0 in /usr/local/lib/python3.10/dist-packages (from typer<1.0.0,>=0.3.0->spacy<3.8.0,>=3.7.2->en-core-web-trf==3.7.3) (8.1.7)\n",
            "Requirement already satisfied: shellingham>=1.3.0 in /usr/local/lib/python3.10/dist-packages (from typer<1.0.0,>=0.3.0->spacy<3.8.0,>=3.7.2->en-core-web-trf==3.7.3) (1.5.4)\n",
            "Requirement already satisfied: rich>=10.11.0 in /usr/local/lib/python3.10/dist-packages (from typer<1.0.0,>=0.3.0->spacy<3.8.0,>=3.7.2->en-core-web-trf==3.7.3) (13.9.4)\n",
            "Requirement already satisfied: cloudpathlib<1.0.0,>=0.7.0 in /usr/local/lib/python3.10/dist-packages (from weasel<0.5.0,>=0.1.0->spacy<3.8.0,>=3.7.2->en-core-web-trf==3.7.3) (0.20.0)\n",
            "Requirement already satisfied: smart-open<8.0.0,>=5.2.1 in /usr/local/lib/python3.10/dist-packages (from weasel<0.5.0,>=0.1.0->spacy<3.8.0,>=3.7.2->en-core-web-trf==3.7.3) (7.0.5)\n",
            "Requirement already satisfied: MarkupSafe>=2.0 in /usr/local/lib/python3.10/dist-packages (from jinja2->spacy<3.8.0,>=3.7.2->en-core-web-trf==3.7.3) (3.0.2)\n",
            "Requirement already satisfied: marisa-trie>=0.7.7 in /usr/local/lib/python3.10/dist-packages (from language-data>=1.2->langcodes<4.0.0,>=3.2.0->spacy<3.8.0,>=3.7.2->en-core-web-trf==3.7.3) (1.2.1)\n",
            "Requirement already satisfied: markdown-it-py>=2.2.0 in /usr/local/lib/python3.10/dist-packages (from rich>=10.11.0->typer<1.0.0,>=0.3.0->spacy<3.8.0,>=3.7.2->en-core-web-trf==3.7.3) (3.0.0)\n",
            "Requirement already satisfied: pygments<3.0.0,>=2.13.0 in /usr/local/lib/python3.10/dist-packages (from rich>=10.11.0->typer<1.0.0,>=0.3.0->spacy<3.8.0,>=3.7.2->en-core-web-trf==3.7.3) (2.18.0)\n",
            "Requirement already satisfied: wrapt in /usr/local/lib/python3.10/dist-packages (from smart-open<8.0.0,>=5.2.1->weasel<0.5.0,>=0.1.0->spacy<3.8.0,>=3.7.2->en-core-web-trf==3.7.3) (1.16.0)\n",
            "Requirement already satisfied: mdurl~=0.1 in /usr/local/lib/python3.10/dist-packages (from markdown-it-py>=2.2.0->rich>=10.11.0->typer<1.0.0,>=0.3.0->spacy<3.8.0,>=3.7.2->en-core-web-trf==3.7.3) (0.1.2)\n",
            "\u001b[38;5;2m✔ Download and installation successful\u001b[0m\n",
            "You can now load the package via spacy.load('en_core_web_trf')\n",
            "\u001b[38;5;3m⚠ Restart to reload dependencies\u001b[0m\n",
            "If you are in a Jupyter or Colab notebook, you may need to restart Python in\n",
            "order to load all the package's dependencies. You can do this by selecting the\n",
            "'Restart kernel' or 'Restart runtime' option.\n"
          ]
        }
      ],
      "source": [
        "# from nltk.tokenize import word_tokenize\n",
        "# from nltk.tag import pos_tag\n",
        "import nltk\n",
        "nltk.download('averaged_perceptron_tagger')\n",
        "nltk.download('punkt')\n",
        "from nltk import pos_tag, word_tokenize, RegexpParser\n",
        "import spacy\n",
        "from spacy import displacy\n",
        "from collections import Counter\n",
        "import en_core_web_sm\n",
        "from bs4 import BeautifulSoup\n",
        "import requests\n",
        "import re\n",
        "import numpy\n",
        "import os\n",
        "!pip install newspaper3k # Install the newspaper3k package using pip\n",
        "!pip install lxml_html_clean\n",
        "from newspaper import Article # you can keep your imports unchanged\n",
        "import pandas as pd\n",
        "!python -m spacy download en_core_web_trf\n",
        "import matplotlib.pyplot as plt\n",
        "from collections import Counter"
      ]
    },
    {
      "cell_type": "markdown",
      "source": [
        "\n",
        "\n",
        "---\n",
        "\n",
        "\n",
        "1. Select any article on the website of your interest and perform Name Entity Relation (NER) analysis on it. Show all the necessary output and visualization and explain your findings. Also mention if you see any shortcoming or error in the algorithm output."
      ],
      "metadata": {
        "id": "MTdta0je9Nv4"
      }
    },
    {
      "cell_type": "code",
      "source": [
        "def extract_article_text(url):\n",
        "    article = Article(url)\n",
        "    article.download()\n",
        "    article.parse()\n",
        "    return article.text\n",
        "\n",
        "article_url = \"https://www.fcbarcelona.com/en/news/2207655/leo-messi-not-staying-at-fc-barcelona\"\n",
        "\n",
        "article_text = extract_article_text(article_url)\n",
        "print(\"Extracted Article Text:\")\n",
        "print(article_text[:1500], \"...\")\n",
        "\n",
        "nlp = spacy.load(\"en_core_web_trf\")\n",
        "\n",
        "doc = nlp(article_text)\n",
        "\n",
        "entities = [(ent.text, ent.label_) for ent in doc.ents]\n",
        "\n",
        "html = displacy.render(doc, style=\"ent\", jupyter=False)\n",
        "\n",
        "entity_labels = [ent.label_ for ent in doc.ents]\n",
        "entity_counts = Counter(entity_labels)\n",
        "\n",
        "print(\"\\nExtracted Entities:\")\n",
        "for ent in entities:\n",
        "    print(ent)\n",
        "\n",
        "plt.bar(entity_counts.keys(), entity_counts.values())\n",
        "plt.xlabel(\"Entity Type\")\n",
        "plt.ylabel(\"Frequency\")\n",
        "plt.title(\"Frequency of Named Entity Types\")\n",
        "plt.show()\n"
      ],
      "metadata": {
        "colab": {
          "base_uri": "https://localhost:8080/",
          "height": 822
        },
        "id": "ONRaE0HZ9NEH",
        "outputId": "4612b39e-085f-4ed5-f6b4-b41423b16181"
      },
      "execution_count": 30,
      "outputs": [
        {
          "output_type": "stream",
          "name": "stdout",
          "text": [
            "Extracted Article Text:\n",
            "Despite FC Barcelona and Lionel Messi having reached an agreement and the clear intention of both parties to sign a new contract today, this cannot happen because of Spanish LaLiga regulations on player registration.\n",
            "\n",
            "As a result of this situation, Messi shall not be staying on at FC Barcelona. Both parties deeply regret that the wishes of the player and the club will ultimately not be fulfilled.\n",
            "\n",
            "FC Barcelona wholeheartedly expresses its gratitude to the player for his contribution to the aggrandisement of the club and wishes him all the very best for the future in his personal and professional life. ...\n"
          ]
        },
        {
          "output_type": "stream",
          "name": "stderr",
          "text": [
            "/usr/local/lib/python3.10/dist-packages/thinc/shims/pytorch.py:253: FutureWarning: You are using `torch.load` with `weights_only=False` (the current default value), which uses the default pickle module implicitly. It is possible to construct malicious pickle data which will execute arbitrary code during unpickling (See https://github.com/pytorch/pytorch/blob/main/SECURITY.md#untrusted-models for more details). In a future release, the default value for `weights_only` will be flipped to `True`. This limits the functions that could be executed during unpickling. Arbitrary objects will no longer be allowed to be loaded via this mode unless they are explicitly allowlisted by the user via `torch.serialization.add_safe_globals`. We recommend you start setting `weights_only=True` for any use case where you don't have full control of the loaded file. Please open an issue on GitHub for any issues related to this experimental feature.\n",
            "  model.load_state_dict(torch.load(filelike, map_location=device))\n",
            "/usr/local/lib/python3.10/dist-packages/thinc/shims/pytorch.py:114: FutureWarning: `torch.cuda.amp.autocast(args...)` is deprecated. Please use `torch.amp.autocast('cuda', args...)` instead.\n",
            "  with torch.cuda.amp.autocast(self._mixed_precision):\n"
          ]
        },
        {
          "output_type": "stream",
          "name": "stdout",
          "text": [
            "\n",
            "Extracted Entities:\n",
            "('FC Barcelona', 'ORG')\n",
            "('Lionel Messi', 'PERSON')\n",
            "('today', 'DATE')\n",
            "('Spanish', 'NORP')\n",
            "('Messi', 'PERSON')\n",
            "('FC Barcelona', 'ORG')\n",
            "('FC Barcelona', 'ORG')\n"
          ]
        },
        {
          "output_type": "display_data",
          "data": {
            "text/plain": [
              "<Figure size 640x480 with 1 Axes>"
            ],
            "image/png": "[encoded data removed]"
          },
          "metadata": {}
        }
      ]
    },
    {
      "cell_type": "markdown",
      "source": [
        "I initially used the en_core_web_sm model by spacy, which is fast and requires less space, but is not the optimal model for NER. The results for it identified\n",
        "\n",
        "PERSON: \"FC Barcelona\" and \"Messi\".\n",
        "\n",
        "GPE (Geopolitical Entities): \"Lionel Messi\" and \"Barcelona\".\n",
        "\n",
        "DATE: \"today\".\n",
        "\n",
        "NORP (Nationalities or Religious/Political Groups): \"Spanish\".\n",
        "\n",
        "FAC (Facilities): \"FC Barcelona\".\n",
        "\n",
        "These entities are correctly identified, but there were slight inaccuracies in labeling:\n",
        "\n",
        "\"Lionel Messi\" is a PERSON, not a GPE.\n",
        "\"FC Barcelona\" was tagged as both PERSON and FAC, which could lead to confusion."
      ],
      "metadata": {
        "id": "doOMc1CgBeZj"
      }
    },
    {
      "cell_type": "markdown",
      "source": [
        "\n",
        "I then switched to the en_core_web_trf model, which is the slowest, heaviest\n",
        "and best spacy model for NER. As expected, my NER results improved:\n",
        "\n",
        "ORG (Organizations):\n",
        "\"FC Barcelona\" appears multiple times as an organization. This occurence has the highest frequency.         \n",
        "\n",
        "PERSON (People):\n",
        "\"Lionel Messi\" and \"Messi\" were correctly identified as persons. This occurence has the second highest frequency.\n",
        "\n",
        "DATE:\n",
        "\"Today\" was identified as a date.\n",
        "\n",
        "NORP (Nationalities, Religions, or Political Groups):\n",
        "\"Spanish\" was correctly labeled.\n"
      ],
      "metadata": {
        "id": "eCeu-hNbCkRn"
      }
    },
    {
      "cell_type": "markdown",
      "source": [
        "\n",
        "\n",
        "--- --- --- ---\n",
        "\n",
        "\n",
        "2. Select any research paper of your interest and perform word frequency and keyword extraction analysis. Use at least 3 different techniques/libraries. Show all the necessary output and visualization and explain your findings. Compare different techniques and mention if you see any shortcoming or error in the algorithm output.\n"
      ],
      "metadata": {
        "id": "MHILRv-4DH8F"
      }
    },
    {
      "cell_type": "code",
      "source": [
        "!pip install PyPDF2\n",
        "!pip install nltk\n",
        "\n",
        "import re\n",
        "import string\n",
        "import nltk\n",
        "from nltk.corpus import stopwords\n",
        "from sklearn.feature_extraction.text import TfidfVectorizer\n",
        "from collections import Counter\n",
        "import PyPDF2\n",
        "\n",
        "nltk.download('stopwords')\n",
        "\n",
        "with open(\"MIT Cheetah 3 Design and Control of a Robust, Dynamic Quadruped Robot.pdf\", \"rb\") as file:\n",
        "    pdf_reader = PyPDF2.PdfReader(file)\n",
        "\n",
        "    text = \"\"\n",
        "    for page_num in range(len(pdf_reader.pages)):\n",
        "        page = pdf_reader.pages[page_num]\n",
        "        text += page.extract_text()\n",
        "\n",
        "\n",
        "def preprocess_text(text):\n",
        "    text = text.lower()\n",
        "    text = re.sub(f\"[{string.punctuation}]\", \" \", text)\n",
        "    text = re.sub(r\"\\d+\", \" \", text)\n",
        "\n",
        "    stop_words = set(stopwords.words(\"english\"))\n",
        "    words = text.split()\n",
        "    words = [word for word in words if word not in stop_words]\n",
        "\n",
        "    return \" \".join(words)\n",
        "\n",
        "preprocessed_text = preprocess_text(text)"
      ],
      "metadata": {
        "colab": {
          "base_uri": "https://localhost:8080/"
        },
        "id": "ZQtjDgwiDFTw",
        "outputId": "157179db-82b4-4d78-bbb8-a66570af6a9a"
      },
      "execution_count": 6,
      "outputs": [
        {
          "output_type": "stream",
          "name": "stdout",
          "text": [
            "Requirement already satisfied: PyPDF2 in /usr/local/lib/python3.10/dist-packages (3.0.1)\n",
            "Requirement already satisfied: nltk in /usr/local/lib/python3.10/dist-packages (3.9.1)\n",
            "Requirement already satisfied: click in /usr/local/lib/python3.10/dist-packages (from nltk) (8.1.7)\n",
            "Requirement already satisfied: joblib in /usr/local/lib/python3.10/dist-packages (from nltk) (1.4.2)\n",
            "Requirement already satisfied: regex>=2021.8.3 in /usr/local/lib/python3.10/dist-packages (from nltk) (2024.9.11)\n",
            "Requirement already satisfied: tqdm in /usr/local/lib/python3.10/dist-packages (from nltk) (4.66.6)\n"
          ]
        },
        {
          "output_type": "stream",
          "name": "stderr",
          "text": [
            "[nltk_data] Downloading package stopwords to /root/nltk_data...\n",
            "[nltk_data]   Package stopwords is already up-to-date!\n"
          ]
        }
      ]
    },
    {
      "cell_type": "code",
      "source": [
        "word_counts = Counter(preprocessed_text.split())\n",
        "\n",
        "most_common_words = word_counts.most_common(10)\n",
        "print(\"Most Common Words:\", most_common_words)\n",
        "\n",
        "import matplotlib.pyplot as plt\n",
        "\n",
        "words, counts = zip(*most_common_words)\n",
        "plt.figure(figsize=(12, 6))\n",
        "plt.bar(words, counts)\n",
        "plt.xlabel(\"Words\")\n",
        "plt.ylabel(\"Frequency\")\n",
        "plt.title(\"Word Frequency in Research Paper\")\n",
        "plt.show()\n"
      ],
      "metadata": {
        "colab": {
          "base_uri": "https://localhost:8080/",
          "height": 581
        },
        "id": "FVAFnC9hHNWv",
        "outputId": "a39a8023-4939-45cc-f4b3-9dc7832875ad"
      },
      "execution_count": 13,
      "outputs": [
        {
          "output_type": "stream",
          "name": "stdout",
          "text": [
            "Most Common Words: [('robot', 67), ('leg', 63), ('control', 60), ('cheetah', 41), ('locomotion', 31), ('mit', 27), ('force', 26), ('design', 24), ('use', 23), ('robots', 23)]\n"
          ]
        },
        {
          "output_type": "display_data",
          "data": {
            "text/plain": [
              "<Figure size 1200x600 with 1 Axes>"
            ],
            "image/png": "[encoded data removed]"
          },
          "metadata": {}
        }
      ]
    },
    {
      "cell_type": "code",
      "source": [
        "vectorizer = TfidfVectorizer(max_features=10)\n",
        "tfidf_matrix = vectorizer.fit_transform([preprocessed_text])\n",
        "keywords = vectorizer.get_feature_names_out()\n",
        "\n",
        "print(\"TF-IDF Keywords:\", list(zip(keywords, tfidf_matrix.toarray()[0]*100)))"
      ],
      "metadata": {
        "colab": {
          "base_uri": "https://localhost:8080/"
        },
        "id": "a4oxNU-OHR3o",
        "outputId": "7134827a-040f-44fb-c3fd-854313493a50"
      },
      "execution_count": 14,
      "outputs": [
        {
          "output_type": "stream",
          "name": "stdout",
          "text": [
            "TF-IDF Keywords: [('cheetah', 30.822986883148197), ('control', 43.72563255516372), ('design', 18.63715485957798), ('foot', 17.203527562687366), ('force', 18.63715485957798), ('leg', 45.15925985205433), ('locomotion', 22.22122310180451), ('mit', 19.353968508023286), ('robot', 54.47783728184332), ('use', 16.48671391424206)]\n"
          ]
        }
      ]
    },
    {
      "cell_type": "markdown",
      "source": [
        "### TF-IDF highlights terms like \"control,\" \"design,\" \"force,\" and \"locomotion,\" which are contextually significant but not necessarily the most frequent. This demonstrates TF-IDF's strength in identifying terms that are important relative to their frequency in the document versus their occurrence in general language."
      ],
      "metadata": {
        "id": "k5kRJsoH4AON"
      }
    },
    {
      "cell_type": "code",
      "source": [
        "!pip install rake-nltk\n",
        "import nltk\n",
        "nltk.download('punkt_tab')\n",
        "\n",
        "from rake_nltk import Rake\n",
        "\n",
        "rake = Rake()\n",
        "rake.extract_keywords_from_text(preprocessed_text)\n",
        "rake_keywords = rake.get_ranked_phrases()\n",
        "\n",
        "print(\"RAKE Keywords:\", rake_keywords[:10])"
      ],
      "metadata": {
        "colab": {
          "base_uri": "https://localhost:8080/"
        },
        "id": "A46zgQ-7B4bl",
        "outputId": "f9ff360c-127f-4d4f-e2a9-2c295d6cbaae"
      },
      "execution_count": 15,
      "outputs": [
        {
          "output_type": "stream",
          "name": "stdout",
          "text": [
            "Requirement already satisfied: rake-nltk in /usr/local/lib/python3.10/dist-packages (1.0.6)\n",
            "Requirement already satisfied: nltk<4.0.0,>=3.6.2 in /usr/local/lib/python3.10/dist-packages (from rake-nltk) (3.9.1)\n",
            "Requirement already satisfied: click in /usr/local/lib/python3.10/dist-packages (from nltk<4.0.0,>=3.6.2->rake-nltk) (8.1.7)\n",
            "Requirement already satisfied: joblib in /usr/local/lib/python3.10/dist-packages (from nltk<4.0.0,>=3.6.2->rake-nltk) (1.4.2)\n",
            "Requirement already satisfied: regex>=2021.8.3 in /usr/local/lib/python3.10/dist-packages (from nltk<4.0.0,>=3.6.2->rake-nltk) (2024.9.11)\n",
            "Requirement already satisfied: tqdm in /usr/local/lib/python3.10/dist-packages (from nltk<4.0.0,>=3.6.2->rake-nltk) (4.66.6)\n"
          ]
        },
        {
          "output_type": "stream",
          "name": "stderr",
          "text": [
            "[nltk_data] Downloading package punkt_tab to /root/nltk_data...\n",
            "[nltk_data]   Package punkt_tab is already up-to-date!\n"
          ]
        },
        {
          "output_type": "stream",
          "name": "stdout",
          "text": [
            "RAKE Keywords: ['design robust control architecture allow variety unique behaviors important improvements design mit cheetah greatly enhance possibilities new robot used real world applications since robot ground reaction force control planning independent leg conﬁguration locomotion occur regardless way knees pointed shown figure new design incorporating b c fig unique design capabilities robot able use controllers described regardless leg orientation balance extreme conﬁgurations b make use wide range motion position limbs c powerful custom electric motor ab ad dof robot gains ability apply large lateral forces robot gains improved range motion allows exaggerated yaw motions depicted figure b addition deﬁned forward top robot able rotate legs fully body using chain leg design gives robot ability omni directionally rotate knee joint figure c future taken advantage allow robot use legs locomotion well interact surroundings carry tasks c blind stair climbing although robot preemptive knowledge terrain control architecture described allows robust loco motion highly unstructured abrupt terrain changes staircases since external sensors robot assumes ﬂat unobstructed world must act reactively current sensed state encountering unforeseen obstacles contact detection algorithm mentioned section iii unexpected collision ob jects stairs detected used modify swing foot trajectories balance strategy event based gait scheduler robot senses step adjusts posture based section iii g expects contacts along estimated plane staircase built testing us standard cm rise cm run figure shows robot stair climbing experiment successfully reaches platform top staircase several tests run robot successfully climbed stairs failures due operator errors attempting take robot outside kinematic limits rather due failures control architecture attached video demonstrates ability robot reject large disturbances pulled rope steps cases regains balance continues try climb fig blindly climbing stairs control framework described throughout paper robot able successfully climb stairs without use external environment sensors steps forced intended objective ability reactively sense adapt unexpected obstacles indicates robot capable robustly operating adapting realistic unstructured changing terrains without relying precise perception planning v c onclusions future work paper introduced mit cheetah quadruped robot new legged robot platform improved design mit cheetah robot larger range motion full control capabilities robustness demonstrated without use external sensing signiﬁes capable successful locomotion challenging situations without relying knowledge environment prior executing control strategy general control architecture lends use number different controllers minimal modiﬁca tions software hardware promising initial results novel nonlinear policy regularized model predictive control framework pr mpc expand current controllers presented optimizing ground reaction forces well footstep locations using simple physics based heuristics regularize prediction robot intelligently decide best place feet given gait take advantage dynamics steady state locomotion disturbance rejection robot currently operates taking user inputs commanded velocity turning rate higher level path planner developed allow autonomous operation world higher level planner naturally integrated framework path planner well providing information enhancing controllers state estimation references “ darpa robotics challenge ” http www theroboticschallenge org nov hutter c gehring jud lauber c bellicoso v tsounis j hwangbo k bodie p fankhauser bloesch r diethelm bachmann melzer hoepﬂinger “ anymal highly mobile dynamic quadrupedal robot ” ieee rsj international conference intelligent robots systems pp – oct h w park p wensing kim “ online planning autonomous running jumps obstacles high speed quadrupeds ” proceed ings robotics science systems rome italy july kuindersma r deits fallon valenzuela h dai f per menter koolen p marion r tedrake “ optimization based locomotion planning estimation control design atlas humanoid robot ” autonomous robots pp – n radford et al “ valkyrie nasa ’', 'ﬁrst bipedal humanoid robot ” journal field robotics vol pp – raibert k blankespoor g nelson r playter big dog team “ bigdog rough terrain quaduped robot ” proceed ings th world congress pp – c semini v barasuol j goldsmith frigerio focchi gao g caldwell “ design hydraulically actuated torque controlled quadruped robot hyq max ” ieee asme transactions mechatronics vol pp – april h w park p wensing kim “ high speed bounding mit cheetah control design experiments ” international journal robotics research vol pp – p wensing wang seok otten j lang kim “ proprioceptive actuator design mit cheetah impact mitigation high bandwidth physical interaction dynamic legged robots ” ieee transactions robotics vol pp – huang e olson c moore “ lcm lightweight com munications marshalling ” ieee rsj international conference intelligent robots systems pp – oct g bledt p wensing ingersoll kim “ contact model fusion event based locomotion unstructured terrains ” ieee int conf robotics automation appear focchi del prete havoutis r featherstone g caldwell c semini “ high slope terrain locomotion torque controlled quadruped robots ” autonomous robots vol pp – jan b stephens c atkeson “ push recovery stepping humanoid robots force controlled joints ” ieee ras international con ference humanoid robots pp – dec f bullo r murray “ proportional derivative pd control euclidean group ” proc european control conference rome italy pp – june r murray z li sastry mathematical introduction robotic manipulation crc press c gehring coros hutter bloesch hoepﬂinger r siegwart “ control dynamic gaits quadrupedal robot ” ieee international conference robotics automation icra pp – may j dicarlo p wensing b katz g bledt kim “ dynamic locomotion mit cheetah convex model predictive control ” submitted iros h raibert legged robots balance cambridge usa mit press j pratt j carff drakunov goswami “ capture point step toward humanoid push recovery ” ieee ras int conf humanoid robots genova italy pp – dec bloesch hutter hoepﬂinger leutenegger c gehring c remy r siegwart “ state estimation legged robots consistent fusion leg kinematics imu ” proceedings robotics science systems sydney australia july flayols prete p wensing mifsud benallegue stasse “ experimental evaluation simple estimators humanoid robots ” ieee ras th international conference humanoid robotics humanoids pp – nov r mahony hamel j pﬂimlin “ nonlinear complemen tary ﬁlters special orthogonal group ” ieee transactions automatic control vol pp – f fallon antone n roy teller “ drift free humanoid state estimation fusing kinematic inertial lidar sensing ” ieee ras international conference humanoid robots pp – nov seok wang chuah otten j lang kim “ design principles highly efﬁcient quadrupeds implementation mit cheetah robot ” ieee international conference robotics automation pp – may g bledt p wensing kim “ policy regularized model predictive control stabilize diverse quadrupedal gaits mit cheetah ” ieee rsj int conf intelligent robots systems', 'mit cheetah design control robust dynamic quadruped robot gerardo bledt matthew j powell benjamin katz jared di carlo patrick wensing sangbae kim abstract — paper introduces new robust dynamic quadruped mit cheetah like predecessor cheetah exploits tailored mechanical design enable simple control strategies dynamic locomotion features high bandwidth proprioceptive actuators manage physical inter action environment new leg design presented includes proprioceptive actuation abduction adduction degrees freedom addition expanded range motion hips knees make full use new capabilities general balance locomotion controllers cheetah presented controllers embedded modular control architecture allows robot handle unexpected terrain disturbances reactive gait modiﬁcation without need external sensors prior environment knowledge efﬁciency robot demonstrated low cost transport cot multiple gaits moderate speeds lowest cot found trotting experiments showcase ability blindly climb stairs result full system integration results collectively represent promising step toward platform capable generalized dynamic legged locomotion ntroduction legged robots disruptive potential application challenging man made natural terrains contrast wheeled tracked vehicles legs provide high degree versatility deployed offering marked ad vantages operation irregular environments designing controlling machines realize potentials long motivated work across legged robotics community increasing intensity since onset recent darpa robotics challenge drc aftermath event highly capable quadrupeds e g humanoids e g research labs begun lend credibility vision legged robots making way human environments operate side stead yet despite broad range capabilities displayed modern machines many demonstrations remain instances success without broad versatility reliability necessary real world deployments conundrum legged machines may capacity outperform many humans animals cognitive tasks reasoning department mechanical engineering mit cambridge usa gbledt mit edu mjpowell mit edu benkatz mit edu sangbae mit edu department electrical engineering computer science mit cambridge usa gbledt mit edu department aerospace mechanical engineering university notre dame notre dame usa pwensing nd edu authors associated mit biomimetic robotics lab contributed equally success robot work supported national science foundation nsf iis air force ofﬁce scientiﬁc research afosr grant fa fig mit cheetah mit cheetah quadruped robot platform electrically powered robust robot capable untethered locomotion uncertain terrains intelligence still lag behind even basic animals terms physical skills mobility makes attractive ﬁrst place many animals naturally learn walk even run within hours born yet ability remains challenge legged robots quadruped robots recently shown impressive ad vancements dynamic locomotion capabilities using var ious actuation methods control strategies use hydraulic actuators proven successful legged locomotion big dog boston dynamics iit ’', 'actuation system designed give robot performance headroom tasks including high speed locomotion jumping carrying loads recovering extreme disturbances simple performance metric leg minimally extended robot capable producing purely vertical ground reaction force n times weight robot per leg extension typical conﬁguration operation vertical force capability exceeds n per leg contrast quadruped robots data available far lower force bodyweight capabilities minimal leg extension anymal produce around bodyweights per leg hyq max bodyweights c computing low level control architecture cheetah tiered computing architecture enables low level leg motor control run higher loop frequencies locomotion control allows easy expansion computing resources needed future sensing planning navitgation tasks locomotion con trol state estimation handled locomotion computer embedded pc nd gen core lap top cpu running ubuntu linux kernel config preempt rt patch locomotion computer receives user commands logs data using lightweight communication marshalling lcm lcm allow additional computers vision planning tasks easily communicate locomotion computer future leg level control performed arm cortex based processor leg controller communi cates locomotion computer khz ethercat performs leg level control tasks like cartesian impedance control joint pd control khz higher sample frequency leg level allows high rate joint velocity ﬁltering well higher bandwidth tracking swing phase position controlled actions finally leg controller sends torque commands receives joint encoder measurements brushless motor drives three motors leg perform current control motors khz sample rate hz closed loop bandwidth iii c ontrol architecture overall architecture system depicted block diagram figure block designed modular easily substituted without modiﬁ cation parts system operator provideshigh level commands giving desired translational veloc ity pd turning rate commands used plan smooth controllable com reference trajectory relayed body leg controllers various controllers planners use user input commands estimated robot state generate force commands leg stance position commands leg swing following sections describe implementation major components system mit cheetah gait planning cheetah ’', 'heuristically decreased highly dynamic portions gait kabk gwith \\x14 \\x14 refmax min \\x00 jjab \\x00 gjj g wheregis acceleration gravity \\x14 refis chosen \\x14 ref process effective de drift pitch roll however error accumulation yaw unavoidable without fusion using exteroceptive information vision second stage state estimation uses ori entation estimate rbalong kinematic measurements legs estimate base position velocity contrast previous state estimation techniques posed problem extended kalman filter two stage approach allows secondary fusion posed conventional kalman ﬁlter simpliﬁes analysis tuning ﬁlter guarantees ﬁlter equations never diverge ﬁnite time continuous time process equations modeled pb vb vb rbab ag wv pi wpi f g pbis position body vbits velocity ag \\x00 g tthe gravitational acceleration pithe position foot white noise terms wvand wpicharacterize noise accelerometer variability foot positions variability foot position modeled account effects foot slip stance also capture foot swing inﬂating process noise foot high level viewing rbab agas input system equations represent linear time invariant process thus amenable conventional kalman ﬁltering continuous time model converted discrete time ms time step using identical procedure leg kinematics provide measurements relative position vector foot body de drift estimates pb vb pifor foot letting prel qi rb denote relative foot position computed kinematics measurement residual generated ep \\x00 pi \\x00 pb \\x01 \\x00 prel qi rb similarly velocity foot relative body computed leg angles velocities body orien tation angular velocity computation denoted prel qi qi rb b b assumption foot ﬁxed provides associated measurement residual ev \\x00 \\x00 vb \\x01 \\x00 prel qi qi rb b b finally contact height hiis assumed foot associated measurement residual ehi \\x00 pi \\x01 \\x00 hi random multivariate gaussian ’', 'robust dynamic locomotion capabilities section ii presents main hardware platform design considerations con trol software architecture components described section iii results selected hardware experiments shown section iv finally section v discusses implica tions robotic platform future research directions allow team explore ii esign overview hardware design cheetah builds actuation paradigm mit cheetah robots using high torque density electric motors backdriveable single stage planetary gear reductions low inertia legs cheetah robot control ground reaction forces proprioception without use force sensors torque sensors series compliance joints feet cheetah robot designed primarily fast locomotion sagittal plane used high performance actuators hip knee joints abduction adduction ab ad cheetah nearly identical actuators three degrees freedom leg enabling fully control ground reaction forces cheetah legs feature greatly expanded range motion compared cheetah new ab ad actuators range motion \\x06 \\x0e new hip knee designs allow robot operate identically forwards backwards ﬂipped upside poten tially use legs simple manipulation tasks well locomotion robot powered watt hours board lithium polymer batteries providing approximately hours run time although robot internal space twice battery capacity longer run times necessary e \\x12 g \\x03 f w x w r u qhh \\x03 fw x w r u qhh \\x03 wd w r u qhh \\x03 rw r u qhh \\x03 kd l q lqndjh \\x03 w r \\x03 k l ls \\x03 odq h w u', 'gait deﬁned event based ﬁnite state machine uses leg independent phase variable schedule nominal contact swing phases allows ﬂexible gait deﬁnitions ﬂuid transitions trotting bounding pacing gaits presented paper framework allows implementation gait deﬁnition ease gaits designed mimic natural animal gaits controlling independent phases leg nominal gait plan modiﬁed unexpected contact events legs since robot use external environment sensors contact detection algorithm probabilistically fuses encoder measure ments estimated force expected gait phase estimate likelihood leg contact object scheduled contacts deﬁned independent boolean variabless \\x08 swing contact estimated contacts given \\x08 swing contact information robot differentiate normal operation unexpected early contacts late missed con tacts adjust control actions appropriately b controller model due irregularities hybrid nature arising repeated contact mode switches legs enter leave stance swing often difﬁcult use traditional control methods balancing robots rapidly transitioning periods underactuation make problem even complex therefore controllers used robot make use simpliﬁed control model templates optimize ground reaction forces footstep locations design robot light limbs low inertia compared overall body reason reasonably simplify control model ignore effects legs planning ground reaction forces stance feet particular cheetah controller model employs commonly used linear relationship robot ’', 'actuators consists custom high torque density electric motor coupled single stage planetary gear reduction slightly higher gear ratio compared cheetah chosen improve load carrying ability low speed efﬁciency robot legs serially actuated keep leg inertia low hip knee actuators co axially located hip leg shown figure lower link driven roller chain passes upper link providing additional x gear reduction using chain rather linkage lower link rotate \\x0e letting robot arbitrarily change orientation knees point forwards backwards roller chain introduce slight torque speed ripple link adds compliance knee actuator lower link practice effects caused high level performance suffer hip joint rotate continuously limited length wires knee actuator allowing robot potentially operate upside climb tall obstacles use feet manipulation body two ab ad actuators located pair legs coupled legs linkages see figure cutaway view leg actuation leg links machined aluminum total mass kg four legs mass robot end leg cover made mm thick urethane rubber table ii actuator parameters parameter value units gear ratio max torque nm max joint speed rad providing cushioning traction regardless contact angle leg ground cheetah ’', 'bai ref \\x00 ji qi ci qi gi wherejiis foot jacobian \\x03 iis operational space inertia matrix bai refis reference acceleration swing trajectory qiis vector joint conﬁgurations ci coriolis matrix giis torque due gravity full controller tracking swing trajectories j kp bpi ref \\x00 bpi kd bvi ref \\x00 bvi ff wherekpandkdare diagonal matrices proportional derivative gains cartesian pd controller runs leg controllers khz ensure swing leg pd controller remains stable gains scaled apparent mass leg maintain approximately natural frequency kp j des \\x03 jj q wherekp jis thej th diagonal entry kp desis desired natural frequency \\x03 jjis thej th diagonal entry operational space inertia matrix f virtual predictive support polygon order take advantage hybrid nature legged locomotion virtual support polygon deﬁned provide desired com location generalizes across gaits anticipating contact mode switches virtual support polygon biases away legs nearing end contact phase towards legs touchdown strategy enables robot maintain forward momentum gait using selected footstep locations create smooth reference trajectory automatically adapted footholds online deﬁne phase based approach assigns foot ’', 'state timestep consisting position velocity orientation angular velocity xref iis desired state robot kis horizon length solving mpc challenging orien tation dynamics nonlinear coupled effects recent work approximate dynamics enforced linear equality constraints based time varying approximation enables formulating mpc problem quadratic program resulting controller able anticipate plan around periods ﬂight underactuation optimal forces updated hz sent directly leg controllers e swing leg control footstep locations calculated corresponding hip location using linear combination raibert heuristic velocity based feedback term capture point formulation since robot external environment sensors footstep locations projected onto assumed ground plane therefore step location ground plane foot iis calculated hip robot following pstep ph tc pc z raibert heuristic rz kgk pc \\x00 pc z capture point wheretc nominal scheduled contact phase stance time z nominal height locomotion ph provides position corresponding hip pd controller feedforward term used com pute joint torques tracking cartesian swing trajectory foot feedforward force computed onboard embedded pc khz using leg dynamics ff j']\n"
          ]
        }
      ]
    },
    {
      "cell_type": "markdown",
      "source": [
        "### RAKE extracts longer phrases such as \"design robust control architecture\" and \"ground reaction force control planning.\" These phrases provide a deeper understanding of the paper's focus compared to single words, capturing contextual importance and technical phrases better than other methods."
      ],
      "metadata": {
        "id": "YpOD7sYi4P-N"
      }
    },
    {
      "cell_type": "code",
      "source": [
        "import spacy\n",
        "!python -m spacy download en_core_web_md\n",
        "import en_core_web_md\n",
        "\n",
        "nlp = spacy.load(\"en_core_web_md\")\n",
        "doc = nlp(preprocessed_text)\n",
        "\n",
        "spacy_keywords = [chunk.text for chunk in doc.noun_chunks]\n",
        "\n",
        "print(\"SpaCy Keywords:\", spacy_keywords[:10])"
      ],
      "metadata": {
        "colab": {
          "base_uri": "https://localhost:8080/"
        },
        "id": "bSvpdLj3H1--",
        "outputId": "9440220a-4e84-415b-9471-d9b440a56170"
      },
      "execution_count": 20,
      "outputs": [
        {
          "output_type": "stream",
          "name": "stdout",
          "text": [
            "Collecting en-core-web-md==3.7.1\n",
            "  Downloading https://github.com/explosion/spacy-models/releases/download/en_core_web_md-3.7.1/en_core_web_md-3.7.1-py3-none-any.whl (42.8 MB)\n",
            "\u001b[2K     \u001b[90m━━━━━━━━━━━━━━━━━━━━━━━━━━━━━━━━━━━━━━━━\u001b[0m \u001b[32m42.8/42.8 MB\u001b[0m \u001b[31m16.1 MB/s\u001b[0m eta \u001b[36m0:00:00\u001b[0m\n",
            "\u001b[?25hRequirement already satisfied: spacy<3.8.0,>=3.7.2 in /usr/local/lib/python3.10/dist-packages (from en-core-web-md==3.7.1) (3.7.5)\n",
            "Requirement already satisfied: spacy-legacy<3.1.0,>=3.0.11 in /usr/local/lib/python3.10/dist-packages (from spacy<3.8.0,>=3.7.2->en-core-web-md==3.7.1) (3.0.12)\n",
            "Requirement already satisfied: spacy-loggers<2.0.0,>=1.0.0 in /usr/local/lib/python3.10/dist-packages (from spacy<3.8.0,>=3.7.2->en-core-web-md==3.7.1) (1.0.5)\n",
            "Requirement already satisfied: murmurhash<1.1.0,>=0.28.0 in /usr/local/lib/python3.10/dist-packages (from spacy<3.8.0,>=3.7.2->en-core-web-md==3.7.1) (1.0.10)\n",
            "Requirement already satisfied: cymem<2.1.0,>=2.0.2 in /usr/local/lib/python3.10/dist-packages (from spacy<3.8.0,>=3.7.2->en-core-web-md==3.7.1) (2.0.8)\n",
            "Requirement already satisfied: preshed<3.1.0,>=3.0.2 in /usr/local/lib/python3.10/dist-packages (from spacy<3.8.0,>=3.7.2->en-core-web-md==3.7.1) (3.0.9)\n",
            "Requirement already satisfied: thinc<8.3.0,>=8.2.2 in /usr/local/lib/python3.10/dist-packages (from spacy<3.8.0,>=3.7.2->en-core-web-md==3.7.1) (8.2.5)\n",
            "Requirement already satisfied: wasabi<1.2.0,>=0.9.1 in /usr/local/lib/python3.10/dist-packages (from spacy<3.8.0,>=3.7.2->en-core-web-md==3.7.1) (1.1.3)\n",
            "Requirement already satisfied: srsly<3.0.0,>=2.4.3 in /usr/local/lib/python3.10/dist-packages (from spacy<3.8.0,>=3.7.2->en-core-web-md==3.7.1) (2.4.8)\n",
            "Requirement already satisfied: catalogue<2.1.0,>=2.0.6 in /usr/local/lib/python3.10/dist-packages (from spacy<3.8.0,>=3.7.2->en-core-web-md==3.7.1) (2.0.10)\n",
            "Requirement already satisfied: weasel<0.5.0,>=0.1.0 in /usr/local/lib/python3.10/dist-packages (from spacy<3.8.0,>=3.7.2->en-core-web-md==3.7.1) (0.4.1)\n",
            "Requirement already satisfied: typer<1.0.0,>=0.3.0 in /usr/local/lib/python3.10/dist-packages (from spacy<3.8.0,>=3.7.2->en-core-web-md==3.7.1) (0.13.0)\n",
            "Requirement already satisfied: tqdm<5.0.0,>=4.38.0 in /usr/local/lib/python3.10/dist-packages (from spacy<3.8.0,>=3.7.2->en-core-web-md==3.7.1) (4.66.6)\n",
            "Requirement already satisfied: requests<3.0.0,>=2.13.0 in /usr/local/lib/python3.10/dist-packages (from spacy<3.8.0,>=3.7.2->en-core-web-md==3.7.1) (2.32.3)\n",
            "Requirement already satisfied: pydantic!=1.8,!=1.8.1,<3.0.0,>=1.7.4 in /usr/local/lib/python3.10/dist-packages (from spacy<3.8.0,>=3.7.2->en-core-web-md==3.7.1) (2.9.2)\n",
            "Requirement already satisfied: jinja2 in /usr/local/lib/python3.10/dist-packages (from spacy<3.8.0,>=3.7.2->en-core-web-md==3.7.1) (3.1.4)\n",
            "Requirement already satisfied: setuptools in /usr/local/lib/python3.10/dist-packages (from spacy<3.8.0,>=3.7.2->en-core-web-md==3.7.1) (75.1.0)\n",
            "Requirement already satisfied: packaging>=20.0 in /usr/local/lib/python3.10/dist-packages (from spacy<3.8.0,>=3.7.2->en-core-web-md==3.7.1) (24.2)\n",
            "Requirement already satisfied: langcodes<4.0.0,>=3.2.0 in /usr/local/lib/python3.10/dist-packages (from spacy<3.8.0,>=3.7.2->en-core-web-md==3.7.1) (3.4.1)\n",
            "Requirement already satisfied: numpy>=1.19.0 in /usr/local/lib/python3.10/dist-packages (from spacy<3.8.0,>=3.7.2->en-core-web-md==3.7.1) (1.26.4)\n",
            "Requirement already satisfied: language-data>=1.2 in /usr/local/lib/python3.10/dist-packages (from langcodes<4.0.0,>=3.2.0->spacy<3.8.0,>=3.7.2->en-core-web-md==3.7.1) (1.2.0)\n",
            "Requirement already satisfied: annotated-types>=0.6.0 in /usr/local/lib/python3.10/dist-packages (from pydantic!=1.8,!=1.8.1,<3.0.0,>=1.7.4->spacy<3.8.0,>=3.7.2->en-core-web-md==3.7.1) (0.7.0)\n",
            "Requirement already satisfied: pydantic-core==2.23.4 in /usr/local/lib/python3.10/dist-packages (from pydantic!=1.8,!=1.8.1,<3.0.0,>=1.7.4->spacy<3.8.0,>=3.7.2->en-core-web-md==3.7.1) (2.23.4)\n",
            "Requirement already satisfied: typing-extensions>=4.6.1 in /usr/local/lib/python3.10/dist-packages (from pydantic!=1.8,!=1.8.1,<3.0.0,>=1.7.4->spacy<3.8.0,>=3.7.2->en-core-web-md==3.7.1) (4.12.2)\n",
            "Requirement already satisfied: charset-normalizer<4,>=2 in /usr/local/lib/python3.10/dist-packages (from requests<3.0.0,>=2.13.0->spacy<3.8.0,>=3.7.2->en-core-web-md==3.7.1) (3.4.0)\n",
            "Requirement already satisfied: idna<4,>=2.5 in /usr/local/lib/python3.10/dist-packages (from requests<3.0.0,>=2.13.0->spacy<3.8.0,>=3.7.2->en-core-web-md==3.7.1) (3.10)\n",
            "Requirement already satisfied: urllib3<3,>=1.21.1 in /usr/local/lib/python3.10/dist-packages (from requests<3.0.0,>=2.13.0->spacy<3.8.0,>=3.7.2->en-core-web-md==3.7.1) (2.2.3)\n",
            "Requirement already satisfied: certifi>=2017.4.17 in /usr/local/lib/python3.10/dist-packages (from requests<3.0.0,>=2.13.0->spacy<3.8.0,>=3.7.2->en-core-web-md==3.7.1) (2024.8.30)\n",
            "Requirement already satisfied: blis<0.8.0,>=0.7.8 in /usr/local/lib/python3.10/dist-packages (from thinc<8.3.0,>=8.2.2->spacy<3.8.0,>=3.7.2->en-core-web-md==3.7.1) (0.7.11)\n",
            "Requirement already satisfied: confection<1.0.0,>=0.0.1 in /usr/local/lib/python3.10/dist-packages (from thinc<8.3.0,>=8.2.2->spacy<3.8.0,>=3.7.2->en-core-web-md==3.7.1) (0.1.5)\n",
            "Requirement already satisfied: click>=8.0.0 in /usr/local/lib/python3.10/dist-packages (from typer<1.0.0,>=0.3.0->spacy<3.8.0,>=3.7.2->en-core-web-md==3.7.1) (8.1.7)\n",
            "Requirement already satisfied: shellingham>=1.3.0 in /usr/local/lib/python3.10/dist-packages (from typer<1.0.0,>=0.3.0->spacy<3.8.0,>=3.7.2->en-core-web-md==3.7.1) (1.5.4)\n",
            "Requirement already satisfied: rich>=10.11.0 in /usr/local/lib/python3.10/dist-packages (from typer<1.0.0,>=0.3.0->spacy<3.8.0,>=3.7.2->en-core-web-md==3.7.1) (13.9.4)\n",
            "Requirement already satisfied: cloudpathlib<1.0.0,>=0.7.0 in /usr/local/lib/python3.10/dist-packages (from weasel<0.5.0,>=0.1.0->spacy<3.8.0,>=3.7.2->en-core-web-md==3.7.1) (0.20.0)\n",
            "Requirement already satisfied: smart-open<8.0.0,>=5.2.1 in /usr/local/lib/python3.10/dist-packages (from weasel<0.5.0,>=0.1.0->spacy<3.8.0,>=3.7.2->en-core-web-md==3.7.1) (7.0.5)\n",
            "Requirement already satisfied: MarkupSafe>=2.0 in /usr/local/lib/python3.10/dist-packages (from jinja2->spacy<3.8.0,>=3.7.2->en-core-web-md==3.7.1) (3.0.2)\n",
            "Requirement already satisfied: marisa-trie>=0.7.7 in /usr/local/lib/python3.10/dist-packages (from language-data>=1.2->langcodes<4.0.0,>=3.2.0->spacy<3.8.0,>=3.7.2->en-core-web-md==3.7.1) (1.2.1)\n",
            "Requirement already satisfied: markdown-it-py>=2.2.0 in /usr/local/lib/python3.10/dist-packages (from rich>=10.11.0->typer<1.0.0,>=0.3.0->spacy<3.8.0,>=3.7.2->en-core-web-md==3.7.1) (3.0.0)\n",
            "Requirement already satisfied: pygments<3.0.0,>=2.13.0 in /usr/local/lib/python3.10/dist-packages (from rich>=10.11.0->typer<1.0.0,>=0.3.0->spacy<3.8.0,>=3.7.2->en-core-web-md==3.7.1) (2.18.0)\n",
            "Requirement already satisfied: wrapt in /usr/local/lib/python3.10/dist-packages (from smart-open<8.0.0,>=5.2.1->weasel<0.5.0,>=0.1.0->spacy<3.8.0,>=3.7.2->en-core-web-md==3.7.1) (1.16.0)\n",
            "Requirement already satisfied: mdurl~=0.1 in /usr/local/lib/python3.10/dist-packages (from markdown-it-py>=2.2.0->rich>=10.11.0->typer<1.0.0,>=0.3.0->spacy<3.8.0,>=3.7.2->en-core-web-md==3.7.1) (0.1.2)\n",
            "Installing collected packages: en-core-web-md\n",
            "Successfully installed en-core-web-md-3.7.1\n",
            "\u001b[38;5;2m✔ Download and installation successful\u001b[0m\n",
            "You can now load the package via spacy.load('en_core_web_md')\n",
            "\u001b[38;5;3m⚠ Restart to reload dependencies\u001b[0m\n",
            "If you are in a Jupyter or Colab notebook, you may need to restart Python in\n",
            "order to load all the package's dependencies. You can do this by selecting the\n",
            "'Restart kernel' or 'Restart runtime' option.\n",
            "SpaCy Keywords: ['cheetah design control', 'paper', 'new robust dynamic quadruped mit cheetah', 'predecessor cheetah', 'tailored mechanical design', 'simple control strategies', 'dynamic locomotion', 'high bandwidth proprioceptive actuators', 'physical inter action environment', 'new leg design']\n"
          ]
        }
      ]
    },
    {
      "cell_type": "markdown",
      "source": [
        "### SpaCy identifies noun phrases like \"new robust dynamic quadruped,\" \"tailored mechanical design,\" and \"high bandwidth proprioceptive actuators.\" These are concise and meaningful, summarizing key technical elements of the paper, but lack ranking or prioritization compared to TF-IDF or RAKE."
      ],
      "metadata": {
        "id": "Fvfiu8Az4j-w"
      }
    },
    {
      "cell_type": "markdown",
      "source": [
        "Contrast & Limitations:\n",
        "\n",
        "Word Frequency (Counter): Captures frequently occurring words but lacks contextual understanding or differentiation between commonly used and key technical terms.\n",
        "\n",
        "TF-IDF: Effectively identifies important terms but may miss out on longer, contextually rich phrases.\n",
        "\n",
        "RAKE: Provides detailed phrases that add context but occasionally extracts overly specific or less relevant phrases.\n",
        "\n",
        "SpaCy: Extracts clean noun phrases but doesn't assign importance or relevance, requiring manual interpretation.\n"
      ],
      "metadata": {
        "id": "8pKOBIBL4wAb"
      }
    },
    {
      "cell_type": "markdown",
      "source": [
        "\n",
        "\n",
        "---\n",
        "\n",
        "3. Choose any keyword or twitter handler (page/account) of your choice and pull/scrap at least 20 (tweets) from Twitter. Manually put them in a text file. One tweet per line.\n",
        "\n",
        "a. Read the text file line by line.\n",
        "\n",
        "b. Perform Sentiment Analysis on the tweet and show total positive and negative\n",
        "sentiment counts.\n",
        "\n",
        "c. Display one Positive and one Negative sentiment and discuss if the algorithm\n",
        "is accurate."
      ],
      "metadata": {
        "id": "I6v5qRqCIxGa"
      }
    },
    {
      "cell_type": "code",
      "source": [
        "from textblob import TextBlob\n",
        "\n",
        "with open(\"tweets_ext.txt\", \"r\") as file:\n",
        "    tweets = file.readlines()\n",
        "\n",
        "positive_count = 0\n",
        "negative_count = 0\n",
        "positive_tweets = []\n",
        "negative_tweets = []\n",
        "\n",
        "for tweet in tweets:\n",
        "    analysis = TextBlob(tweet.strip())\n",
        "    sentiment = analysis.sentiment.polarity\n",
        "\n",
        "    if sentiment > 0:\n",
        "        positive_count += 1\n",
        "        positive_tweets.append(tweet.strip())\n",
        "    elif sentiment < 0:\n",
        "        negative_count += 1\n",
        "        negative_tweets.append(tweet.strip())\n",
        "\n",
        "print(f\"Total Positive Tweets: {positive_count}\")\n",
        "print(f\"Total Negative Tweets: {negative_count}\")\n",
        "\n",
        "if positive_tweets:\n",
        "    print(\"\\nExample of Positive Tweet:\")\n",
        "    print(positive_tweets[0])\n",
        "else:\n",
        "    print(\"\\nNo Positive Tweets found.\")\n",
        "\n",
        "if negative_tweets:\n",
        "    print(\"\\nExample of Negative Tweet:\")\n",
        "    print(negative_tweets[0])\n",
        "else:\n",
        "    print(\"\\nNo Negative Tweets found.\")\n",
        "\n",
        "print(\"\\nDiscussion: While the sentiment analysis performed well in detecting positive tweets, it misclassified a promotional and professional tweet as negative. This suggests that the algorithm might struggle with context or domain-specific language, particularly in promotional content. Perhaps we could try refining the sentiment model with more domain-specific training data which could improve its accuracy.\")"
      ],
      "metadata": {
        "colab": {
          "base_uri": "https://localhost:8080/"
        },
        "id": "6Gk_IfZ7MVxC",
        "outputId": "56713ceb-5f6b-46b4-e9dc-e3a8ba99a20a"
      },
      "execution_count": 31,
      "outputs": [
        {
          "output_type": "stream",
          "name": "stdout",
          "text": [
            "Total Positive Tweets: 13\n",
            "Total Negative Tweets: 6\n",
            "\n",
            "Example of Positive Tweet:\n",
            "\"It’s only going to get better from here. #humanoid #robotics\"\n",
            "\n",
            "Example of Negative Tweet:\n",
            "\"Step up your surgical game with ColoRobotica! Join a community of professionals dedicated to excellence in #ColorectalSurgery. Apply today! ➡️ https://europeansocietyofcoloproctology.eu/education/european-school-of-coloproctology/robotic-training-programme #MedicalLeadership #SurgicalTraining\"\n",
            "\n",
            "Discussion: While the sentiment analysis performed well in detecting positive tweets, it misclassified a promotional and professional tweet as negative. This suggests that the algorithm might struggle with context or domain-specific language, particularly in promotional content. Perhaps we could try refining the sentiment model with more domain-specific training data which could improve its accuracy.\n"
          ]
        }
      ]
    },
    {
      "cell_type": "markdown",
      "source": [
        "\n",
        "\n",
        "---\n",
        "\n",
        "4. Pick any dataset and build recommendation engines using\n",
        "\n",
        "a. TF-IDF method\n",
        "\n",
        "b. Using word2vec (doc2vec) model (deep learning)\n",
        "\n",
        "c. Test both engines and compare the quality/accuracy of recommendations."
      ],
      "metadata": {
        "id": "L372oUUBW9TD"
      }
    },
    {
      "cell_type": "code",
      "source": [
        "import pandas as pd\n",
        "from sklearn.feature_extraction.text import TfidfVectorizer\n",
        "from sklearn.metrics.pairwise import cosine_similarity\n",
        "from gensim.models.doc2vec import Doc2Vec, TaggedDocument\n",
        "from sklearn.model_selection import train_test_split\n",
        "import numpy as np"
      ],
      "metadata": {
        "id": "yqbuTECSy1ii"
      },
      "execution_count": 23,
      "outputs": []
    },
    {
      "cell_type": "code",
      "source": [
        "data_path = 'steam-200k.csv'\n",
        "\n",
        "data = pd.read_csv(data_path)\n",
        "\n",
        "data.head()"
      ],
      "metadata": {
        "colab": {
          "base_uri": "https://localhost:8080/",
          "height": 206
        },
        "id": "Nseid837y3rR",
        "outputId": "b408d1aa-55e9-4a68-f112-c7c48fd3b8df"
      },
      "execution_count": 24,
      "outputs": [
        {
          "output_type": "execute_result",
          "data": {
            "text/plain": [
              "   151603712  The Elder Scrolls V Skyrim  purchase    1.0  0\n",
              "0  151603712  The Elder Scrolls V Skyrim      play  273.0  0\n",
              "1  151603712                   Fallout 4  purchase    1.0  0\n",
              "2  151603712                   Fallout 4      play   87.0  0\n",
              "3  151603712                       Spore  purchase    1.0  0\n",
              "4  151603712                       Spore      play   14.9  0"
            ],
            "text/html": [
              "\n",
              "  <div id=\"df-cf1fa1da-9704-459a-82fd-82534333be82\" class=\"colab-df-container\">\n",
              "    <div>\n",
              "<style scoped>\n",
              "    .dataframe tbody tr th:only-of-type {\n",
              "        vertical-align: middle;\n",
              "    }\n",
              "\n",
              "    .dataframe tbody tr th {\n",
              "        vertical-align: top;\n",
              "    }\n",
              "\n",
              "    .dataframe thead th {\n",
              "        text-align: right;\n",
              "    }\n",
              "</style>\n",
              "<table border=\"1\" class=\"dataframe\">\n",
              "  <thead>\n",
              "    <tr style=\"text-align: right;\">\n",
              "      <th></th>\n",
              "      <th>151603712</th>\n",
              "      <th>The Elder Scrolls V Skyrim</th>\n",
              "      <th>purchase</th>\n",
              "      <th>1.0</th>\n",
              "      <th>0</th>\n",
              "    </tr>\n",
              "  </thead>\n",
              "  <tbody>\n",
              "    <tr>\n",
              "      <th>0</th>\n",
              "      <td>151603712</td>\n",
              "      <td>The Elder Scrolls V Skyrim</td>\n",
              "      <td>play</td>\n",
              "      <td>273.0</td>\n",
              "      <td>0</td>\n",
              "    </tr>\n",
              "    <tr>\n",
              "      <th>1</th>\n",
              "      <td>151603712</td>\n",
              "      <td>Fallout 4</td>\n",
              "      <td>purchase</td>\n",
              "      <td>1.0</td>\n",
              "      <td>0</td>\n",
              "    </tr>\n",
              "    <tr>\n",
              "      <th>2</th>\n",
              "      <td>151603712</td>\n",
              "      <td>Fallout 4</td>\n",
              "      <td>play</td>\n",
              "      <td>87.0</td>\n",
              "      <td>0</td>\n",
              "    </tr>\n",
              "    <tr>\n",
              "      <th>3</th>\n",
              "      <td>151603712</td>\n",
              "      <td>Spore</td>\n",
              "      <td>purchase</td>\n",
              "      <td>1.0</td>\n",
              "      <td>0</td>\n",
              "    </tr>\n",
              "    <tr>\n",
              "      <th>4</th>\n",
              "      <td>151603712</td>\n",
              "      <td>Spore</td>\n",
              "      <td>play</td>\n",
              "      <td>14.9</td>\n",
              "      <td>0</td>\n",
              "    </tr>\n",
              "  </tbody>\n",
              "</table>\n",
              "</div>\n",
              "    <div class=\"colab-df-buttons\">\n",
              "\n",
              "  <div class=\"colab-df-container\">\n",
              "    <button class=\"colab-df-convert\" onclick=\"convertToInteractive('df-cf1fa1da-9704-459a-82fd-82534333be82')\"\n",
              "            title=\"Convert this dataframe to an interactive table.\"\n",
              "            style=\"display:none;\">\n",
              "\n",
              "  <svg xmlns=\"http://www.w3.org/2000/svg\" height=\"24px\" viewBox=\"0 -960 960 960\">\n",
              "    <path d=\"M120-120v-720h720v720H120Zm60-500h600v-160H180v160Zm220 220h160v-160H400v160Zm0 220h160v-160H400v160ZM180-400h160v-160H180v160Zm440 0h160v-160H620v160ZM180-180h160v-160H180v160Zm440 0h160v-160H620v160Z\"/>\n",
              "  </svg>\n",
              "    </button>\n",
              "\n",
              "  <style>\n",
              "    .colab-df-container {\n",
              "      display:flex;\n",
              "      gap: 12px;\n",
              "    }\n",
              "\n",
              "    .colab-df-convert {\n",
              "      background-color: #E8F0FE;\n",
              "      border: none;\n",
              "      border-radius: 50%;\n",
              "      cursor: pointer;\n",
              "      display: none;\n",
              "      fill: #1967D2;\n",
              "      height: 32px;\n",
              "      padding: 0 0 0 0;\n",
              "      width: 32px;\n",
              "    }\n",
              "\n",
              "    .colab-df-convert:hover {\n",
              "      background-color: #E2EBFA;\n",
              "      box-shadow: 0px 1px 2px rgba(60, 64, 67, 0.3), 0px 1px 3px 1px rgba(60, 64, 67, 0.15);\n",
              "      fill: #174EA6;\n",
              "    }\n",
              "\n",
              "    .colab-df-buttons div {\n",
              "      margin-bottom: 4px;\n",
              "    }\n",
              "\n",
              "    [theme=dark] .colab-df-convert {\n",
              "      background-color: #3B4455;\n",
              "      fill: #D2E3FC;\n",
              "    }\n",
              "\n",
              "    [theme=dark] .colab-df-convert:hover {\n",
              "      background-color: #434B5C;\n",
              "      box-shadow: 0px 1px 3px 1px rgba(0, 0, 0, 0.15);\n",
              "      filter: drop-shadow(0px 1px 2px rgba(0, 0, 0, 0.3));\n",
              "      fill: #FFFFFF;\n",
              "    }\n",
              "  </style>\n",
              "\n",
              "    <script>\n",
              "      const buttonEl =\n",
              "        document.querySelector('#df-cf1fa1da-9704-459a-82fd-82534333be82 button.colab-df-convert');\n",
              "      buttonEl.style.display =\n",
              "        google.colab.kernel.accessAllowed ? 'block' : 'none';\n",
              "\n",
              "      async function convertToInteractive(key) {\n",
              "        const element = document.querySelector('#df-cf1fa1da-9704-459a-82fd-82534333be82');\n",
              "        const dataTable =\n",
              "          await google.colab.kernel.invokeFunction('convertToInteractive',\n",
              "                                                    [key], {});\n",
              "        if (!dataTable) return;\n",
              "\n",
              "        const docLinkHtml = 'Like what you see? Visit the ' +\n",
              "          '<a target=\"_blank\" href=https://colab.research.google.com/notebooks/data_table.ipynb>data table notebook</a>'\n",
              "          + ' to learn more about interactive tables.';\n",
              "        element.innerHTML = '';\n",
              "        dataTable['output_type'] = 'display_data';\n",
              "        await google.colab.output.renderOutput(dataTable, element);\n",
              "        const docLink = document.createElement('div');\n",
              "        docLink.innerHTML = docLinkHtml;\n",
              "        element.appendChild(docLink);\n",
              "      }\n",
              "    </script>\n",
              "  </div>\n",
              "\n",
              "\n",
              "<div id=\"df-e8d6af1f-4eaa-4347-9688-7659d442ec93\">\n",
              "  <button class=\"colab-df-quickchart\" onclick=\"quickchart('df-e8d6af1f-4eaa-4347-9688-7659d442ec93')\"\n",
              "            title=\"Suggest charts\"\n",
              "            style=\"display:none;\">\n",
              "\n",
              "<svg xmlns=\"http://www.w3.org/2000/svg\" height=\"24px\"viewBox=\"0 0 24 24\"\n",
              "     width=\"24px\">\n",
              "    <g>\n",
              "        <path d=\"M19 3H5c-1.1 0-2 .9-2 2v14c0 1.1.9 2 2 2h14c1.1 0 2-.9 2-2V5c0-1.1-.9-2-2-2zM9 17H7v-7h2v7zm4 0h-2V7h2v10zm4 0h-2v-4h2v4z\"/>\n",
              "    </g>\n",
              "</svg>\n",
              "  </button>\n",
              "\n",
              "<style>\n",
              "  .colab-df-quickchart {\n",
              "      --bg-color: #E8F0FE;\n",
              "      --fill-color: #1967D2;\n",
              "      --hover-bg-color: #E2EBFA;\n",
              "      --hover-fill-color: #174EA6;\n",
              "      --disabled-fill-color: #AAA;\n",
              "      --disabled-bg-color: #DDD;\n",
              "  }\n",
              "\n",
              "  [theme=dark] .colab-df-quickchart {\n",
              "      --bg-color: #3B4455;\n",
              "      --fill-color: #D2E3FC;\n",
              "      --hover-bg-color: #434B5C;\n",
              "      --hover-fill-color: #FFFFFF;\n",
              "      --disabled-bg-color: #3B4455;\n",
              "      --disabled-fill-color: #666;\n",
              "  }\n",
              "\n",
              "  .colab-df-quickchart {\n",
              "    background-color: var(--bg-color);\n",
              "    border: none;\n",
              "    border-radius: 50%;\n",
              "    cursor: pointer;\n",
              "    display: none;\n",
              "    fill: var(--fill-color);\n",
              "    height: 32px;\n",
              "    padding: 0;\n",
              "    width: 32px;\n",
              "  }\n",
              "\n",
              "  .colab-df-quickchart:hover {\n",
              "    background-color: var(--hover-bg-color);\n",
              "    box-shadow: 0 1px 2px rgba(60, 64, 67, 0.3), 0 1px 3px 1px rgba(60, 64, 67, 0.15);\n",
              "    fill: var(--button-hover-fill-color);\n",
              "  }\n",
              "\n",
              "  .colab-df-quickchart-complete:disabled,\n",
              "  .colab-df-quickchart-complete:disabled:hover {\n",
              "    background-color: var(--disabled-bg-color);\n",
              "    fill: var(--disabled-fill-color);\n",
              "    box-shadow: none;\n",
              "  }\n",
              "\n",
              "  .colab-df-spinner {\n",
              "    border: 2px solid var(--fill-color);\n",
              "    border-color: transparent;\n",
              "    border-bottom-color: var(--fill-color);\n",
              "    animation:\n",
              "      spin 1s steps(1) infinite;\n",
              "  }\n",
              "\n",
              "  @keyframes spin {\n",
              "    0% {\n",
              "      border-color: transparent;\n",
              "      border-bottom-color: var(--fill-color);\n",
              "      border-left-color: var(--fill-color);\n",
              "    }\n",
              "    20% {\n",
              "      border-color: transparent;\n",
              "      border-left-color: var(--fill-color);\n",
              "      border-top-color: var(--fill-color);\n",
              "    }\n",
              "    30% {\n",
              "      border-color: transparent;\n",
              "      border-left-color: var(--fill-color);\n",
              "      border-top-color: var(--fill-color);\n",
              "      border-right-color: var(--fill-color);\n",
              "    }\n",
              "    40% {\n",
              "      border-color: transparent;\n",
              "      border-right-color: var(--fill-color);\n",
              "      border-top-color: var(--fill-color);\n",
              "    }\n",
              "    60% {\n",
              "      border-color: transparent;\n",
              "      border-right-color: var(--fill-color);\n",
              "    }\n",
              "    80% {\n",
              "      border-color: transparent;\n",
              "      border-right-color: var(--fill-color);\n",
              "      border-bottom-color: var(--fill-color);\n",
              "    }\n",
              "    90% {\n",
              "      border-color: transparent;\n",
              "      border-bottom-color: var(--fill-color);\n",
              "    }\n",
              "  }\n",
              "</style>\n",
              "\n",
              "  <script>\n",
              "    async function quickchart(key) {\n",
              "      const quickchartButtonEl =\n",
              "        document.querySelector('#' + key + ' button');\n",
              "      quickchartButtonEl.disabled = true;  // To prevent multiple clicks.\n",
              "      quickchartButtonEl.classList.add('colab-df-spinner');\n",
              "      try {\n",
              "        const charts = await google.colab.kernel.invokeFunction(\n",
              "            'suggestCharts', [key], {});\n",
              "      } catch (error) {\n",
              "        console.error('Error during call to suggestCharts:', error);\n",
              "      }\n",
              "      quickchartButtonEl.classList.remove('colab-df-spinner');\n",
              "      quickchartButtonEl.classList.add('colab-df-quickchart-complete');\n",
              "    }\n",
              "    (() => {\n",
              "      let quickchartButtonEl =\n",
              "        document.querySelector('#df-e8d6af1f-4eaa-4347-9688-7659d442ec93 button');\n",
              "      quickchartButtonEl.style.display =\n",
              "        google.colab.kernel.accessAllowed ? 'block' : 'none';\n",
              "    })();\n",
              "  </script>\n",
              "</div>\n",
              "\n",
              "    </div>\n",
              "  </div>\n"
            ],
            "application/vnd.google.colaboratory.intrinsic+json": {
              "type": "dataframe",
              "variable_name": "data"
            }
          },
          "metadata": {},
          "execution_count": 24
        }
      ]
    },
    {
      "cell_type": "code",
      "source": [
        "print(data.columns)"
      ],
      "metadata": {
        "colab": {
          "base_uri": "https://localhost:8080/"
        },
        "id": "CIy509j-zBxT",
        "outputId": "bf522926-22e5-4800-8ac2-71103899a45d"
      },
      "execution_count": 25,
      "outputs": [
        {
          "output_type": "stream",
          "name": "stdout",
          "text": [
            "Index(['151603712', 'The Elder Scrolls V Skyrim', 'purchase', '1.0', '0'], dtype='object')\n"
          ]
        }
      ]
    },
    {
      "cell_type": "code",
      "source": [
        "print(f\"Number of columns in the dataset: {data.shape[1]}\")\n",
        "\n",
        "data.columns = ['User ID', 'Game Name', 'Behavior Type', 'Value', 'Extra']\n",
        "\n",
        "data = data.drop(columns=['Extra'])\n",
        "\n",
        "data['text_data'] = data['Game Name'] + ' ' + data['Behavior Type']\n",
        "\n",
        "data = data.drop_duplicates(subset=['User ID', 'Game Name', 'Behavior Type'])\n",
        "data = data.reset_index(drop=True)"
      ],
      "metadata": {
        "colab": {
          "base_uri": "https://localhost:8080/"
        },
        "id": "rhIifUXj3lGD",
        "outputId": "c14ec916-e6b1-4dd9-8c84-272548f8a8c3"
      },
      "execution_count": 26,
      "outputs": [
        {
          "output_type": "stream",
          "name": "stdout",
          "text": [
            "Number of columns in the dataset: 5\n"
          ]
        }
      ]
    },
    {
      "cell_type": "code",
      "source": [
        "print(\"Building TF-IDF Recommendation Engine...\")\n",
        "\n",
        "tfidf_vectorizer = TfidfVectorizer(stop_words='english')\n",
        "tfidf_matrix = tfidf_vectorizer.fit_transform(data['text_data'])\n",
        "\n",
        "def recommend_tfidf(game_name, tfidf_matrix, data, top_n=5):\n",
        "    game_idx = data.index[data['Game Name'] == game_name].tolist()\n",
        "    if not game_idx:\n",
        "        return []\n",
        "    game_idx = game_idx[0]\n",
        "    cosine_similarities = cosine_similarity(tfidf_matrix[game_idx], tfidf_matrix).flatten()\n",
        "    similar_indices = cosine_similarities.argsort()[-top_n-1:-1][::-1]\n",
        "    return data.iloc[similar_indices]['Game Name'].tolist()"
      ],
      "metadata": {
        "colab": {
          "base_uri": "https://localhost:8080/"
        },
        "id": "XGWncyu43nsc",
        "outputId": "d27da1e8-6318-4a4f-a33a-f5923018c3f5"
      },
      "execution_count": 27,
      "outputs": [
        {
          "output_type": "stream",
          "name": "stdout",
          "text": [
            "Building TF-IDF Recommendation Engine...\n"
          ]
        }
      ]
    },
    {
      "cell_type": "code",
      "source": [
        "print(\"Building Doc2Vec Recommendation Engine...\")\n",
        "\n",
        "tagged_data = [TaggedDocument(words=row.split(), tags=[str(idx)]) for idx, row in enumerate(data['text_data'])]\n",
        "\n",
        "doc2vec_model = Doc2Vec(vector_size=100, window=5, min_count=1, workers=4, epochs=20)\n",
        "doc2vec_model.build_vocab(tagged_data)\n",
        "doc2vec_model.train(tagged_data, total_examples=doc2vec_model.corpus_count, epochs=doc2vec_model.epochs)\n",
        "\n",
        "def recommend_doc2vec(game_name, doc2vec_model, data, top_n=5):\n",
        "    game_idx = data.index[data['Game Name'] == game_name].tolist()\n",
        "    if not game_idx:\n",
        "        return []\n",
        "    game_idx = game_idx[0]\n",
        "    vector = doc2vec_model.infer_vector(data['text_data'][game_idx].split())\n",
        "    similarities = [\n",
        "        cosine_similarity([vector], [doc2vec_model.dv[idx]])[0][0] for idx in range(len(data))\n",
        "    ]\n",
        "    similar_indices = np.argsort(similarities)[-top_n-1:-1][::-1]\n",
        "    return data.iloc[similar_indices]['Game Name'].tolist()"
      ],
      "metadata": {
        "colab": {
          "base_uri": "https://localhost:8080/"
        },
        "id": "Rdm2RmsD3qca",
        "outputId": "42ceaa09-3bc5-438b-ce54-809106e5d46a"
      },
      "execution_count": 28,
      "outputs": [
        {
          "output_type": "stream",
          "name": "stdout",
          "text": [
            "Building Doc2Vec Recommendation Engine...\n"
          ]
        }
      ]
    },
    {
      "cell_type": "code",
      "source": [
        "sample_game = data['Game Name'].iloc[0]\n",
        "\n",
        "print(f\"TF-IDF Recommendations for '{sample_game}':\")\n",
        "tfidf_recommendations = recommend_tfidf(sample_game, tfidf_matrix, data)\n",
        "print(tfidf_recommendations)\n",
        "\n",
        "print(f\"Doc2Vec Recommendations for '{sample_game}':\")\n",
        "doc2vec_recommendations = recommend_doc2vec(sample_game, doc2vec_model, data)\n",
        "print(doc2vec_recommendations)"
      ],
      "metadata": {
        "colab": {
          "base_uri": "https://localhost:8080/"
        },
        "id": "oSkwykDm3uCO",
        "outputId": "608741b5-08ff-45f7-e857-f100b33881bc"
      },
      "execution_count": 29,
      "outputs": [
        {
          "output_type": "stream",
          "name": "stdout",
          "text": [
            "TF-IDF Recommendations for 'The Elder Scrolls V Skyrim':\n",
            "['The Elder Scrolls V Skyrim', 'The Elder Scrolls V Skyrim', 'The Elder Scrolls V Skyrim', 'The Elder Scrolls V Skyrim', 'The Elder Scrolls V Skyrim']\n",
            "Doc2Vec Recommendations for 'The Elder Scrolls V Skyrim':\n",
            "['DUNGEONS - Steam Special Edition', 'Pinball FX2', 'Call of Duty Ghosts', 'S.K.I.L.L. - Special Force 2', 'Dragon Age Origins']\n"
          ]
        }
      ]
    },
    {
      "cell_type": "markdown",
      "source": [
        "The recommendations I am getting from the TF-IDF model are heavily influenced by how often a game and its related information appear in my dataset. Since 'The Elder Scrolls V Skyrim' is a very popular game in the dataset and frequently associated with similar actions (like 'purchase' or 'play'), it is naturally recommended more often. The TF-IDF algorithm sees it as a significant data point because it appears frequently. The TF-IDF model primarily focuses on word frequencies and doesn't deeply understand the meaning behind the game names or actions. So, if a game title is common and often paired with similar data, it will be scored higher and recommended frequently, potentially leading to less diverse recommendations."
      ],
      "metadata": {
        "id": "vhs0HgJs6SPy"
      }
    },
    {
      "cell_type": "markdown",
      "source": [
        "On the other hand, Doc2Vec analyses entire sequence of words within the data to analyse the relationshops between words and their meaning. This focus on meaning and context, and its recommendation approach based on semantic similarity gives us more diverse recommendations.\n"
      ],
      "metadata": {
        "id": "tdM0eayz3UDK"
      }
    }
  ]
}