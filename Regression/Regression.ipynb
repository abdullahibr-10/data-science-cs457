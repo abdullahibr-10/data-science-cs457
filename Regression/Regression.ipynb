{
  "nbformat": 4,
  "nbformat_minor": 0,
  "metadata": {
    "colab": {
      "provenance": []
    },
    "kernelspec": {
      "name": "python3",
      "display_name": "Python 3"
    },
    "language_info": {
      "name": "python"
    }
  },
  "cells": [
    {
      "cell_type": "markdown",
      "source": [
        "# Muhammad Abdullah\n",
        "## ma07534\n",
        "\n",
        "# Data Science HW 6"
      ],
      "metadata": {
        "id": "aut7LJK8ZppM"
      }
    },
    {
      "cell_type": "code",
      "execution_count": 2,
      "metadata": {
        "id": "DfBSADKSD9B5"
      },
      "outputs": [],
      "source": [
        "import pandas as pd\n",
        "import numpy as np\n",
        "import scipy\n",
        "import statsmodels.api as sm\n",
        "from statsmodels.formula.api import ols\n",
        "import matplotlib.pyplot as plt\n",
        "import seaborn as sns\n",
        "import pickle\n",
        "from sklearn.preprocessing import OneHotEncoder\n",
        "from sklearn.model_selection import train_test_split"
      ]
    },
    {
      "cell_type": "code",
      "source": [
        "df = pd.read_csv('HousePricingData.csv')"
      ],
      "metadata": {
        "id": "31XGHJD5nzKh"
      },
      "execution_count": 3,
      "outputs": []
    },
    {
      "cell_type": "code",
      "source": [
        "df.head()"
      ],
      "metadata": {
        "colab": {
          "base_uri": "https://localhost:8080/",
          "height": 226
        },
        "id": "v4EfG7yFn58x",
        "outputId": "babecfe2-b63f-45e0-8181-d56c9b6f8841"
      },
      "execution_count": 4,
      "outputs": [
        {
          "output_type": "execute_result",
          "data": {
            "text/plain": [
              "   Id  LotArea  OverallQual  OverallCond  YearBuilt  TotalBsmtSF  1stFlrSF  \\\n",
              "0   1     8450            7            5       2003          856       856   \n",
              "1   2     9600            6            8       1976         1262      1262   \n",
              "2   3    11250            7            5       2001          920       920   \n",
              "3   4     9550            7            5       1915          756       961   \n",
              "4   5    14260            8            5       2000         1145      1145   \n",
              "\n",
              "   2ndFlrSF  GrLivArea  BsmtFullBath  BsmtHalfBath  FullBath  HalfBath  \\\n",
              "0       854       1710             1             0         2         1   \n",
              "1         0       1262             0             1         2         0   \n",
              "2       866       1786             1             0         2         1   \n",
              "3       756       1717             1             0         1         0   \n",
              "4      1053       2198             1             0         2         1   \n",
              "\n",
              "   BedroomAbvGr  KitchenAbvGr  Fireplaces  GarageCars PavedDrive  \\\n",
              "0             3             1           0           2          Y   \n",
              "1             3             1           1           2          Y   \n",
              "2             3             1           1           2          Y   \n",
              "3             3             1           1           3          Y   \n",
              "4             4             1           1           3          Y   \n",
              "\n",
              "  SaleCondition  SalePrice  \n",
              "0        Normal     208500  \n",
              "1        Normal     181500  \n",
              "2        Normal     223500  \n",
              "3       Abnorml     140000  \n",
              "4        Normal     250000  "
            ],
            "text/html": [
              "\n",
              "  <div id=\"df-a0239f6e-e110-4334-b0dd-dada6b0b5ab2\" class=\"colab-df-container\">\n",
              "    <div>\n",
              "<style scoped>\n",
              "    .dataframe tbody tr th:only-of-type {\n",
              "        vertical-align: middle;\n",
              "    }\n",
              "\n",
              "    .dataframe tbody tr th {\n",
              "        vertical-align: top;\n",
              "    }\n",
              "\n",
              "    .dataframe thead th {\n",
              "        text-align: right;\n",
              "    }\n",
              "</style>\n",
              "<table border=\"1\" class=\"dataframe\">\n",
              "  <thead>\n",
              "    <tr style=\"text-align: right;\">\n",
              "      <th></th>\n",
              "      <th>Id</th>\n",
              "      <th>LotArea</th>\n",
              "      <th>OverallQual</th>\n",
              "      <th>OverallCond</th>\n",
              "      <th>YearBuilt</th>\n",
              "      <th>TotalBsmtSF</th>\n",
              "      <th>1stFlrSF</th>\n",
              "      <th>2ndFlrSF</th>\n",
              "      <th>GrLivArea</th>\n",
              "      <th>BsmtFullBath</th>\n",
              "      <th>BsmtHalfBath</th>\n",
              "      <th>FullBath</th>\n",
              "      <th>HalfBath</th>\n",
              "      <th>BedroomAbvGr</th>\n",
              "      <th>KitchenAbvGr</th>\n",
              "      <th>Fireplaces</th>\n",
              "      <th>GarageCars</th>\n",
              "      <th>PavedDrive</th>\n",
              "      <th>SaleCondition</th>\n",
              "      <th>SalePrice</th>\n",
              "    </tr>\n",
              "  </thead>\n",
              "  <tbody>\n",
              "    <tr>\n",
              "      <th>0</th>\n",
              "      <td>1</td>\n",
              "      <td>8450</td>\n",
              "      <td>7</td>\n",
              "      <td>5</td>\n",
              "      <td>2003</td>\n",
              "      <td>856</td>\n",
              "      <td>856</td>\n",
              "      <td>854</td>\n",
              "      <td>1710</td>\n",
              "      <td>1</td>\n",
              "      <td>0</td>\n",
              "      <td>2</td>\n",
              "      <td>1</td>\n",
              "      <td>3</td>\n",
              "      <td>1</td>\n",
              "      <td>0</td>\n",
              "      <td>2</td>\n",
              "      <td>Y</td>\n",
              "      <td>Normal</td>\n",
              "      <td>208500</td>\n",
              "    </tr>\n",
              "    <tr>\n",
              "      <th>1</th>\n",
              "      <td>2</td>\n",
              "      <td>9600</td>\n",
              "      <td>6</td>\n",
              "      <td>8</td>\n",
              "      <td>1976</td>\n",
              "      <td>1262</td>\n",
              "      <td>1262</td>\n",
              "      <td>0</td>\n",
              "      <td>1262</td>\n",
              "      <td>0</td>\n",
              "      <td>1</td>\n",
              "      <td>2</td>\n",
              "      <td>0</td>\n",
              "      <td>3</td>\n",
              "      <td>1</td>\n",
              "      <td>1</td>\n",
              "      <td>2</td>\n",
              "      <td>Y</td>\n",
              "      <td>Normal</td>\n",
              "      <td>181500</td>\n",
              "    </tr>\n",
              "    <tr>\n",
              "      <th>2</th>\n",
              "      <td>3</td>\n",
              "      <td>11250</td>\n",
              "      <td>7</td>\n",
              "      <td>5</td>\n",
              "      <td>2001</td>\n",
              "      <td>920</td>\n",
              "      <td>920</td>\n",
              "      <td>866</td>\n",
              "      <td>1786</td>\n",
              "      <td>1</td>\n",
              "      <td>0</td>\n",
              "      <td>2</td>\n",
              "      <td>1</td>\n",
              "      <td>3</td>\n",
              "      <td>1</td>\n",
              "      <td>1</td>\n",
              "      <td>2</td>\n",
              "      <td>Y</td>\n",
              "      <td>Normal</td>\n",
              "      <td>223500</td>\n",
              "    </tr>\n",
              "    <tr>\n",
              "      <th>3</th>\n",
              "      <td>4</td>\n",
              "      <td>9550</td>\n",
              "      <td>7</td>\n",
              "      <td>5</td>\n",
              "      <td>1915</td>\n",
              "      <td>756</td>\n",
              "      <td>961</td>\n",
              "      <td>756</td>\n",
              "      <td>1717</td>\n",
              "      <td>1</td>\n",
              "      <td>0</td>\n",
              "      <td>1</td>\n",
              "      <td>0</td>\n",
              "      <td>3</td>\n",
              "      <td>1</td>\n",
              "      <td>1</td>\n",
              "      <td>3</td>\n",
              "      <td>Y</td>\n",
              "      <td>Abnorml</td>\n",
              "      <td>140000</td>\n",
              "    </tr>\n",
              "    <tr>\n",
              "      <th>4</th>\n",
              "      <td>5</td>\n",
              "      <td>14260</td>\n",
              "      <td>8</td>\n",
              "      <td>5</td>\n",
              "      <td>2000</td>\n",
              "      <td>1145</td>\n",
              "      <td>1145</td>\n",
              "      <td>1053</td>\n",
              "      <td>2198</td>\n",
              "      <td>1</td>\n",
              "      <td>0</td>\n",
              "      <td>2</td>\n",
              "      <td>1</td>\n",
              "      <td>4</td>\n",
              "      <td>1</td>\n",
              "      <td>1</td>\n",
              "      <td>3</td>\n",
              "      <td>Y</td>\n",
              "      <td>Normal</td>\n",
              "      <td>250000</td>\n",
              "    </tr>\n",
              "  </tbody>\n",
              "</table>\n",
              "</div>\n",
              "    <div class=\"colab-df-buttons\">\n",
              "\n",
              "  <div class=\"colab-df-container\">\n",
              "    <button class=\"colab-df-convert\" onclick=\"convertToInteractive('df-a0239f6e-e110-4334-b0dd-dada6b0b5ab2')\"\n",
              "            title=\"Convert this dataframe to an interactive table.\"\n",
              "            style=\"display:none;\">\n",
              "\n",
              "  <svg xmlns=\"http://www.w3.org/2000/svg\" height=\"24px\" viewBox=\"0 -960 960 960\">\n",
              "    <path d=\"M120-120v-720h720v720H120Zm60-500h600v-160H180v160Zm220 220h160v-160H400v160Zm0 220h160v-160H400v160ZM180-400h160v-160H180v160Zm440 0h160v-160H620v160ZM180-180h160v-160H180v160Zm440 0h160v-160H620v160Z\"/>\n",
              "  </svg>\n",
              "    </button>\n",
              "\n",
              "  <style>\n",
              "    .colab-df-container {\n",
              "      display:flex;\n",
              "      gap: 12px;\n",
              "    }\n",
              "\n",
              "    .colab-df-convert {\n",
              "      background-color: #E8F0FE;\n",
              "      border: none;\n",
              "      border-radius: 50%;\n",
              "      cursor: pointer;\n",
              "      display: none;\n",
              "      fill: #1967D2;\n",
              "      height: 32px;\n",
              "      padding: 0 0 0 0;\n",
              "      width: 32px;\n",
              "    }\n",
              "\n",
              "    .colab-df-convert:hover {\n",
              "      background-color: #E2EBFA;\n",
              "      box-shadow: 0px 1px 2px rgba(60, 64, 67, 0.3), 0px 1px 3px 1px rgba(60, 64, 67, 0.15);\n",
              "      fill: #174EA6;\n",
              "    }\n",
              "\n",
              "    .colab-df-buttons div {\n",
              "      margin-bottom: 4px;\n",
              "    }\n",
              "\n",
              "    [theme=dark] .colab-df-convert {\n",
              "      background-color: #3B4455;\n",
              "      fill: #D2E3FC;\n",
              "    }\n",
              "\n",
              "    [theme=dark] .colab-df-convert:hover {\n",
              "      background-color: #434B5C;\n",
              "      box-shadow: 0px 1px 3px 1px rgba(0, 0, 0, 0.15);\n",
              "      filter: drop-shadow(0px 1px 2px rgba(0, 0, 0, 0.3));\n",
              "      fill: #FFFFFF;\n",
              "    }\n",
              "  </style>\n",
              "\n",
              "    <script>\n",
              "      const buttonEl =\n",
              "        document.querySelector('#df-a0239f6e-e110-4334-b0dd-dada6b0b5ab2 button.colab-df-convert');\n",
              "      buttonEl.style.display =\n",
              "        google.colab.kernel.accessAllowed ? 'block' : 'none';\n",
              "\n",
              "      async function convertToInteractive(key) {\n",
              "        const element = document.querySelector('#df-a0239f6e-e110-4334-b0dd-dada6b0b5ab2');\n",
              "        const dataTable =\n",
              "          await google.colab.kernel.invokeFunction('convertToInteractive',\n",
              "                                                    [key], {});\n",
              "        if (!dataTable) return;\n",
              "\n",
              "        const docLinkHtml = 'Like what you see? Visit the ' +\n",
              "          '<a target=\"_blank\" href=https://colab.research.google.com/notebooks/data_table.ipynb>data table notebook</a>'\n",
              "          + ' to learn more about interactive tables.';\n",
              "        element.innerHTML = '';\n",
              "        dataTable['output_type'] = 'display_data';\n",
              "        await google.colab.output.renderOutput(dataTable, element);\n",
              "        const docLink = document.createElement('div');\n",
              "        docLink.innerHTML = docLinkHtml;\n",
              "        element.appendChild(docLink);\n",
              "      }\n",
              "    </script>\n",
              "  </div>\n",
              "\n",
              "\n",
              "<div id=\"df-65c047c9-f164-4a0f-91bb-45cef6f9dba5\">\n",
              "  <button class=\"colab-df-quickchart\" onclick=\"quickchart('df-65c047c9-f164-4a0f-91bb-45cef6f9dba5')\"\n",
              "            title=\"Suggest charts\"\n",
              "            style=\"display:none;\">\n",
              "\n",
              "<svg xmlns=\"http://www.w3.org/2000/svg\" height=\"24px\"viewBox=\"0 0 24 24\"\n",
              "     width=\"24px\">\n",
              "    <g>\n",
              "        <path d=\"M19 3H5c-1.1 0-2 .9-2 2v14c0 1.1.9 2 2 2h14c1.1 0 2-.9 2-2V5c0-1.1-.9-2-2-2zM9 17H7v-7h2v7zm4 0h-2V7h2v10zm4 0h-2v-4h2v4z\"/>\n",
              "    </g>\n",
              "</svg>\n",
              "  </button>\n",
              "\n",
              "<style>\n",
              "  .colab-df-quickchart {\n",
              "      --bg-color: #E8F0FE;\n",
              "      --fill-color: #1967D2;\n",
              "      --hover-bg-color: #E2EBFA;\n",
              "      --hover-fill-color: #174EA6;\n",
              "      --disabled-fill-color: #AAA;\n",
              "      --disabled-bg-color: #DDD;\n",
              "  }\n",
              "\n",
              "  [theme=dark] .colab-df-quickchart {\n",
              "      --bg-color: #3B4455;\n",
              "      --fill-color: #D2E3FC;\n",
              "      --hover-bg-color: #434B5C;\n",
              "      --hover-fill-color: #FFFFFF;\n",
              "      --disabled-bg-color: #3B4455;\n",
              "      --disabled-fill-color: #666;\n",
              "  }\n",
              "\n",
              "  .colab-df-quickchart {\n",
              "    background-color: var(--bg-color);\n",
              "    border: none;\n",
              "    border-radius: 50%;\n",
              "    cursor: pointer;\n",
              "    display: none;\n",
              "    fill: var(--fill-color);\n",
              "    height: 32px;\n",
              "    padding: 0;\n",
              "    width: 32px;\n",
              "  }\n",
              "\n",
              "  .colab-df-quickchart:hover {\n",
              "    background-color: var(--hover-bg-color);\n",
              "    box-shadow: 0 1px 2px rgba(60, 64, 67, 0.3), 0 1px 3px 1px rgba(60, 64, 67, 0.15);\n",
              "    fill: var(--button-hover-fill-color);\n",
              "  }\n",
              "\n",
              "  .colab-df-quickchart-complete:disabled,\n",
              "  .colab-df-quickchart-complete:disabled:hover {\n",
              "    background-color: var(--disabled-bg-color);\n",
              "    fill: var(--disabled-fill-color);\n",
              "    box-shadow: none;\n",
              "  }\n",
              "\n",
              "  .colab-df-spinner {\n",
              "    border: 2px solid var(--fill-color);\n",
              "    border-color: transparent;\n",
              "    border-bottom-color: var(--fill-color);\n",
              "    animation:\n",
              "      spin 1s steps(1) infinite;\n",
              "  }\n",
              "\n",
              "  @keyframes spin {\n",
              "    0% {\n",
              "      border-color: transparent;\n",
              "      border-bottom-color: var(--fill-color);\n",
              "      border-left-color: var(--fill-color);\n",
              "    }\n",
              "    20% {\n",
              "      border-color: transparent;\n",
              "      border-left-color: var(--fill-color);\n",
              "      border-top-color: var(--fill-color);\n",
              "    }\n",
              "    30% {\n",
              "      border-color: transparent;\n",
              "      border-left-color: var(--fill-color);\n",
              "      border-top-color: var(--fill-color);\n",
              "      border-right-color: var(--fill-color);\n",
              "    }\n",
              "    40% {\n",
              "      border-color: transparent;\n",
              "      border-right-color: var(--fill-color);\n",
              "      border-top-color: var(--fill-color);\n",
              "    }\n",
              "    60% {\n",
              "      border-color: transparent;\n",
              "      border-right-color: var(--fill-color);\n",
              "    }\n",
              "    80% {\n",
              "      border-color: transparent;\n",
              "      border-right-color: var(--fill-color);\n",
              "      border-bottom-color: var(--fill-color);\n",
              "    }\n",
              "    90% {\n",
              "      border-color: transparent;\n",
              "      border-bottom-color: var(--fill-color);\n",
              "    }\n",
              "  }\n",
              "</style>\n",
              "\n",
              "  <script>\n",
              "    async function quickchart(key) {\n",
              "      const quickchartButtonEl =\n",
              "        document.querySelector('#' + key + ' button');\n",
              "      quickchartButtonEl.disabled = true;  // To prevent multiple clicks.\n",
              "      quickchartButtonEl.classList.add('colab-df-spinner');\n",
              "      try {\n",
              "        const charts = await google.colab.kernel.invokeFunction(\n",
              "            'suggestCharts', [key], {});\n",
              "      } catch (error) {\n",
              "        console.error('Error during call to suggestCharts:', error);\n",
              "      }\n",
              "      quickchartButtonEl.classList.remove('colab-df-spinner');\n",
              "      quickchartButtonEl.classList.add('colab-df-quickchart-complete');\n",
              "    }\n",
              "    (() => {\n",
              "      let quickchartButtonEl =\n",
              "        document.querySelector('#df-65c047c9-f164-4a0f-91bb-45cef6f9dba5 button');\n",
              "      quickchartButtonEl.style.display =\n",
              "        google.colab.kernel.accessAllowed ? 'block' : 'none';\n",
              "    })();\n",
              "  </script>\n",
              "</div>\n",
              "\n",
              "    </div>\n",
              "  </div>\n"
            ],
            "application/vnd.google.colaboratory.intrinsic+json": {
              "type": "dataframe",
              "variable_name": "df",
              "summary": "{\n  \"name\": \"df\",\n  \"rows\": 1460,\n  \"fields\": [\n    {\n      \"column\": \"Id\",\n      \"properties\": {\n        \"dtype\": \"number\",\n        \"std\": 421,\n        \"min\": 1,\n        \"max\": 1460,\n        \"num_unique_values\": 1460,\n        \"samples\": [\n          893,\n          1106,\n          414\n        ],\n        \"semantic_type\": \"\",\n        \"description\": \"\"\n      }\n    },\n    {\n      \"column\": \"LotArea\",\n      \"properties\": {\n        \"dtype\": \"number\",\n        \"std\": 9981,\n        \"min\": 1300,\n        \"max\": 215245,\n        \"num_unique_values\": 1073,\n        \"samples\": [\n          10186,\n          8163,\n          8854\n        ],\n        \"semantic_type\": \"\",\n        \"description\": \"\"\n      }\n    },\n    {\n      \"column\": \"OverallQual\",\n      \"properties\": {\n        \"dtype\": \"number\",\n        \"std\": 1,\n        \"min\": 1,\n        \"max\": 10,\n        \"num_unique_values\": 10,\n        \"samples\": [\n          1,\n          6,\n          4\n        ],\n        \"semantic_type\": \"\",\n        \"description\": \"\"\n      }\n    },\n    {\n      \"column\": \"OverallCond\",\n      \"properties\": {\n        \"dtype\": \"number\",\n        \"std\": 1,\n        \"min\": 1,\n        \"max\": 9,\n        \"num_unique_values\": 9,\n        \"samples\": [\n          9,\n          8,\n          2\n        ],\n        \"semantic_type\": \"\",\n        \"description\": \"\"\n      }\n    },\n    {\n      \"column\": \"YearBuilt\",\n      \"properties\": {\n        \"dtype\": \"number\",\n        \"std\": 30,\n        \"min\": 1872,\n        \"max\": 2010,\n        \"num_unique_values\": 112,\n        \"samples\": [\n          1999,\n          1936,\n          2000\n        ],\n        \"semantic_type\": \"\",\n        \"description\": \"\"\n      }\n    },\n    {\n      \"column\": \"TotalBsmtSF\",\n      \"properties\": {\n        \"dtype\": \"number\",\n        \"std\": 438,\n        \"min\": 0,\n        \"max\": 6110,\n        \"num_unique_values\": 721,\n        \"samples\": [\n          1536,\n          1192,\n          684\n        ],\n        \"semantic_type\": \"\",\n        \"description\": \"\"\n      }\n    },\n    {\n      \"column\": \"1stFlrSF\",\n      \"properties\": {\n        \"dtype\": \"number\",\n        \"std\": 386,\n        \"min\": 334,\n        \"max\": 4692,\n        \"num_unique_values\": 753,\n        \"samples\": [\n          1274,\n          1530,\n          1131\n        ],\n        \"semantic_type\": \"\",\n        \"description\": \"\"\n      }\n    },\n    {\n      \"column\": \"2ndFlrSF\",\n      \"properties\": {\n        \"dtype\": \"number\",\n        \"std\": 436,\n        \"min\": 0,\n        \"max\": 2065,\n        \"num_unique_values\": 417,\n        \"samples\": [\n          406,\n          1392,\n          1104\n        ],\n        \"semantic_type\": \"\",\n        \"description\": \"\"\n      }\n    },\n    {\n      \"column\": \"GrLivArea\",\n      \"properties\": {\n        \"dtype\": \"number\",\n        \"std\": 525,\n        \"min\": 334,\n        \"max\": 5642,\n        \"num_unique_values\": 861,\n        \"samples\": [\n          1459,\n          1775,\n          840\n        ],\n        \"semantic_type\": \"\",\n        \"description\": \"\"\n      }\n    },\n    {\n      \"column\": \"BsmtFullBath\",\n      \"properties\": {\n        \"dtype\": \"number\",\n        \"std\": 0,\n        \"min\": 0,\n        \"max\": 3,\n        \"num_unique_values\": 4,\n        \"samples\": [\n          0,\n          3,\n          1\n        ],\n        \"semantic_type\": \"\",\n        \"description\": \"\"\n      }\n    },\n    {\n      \"column\": \"BsmtHalfBath\",\n      \"properties\": {\n        \"dtype\": \"number\",\n        \"std\": 0,\n        \"min\": 0,\n        \"max\": 2,\n        \"num_unique_values\": 3,\n        \"samples\": [\n          0,\n          1,\n          2\n        ],\n        \"semantic_type\": \"\",\n        \"description\": \"\"\n      }\n    },\n    {\n      \"column\": \"FullBath\",\n      \"properties\": {\n        \"dtype\": \"number\",\n        \"std\": 0,\n        \"min\": 0,\n        \"max\": 3,\n        \"num_unique_values\": 4,\n        \"samples\": [\n          1,\n          0,\n          2\n        ],\n        \"semantic_type\": \"\",\n        \"description\": \"\"\n      }\n    },\n    {\n      \"column\": \"HalfBath\",\n      \"properties\": {\n        \"dtype\": \"number\",\n        \"std\": 0,\n        \"min\": 0,\n        \"max\": 2,\n        \"num_unique_values\": 3,\n        \"samples\": [\n          1,\n          0,\n          2\n        ],\n        \"semantic_type\": \"\",\n        \"description\": \"\"\n      }\n    },\n    {\n      \"column\": \"BedroomAbvGr\",\n      \"properties\": {\n        \"dtype\": \"number\",\n        \"std\": 0,\n        \"min\": 0,\n        \"max\": 8,\n        \"num_unique_values\": 8,\n        \"samples\": [\n          4,\n          5,\n          3\n        ],\n        \"semantic_type\": \"\",\n        \"description\": \"\"\n      }\n    },\n    {\n      \"column\": \"KitchenAbvGr\",\n      \"properties\": {\n        \"dtype\": \"number\",\n        \"std\": 0,\n        \"min\": 0,\n        \"max\": 3,\n        \"num_unique_values\": 4,\n        \"samples\": [\n          2,\n          0,\n          1\n        ],\n        \"semantic_type\": \"\",\n        \"description\": \"\"\n      }\n    },\n    {\n      \"column\": \"Fireplaces\",\n      \"properties\": {\n        \"dtype\": \"number\",\n        \"std\": 0,\n        \"min\": 0,\n        \"max\": 3,\n        \"num_unique_values\": 4,\n        \"samples\": [\n          1,\n          3,\n          0\n        ],\n        \"semantic_type\": \"\",\n        \"description\": \"\"\n      }\n    },\n    {\n      \"column\": \"GarageCars\",\n      \"properties\": {\n        \"dtype\": \"number\",\n        \"std\": 0,\n        \"min\": 0,\n        \"max\": 4,\n        \"num_unique_values\": 5,\n        \"samples\": [\n          3,\n          4,\n          1\n        ],\n        \"semantic_type\": \"\",\n        \"description\": \"\"\n      }\n    },\n    {\n      \"column\": \"PavedDrive\",\n      \"properties\": {\n        \"dtype\": \"category\",\n        \"num_unique_values\": 3,\n        \"samples\": [\n          \"Y\",\n          \"N\",\n          \"P\"\n        ],\n        \"semantic_type\": \"\",\n        \"description\": \"\"\n      }\n    },\n    {\n      \"column\": \"SaleCondition\",\n      \"properties\": {\n        \"dtype\": \"category\",\n        \"num_unique_values\": 6,\n        \"samples\": [\n          \"Normal\",\n          \"Abnorml\",\n          \"Family\"\n        ],\n        \"semantic_type\": \"\",\n        \"description\": \"\"\n      }\n    },\n    {\n      \"column\": \"SalePrice\",\n      \"properties\": {\n        \"dtype\": \"number\",\n        \"std\": 79442,\n        \"min\": 34900,\n        \"max\": 755000,\n        \"num_unique_values\": 663,\n        \"samples\": [\n          91300,\n          174500,\n          150900\n        ],\n        \"semantic_type\": \"\",\n        \"description\": \"\"\n      }\n    }\n  ]\n}"
            }
          },
          "metadata": {},
          "execution_count": 4
        }
      ]
    },
    {
      "cell_type": "markdown",
      "source": [
        "# Tasks"
      ],
      "metadata": {
        "id": "HhXHKZZ5EkKv"
      }
    },
    {
      "cell_type": "markdown",
      "source": [
        "1. Create a regression model between GrLivArea and SalePrice (response\n",
        "variable). Show the scatter plot with regression line between them. Discuss the R-\n",
        "squared value."
      ],
      "metadata": {
        "id": "p1wlYqBftyN0"
      }
    },
    {
      "cell_type": "code",
      "source": [
        "sns.regplot(x='GrLivArea', y='SalePrice', data=df)\n",
        "plt.xlabel('GrLivArea')\n",
        "plt.ylabel('SalePrice')\n",
        "plt.title('Scatter Plot of GrLivArea vs SalePrice')\n",
        "plt.show()\n",
        "model = ols('SalePrice ~ GrLivArea', data=df).fit()\n",
        "print(f\"R-squared: {model.rsquared}\")"
      ],
      "metadata": {
        "colab": {
          "base_uri": "https://localhost:8080/",
          "height": 489
        },
        "id": "Pn87010XoA2x",
        "outputId": "3ccb2e5a-b0a6-485c-9dbc-426dab029f9a"
      },
      "execution_count": 61,
      "outputs": [
        {
          "output_type": "display_data",
          "data": {
            "text/plain": [
              "<Figure size 640x480 with 1 Axes>"
            ],
            "image/png": "[encoded data removed]"
          },
          "metadata": {}
        },
        {
          "output_type": "stream",
          "name": "stdout",
          "text": [
            "R-squared: 0.5021486502718042\n"
          ]
        }
      ]
    },
    {
      "cell_type": "markdown",
      "source": [
        "The R-squared value represents the proportion of variance in the response\n",
        "variable (SalePrice) that is predictable from the predictor variable\n",
        "(GrLivArea). In this case, the R-squared value indicates that about 50% of the variability in SalePrice can be explained by GrLivArea.\n",
        "A higher R-squared value generally indicates a better fit of the model to\n",
        "the data."
      ],
      "metadata": {
        "id": "yhtAfxHNrJ0k"
      }
    },
    {
      "cell_type": "markdown",
      "source": [
        "\n",
        "\n",
        "---\n",
        "\n",
        "\n",
        "2. Create a regression model between TotalBsmtSF and LotArea (response\n",
        "variable). Show the scatter plot with regression line between them. Discuss the R-\n",
        "squared value."
      ],
      "metadata": {
        "id": "Fd4sv_f4t4-j"
      }
    },
    {
      "cell_type": "code",
      "source": [
        "# Create a scatter plot with regression line\n",
        "sns.regplot(x='TotalBsmtSF', y='LotArea', data=df)\n",
        "plt.xlabel('TotalBsmtSF')\n",
        "plt.ylabel('LotArea')\n",
        "plt.title('Scatter Plot of TotalBsmtSF vs LotArea')\n",
        "plt.show()\n",
        "\n",
        "# Fit a linear regression model\n",
        "model = ols('LotArea ~ TotalBsmtSF', data=df).fit()\n",
        "\n",
        "# Print the R-squared value\n",
        "print(f\"R-squared: {model.rsquared}\")"
      ],
      "metadata": {
        "colab": {
          "base_uri": "https://localhost:8080/",
          "height": 489
        },
        "id": "REmZvucduHN-",
        "outputId": "304a71c7-5321-4620-f051-3d80511fc34f"
      },
      "execution_count": 6,
      "outputs": [
        {
          "output_type": "display_data",
          "data": {
            "text/plain": [
              "<Figure size 640x480 with 1 Axes>"
            ],
            "image/png": "[encoded data removed]"
          },
          "metadata": {}
        },
        {
          "output_type": "stream",
          "name": "stdout",
          "text": [
            "R-squared: 0.06803392407665221\n"
          ]
        }
      ]
    },
    {
      "cell_type": "markdown",
      "source": [
        " In this case, the R-squared value indicates that about 06% of the variability in LotArea can be explained by TotalBsmtSF. This is a considerably low value and therefore it implies that TotalBsmtSF is not a good predictor for LotArea."
      ],
      "metadata": {
        "id": "8ABj4PVXvasJ"
      }
    },
    {
      "cell_type": "markdown",
      "source": [
        "\n",
        "\n",
        "---\n",
        "\n",
        "\n",
        "3. Calculate Correlation for questions (1) and (2) and explain the correlation value to\n",
        "support your answer for questions (1) and (2)"
      ],
      "metadata": {
        "id": "Om_10ee7vvql"
      }
    },
    {
      "cell_type": "code",
      "source": [
        "correlation_1 = df['GrLivArea'].corr(df['SalePrice'])\n",
        "print(f\"Correlation between GrLivArea and SalePrice: {correlation_1}\")\n",
        "\n",
        "correlation_2 = df['TotalBsmtSF'].corr(df['LotArea'])\n",
        "print(f\"Correlation between TotalBsmtSF and LotArea: {correlation_2}\")"
      ],
      "metadata": {
        "colab": {
          "base_uri": "https://localhost:8080/"
        },
        "id": "ysXwSG6Bv2qR",
        "outputId": "2708e82a-5ab4-471f-afc8-2efbf6bbde94"
      },
      "execution_count": 7,
      "outputs": [
        {
          "output_type": "stream",
          "name": "stdout",
          "text": [
            "Correlation between GrLivArea and SalePrice: 0.7086244776126523\n",
            "Correlation between TotalBsmtSF and LotArea: 0.26083313454515755\n"
          ]
        }
      ]
    },
    {
      "cell_type": "markdown",
      "source": [
        "The strong positive correlation between GrLivArea and SalePrice indicates that larger houses tend to sell for higher prices. This aligns with the first regression model's finding that GrLivArea is a significant predictor. Conversely, the very weak positive correlation between TotalBsmtSF and LotArea suggests that there's a minimal relationship between basement size and lot area, which is consistent with the second model's poor predictive power."
      ],
      "metadata": {
        "id": "rtF7J_Zdwe3Q"
      }
    },
    {
      "cell_type": "markdown",
      "source": [
        "\n",
        "\n",
        "---\n",
        "\n",
        "4. Create a regression model to predict SalePrice using all other inputs. Discuss the\n",
        "effectiveness of the model using R-squared value. Report 3 most significant inputs\n",
        "and 3 least significant inputs (based on p-value) and interpret the results. Create one\n",
        "new input of your choice of values and show the prediction of SalePrice using the\n",
        "same model."
      ],
      "metadata": {
        "id": "WVpPTotOw9KE"
      }
    },
    {
      "cell_type": "code",
      "source": [
        "X = df.drop(['SalePrice'], axis=1)\n",
        "Y = df['SalePrice']\n",
        "\n",
        "numeric_features = X.select_dtypes(include=['number'])\n",
        "categorical_features = X.select_dtypes(exclude=['number'])\n",
        "\n",
        "if not categorical_features.empty:\n",
        "    encoder = OneHotEncoder(sparse_output=False, handle_unknown='ignore')\n",
        "    encoded_data = encoder.fit_transform(categorical_features)\n",
        "    encoded_df = pd.DataFrame(encoded_data, columns=encoder.get_feature_names_out(categorical_features.columns))\n",
        "\n",
        "    X = pd.concat([numeric_features, encoded_df], axis=1)\n",
        "\n",
        "X = sm.add_constant(X)\n",
        "model = sm.OLS(Y, X).fit()\n",
        "\n",
        "print(f\"R-squared: {model.rsquared}\")\n",
        "\n",
        "p_values = model.pvalues\n",
        "\n",
        "top_3_inputs = p_values.sort_values().head(3).index.tolist()\n",
        "bottom_3_inputs = p_values.sort_values().tail(3).index.tolist()\n",
        "\n",
        "print(f\"3 Most Significant Inputs: {top_3_inputs}\")\n",
        "print(f\"3 Least Significant Inputs: {bottom_3_inputs}\")"
      ],
      "metadata": {
        "colab": {
          "base_uri": "https://localhost:8080/"
        },
        "id": "ERhc_4iky1_c",
        "outputId": "ab1e951a-ede4-4eec-d74a-3669c257c24a"
      },
      "execution_count": 63,
      "outputs": [
        {
          "output_type": "stream",
          "name": "stdout",
          "text": [
            "R-squared: 0.8034529153616841\n",
            "3 Most Significant Inputs: ['OverallQual', 'GarageCars', 'SaleCondition_Abnorml']\n",
            "3 Least Significant Inputs: ['Id', 'FullBath', 'HalfBath']\n"
          ]
        }
      ]
    },
    {
      "cell_type": "markdown",
      "source": [
        "The R-Squared value in this case is very high and it indicates that about 80% of the variability in SalePrice can be explained by the other inputs. A higher R-squared value generally indicates a better fit of the model to the data.\n",
        "\n",
        "The significance of inputs also makes sence, since the salesprice intuitively should have a high correlation with OverallQuality, GarageCars and SaleCondition_Abnormal features of a House.\n",
        "\n"
      ],
      "metadata": {
        "id": "PpEbRa54VKY0"
      }
    },
    {
      "cell_type": "code",
      "source": [
        "df_encoded = pd.get_dummies(df, drop_first=True)\n",
        "\n",
        "df_encoded = df_encoded.apply(pd.to_numeric, errors='coerce')\n",
        "\n",
        "df_encoded = df_encoded.dropna()\n",
        "\n",
        "# new feature 'QualityPriceRatio'\n",
        "df_encoded['QualityPriceRatio'] = df_encoded['OverallQual'] / df_encoded['GrLivArea']\n",
        "\n",
        "X = df_encoded.drop('SalePrice', axis=1)\n",
        "y = df_encoded['SalePrice']\n",
        "\n",
        "X_const = sm.add_constant(X)\n",
        "\n",
        "X_train, X_test, y_train, y_test = train_test_split(X_const, y, test_size=0.2, random_state=42)\n",
        "\n",
        "print(\"X_train types:\\n\", X_train.dtypes)\n",
        "print(\"y_train type:\\n\", y_train.dtypes)\n",
        "\n",
        "X_train = X_train.astype(float)\n",
        "y_train = y_train.astype(float)\n",
        "\n",
        "ols_model = sm.OLS(y_train, X_train).fit()\n",
        "\n",
        "print(ols_model.summary())\n",
        "\n",
        "y_pred = ols_model.predict(X_test)\n",
        "\n",
        "print(\"\\nPredicted SalePrice for the test set:\")\n",
        "print(y_pred.head())\n",
        "\n",
        "r_squared = ols_model.rsquared\n",
        "print(f'\\nR-squared value after adding QualityPriceRatio: {r_squared}')"
      ],
      "metadata": {
        "colab": {
          "base_uri": "https://localhost:8080/"
        },
        "id": "1ET-zLZQldq0",
        "outputId": "4ac01f5e-140e-4945-e86b-73c93c03b4d6"
      },
      "execution_count": 64,
      "outputs": [
        {
          "output_type": "stream",
          "name": "stdout",
          "text": [
            "X_train types:\n",
            " const                    float64\n",
            "Id                         int64\n",
            "LotArea                    int64\n",
            "OverallQual                int64\n",
            "OverallCond                int64\n",
            "YearBuilt                  int64\n",
            "TotalBsmtSF                int64\n",
            "1stFlrSF                   int64\n",
            "2ndFlrSF                   int64\n",
            "GrLivArea                  int64\n",
            "BsmtFullBath               int64\n",
            "BsmtHalfBath               int64\n",
            "FullBath                   int64\n",
            "HalfBath                   int64\n",
            "BedroomAbvGr               int64\n",
            "KitchenAbvGr               int64\n",
            "Fireplaces                 int64\n",
            "GarageCars                 int64\n",
            "PavedDrive_P                bool\n",
            "PavedDrive_Y                bool\n",
            "SaleCondition_AdjLand       bool\n",
            "SaleCondition_Alloca        bool\n",
            "SaleCondition_Family        bool\n",
            "SaleCondition_Normal        bool\n",
            "SaleCondition_Partial       bool\n",
            "QualityPriceRatio        float64\n",
            "dtype: object\n",
            "y_train type:\n",
            " int64\n",
            "                            OLS Regression Results                            \n",
            "==============================================================================\n",
            "Dep. Variable:              SalePrice   R-squared:                       0.801\n",
            "Model:                            OLS   Adj. R-squared:                  0.797\n",
            "Method:                 Least Squares   F-statistic:                     184.4\n",
            "Date:                Mon, 21 Oct 2024   Prob (F-statistic):               0.00\n",
            "Time:                        18:28:47   Log-Likelihood:                -13859.\n",
            "No. Observations:                1168   AIC:                         2.777e+04\n",
            "Df Residuals:                    1142   BIC:                         2.790e+04\n",
            "Df Model:                          25                                         \n",
            "Covariance Type:            nonrobust                                         \n",
            "=========================================================================================\n",
            "                            coef    std err          t      P>|t|      [0.025      0.975]\n",
            "-----------------------------------------------------------------------------------------\n",
            "const                 -7.264e+05   1.18e+05     -6.135      0.000   -9.59e+05   -4.94e+05\n",
            "Id                       -1.8887      2.421     -0.780      0.436      -6.639       2.862\n",
            "LotArea                   0.4386      0.104      4.224      0.000       0.235       0.642\n",
            "OverallQual            2.573e+04   1982.089     12.979      0.000    2.18e+04    2.96e+04\n",
            "OverallCond            6628.1198   1058.335      6.263      0.000    4551.621    8704.618\n",
            "YearBuilt               363.8172     60.892      5.975      0.000     244.345     483.290\n",
            "TotalBsmtSF              12.4900      4.687      2.665      0.008       3.294      21.685\n",
            "1stFlrSF                  8.6025     22.950      0.375      0.708     -36.427      53.632\n",
            "2ndFlrSF                  4.4811     22.499      0.199      0.842     -39.664      48.626\n",
            "GrLivArea                20.4379     22.303      0.916      0.360     -23.322      64.198\n",
            "BsmtFullBath           1.556e+04   2208.706      7.046      0.000    1.12e+04    1.99e+04\n",
            "BsmtHalfBath           1790.6934   4489.512      0.399      0.690   -7017.923    1.06e+04\n",
            "FullBath                236.4128   3135.984      0.075      0.940   -5916.525    6389.350\n",
            "HalfBath              -3325.5264   2965.172     -1.122      0.262   -9143.323    2492.271\n",
            "BedroomAbvGr          -4966.3955   1642.663     -3.023      0.003   -8189.373   -1743.418\n",
            "KitchenAbvGr          -2.204e+04   5246.785     -4.200      0.000   -3.23e+04   -1.17e+04\n",
            "Fireplaces             5039.4761   1938.969      2.599      0.009    1235.135    8843.817\n",
            "GarageCars             1.276e+04   1917.798      6.656      0.000    9001.226    1.65e+04\n",
            "PavedDrive_P          -1.049e+04   8219.145     -1.276      0.202   -2.66e+04    5635.453\n",
            "PavedDrive_Y          -6721.7820   4812.987     -1.397      0.163   -1.62e+04    2721.507\n",
            "SaleCondition_AdjLand  1.894e+04   1.84e+04      1.030      0.303   -1.71e+04     5.5e+04\n",
            "SaleCondition_Alloca   2.363e+04   1.43e+04      1.651      0.099   -4459.426    5.17e+04\n",
            "SaleCondition_Family  -5635.4101   9196.707     -0.613      0.540   -2.37e+04    1.24e+04\n",
            "SaleCondition_Normal   4707.6170   4196.199      1.122      0.262   -3525.508    1.29e+04\n",
            "SaleCondition_Partial  2.871e+04   5664.567      5.068      0.000    1.76e+04    3.98e+04\n",
            "QualityPriceRatio     -1.346e+07   2.45e+06     -5.505      0.000   -1.83e+07   -8.66e+06\n",
            "==============================================================================\n",
            "Omnibus:                      432.690   Durbin-Watson:                   2.062\n",
            "Prob(Omnibus):                  0.000   Jarque-Bera (JB):            61352.935\n",
            "Skew:                          -0.601   Prob(JB):                         0.00\n",
            "Kurtosis:                      38.486   Cond. No.                     3.68e+07\n",
            "==============================================================================\n",
            "\n",
            "Notes:\n",
            "[1] Standard Errors assume that the covariance matrix of the errors is correctly specified.\n",
            "[2] The condition number is large, 3.68e+07. This might indicate that there are\n",
            "strong multicollinearity or other numerical problems.\n",
            "\n",
            "Predicted SalePrice for the test set:\n",
            "892     141617.717608\n",
            "1105    299375.217805\n",
            "413      120015.21927\n",
            "522     190646.204236\n",
            "1036    290032.746736\n",
            "dtype: object\n",
            "\n",
            "R-squared value after adding QualityPriceRatio: 0.8014293425656103\n"
          ]
        }
      ]
    },
    {
      "cell_type": "markdown",
      "source": [
        "\n",
        "\n",
        "---\n",
        "\n",
        "5. Create a regression model to predict LotArea using all other inputs. Discuss the\n",
        "effectiveness of the model using R-squared value. Report 3 most significant inputs\n",
        "and 3 least significant inputs (based on p-value) and interpret the results. Create one\n",
        "new input of your choice of values and show the prediction of LotArea using the\n",
        "same model"
      ],
      "metadata": {
        "id": "hIMEBxX0rPyy"
      }
    },
    {
      "cell_type": "code",
      "source": [
        "X = df.drop(['LotArea'], axis=1)\n",
        "Y = df['LotArea']\n",
        "\n",
        "numeric_features = X.select_dtypes(include=['number'])\n",
        "categorical_features = X.select_dtypes(exclude=['number'])\n",
        "\n",
        "if not categorical_features.empty:\n",
        "    encoder = OneHotEncoder(sparse_output=False, handle_unknown='ignore')\n",
        "    encoded_data = encoder.fit_transform(categorical_features)\n",
        "    encoded_df = pd.DataFrame(encoded_data, columns=encoder.get_feature_names_out(categorical_features.columns))\n",
        "\n",
        "    X = pd.concat([numeric_features, encoded_df], axis=1)\n",
        "\n",
        "X = sm.add_constant(X)\n",
        "model = sm.OLS(Y, X).fit()\n",
        "\n",
        "print(f\"R-squared: {model.rsquared}\")\n",
        "\n",
        "p_values = model.pvalues\n",
        "\n",
        "top_3_inputs = p_values.sort_values().head(3).index.tolist()\n",
        "bottom_3_inputs = p_values.sort_values().tail(3).index.tolist()\n",
        "\n",
        "print(f\"3 Most Significant Inputs: {top_3_inputs}\")\n",
        "print(f\"3 Least Significant Inputs: {bottom_3_inputs}\")"
      ],
      "metadata": {
        "colab": {
          "base_uri": "https://localhost:8080/"
        },
        "id": "B6W2jyUIq9Bf",
        "outputId": "b0a26202-7ea7-471c-fe38-1b96096272bf"
      },
      "execution_count": 32,
      "outputs": [
        {
          "output_type": "stream",
          "name": "stdout",
          "text": [
            "R-squared: 0.17381807921445902\n",
            "3 Most Significant Inputs: ['OverallQual', 'Fireplaces', 'SalePrice']\n",
            "3 Least Significant Inputs: ['FullBath', 'GrLivArea', 'OverallCond']\n"
          ]
        }
      ]
    },
    {
      "cell_type": "markdown",
      "source": [
        "The R-Squared value is so low it indicates we can only explain about 17% of the variability in LotArea using other inputs.\n",
        "\n",
        "The 3 most and least significant inputs also make sense since Lot area does not have a high correlation with FullBath, GrLivArea and OverallCond but it has high correlations with OverallQual, Fireplaces and SalePrice."
      ],
      "metadata": {
        "id": "UEXpXjthXRhP"
      }
    },
    {
      "cell_type": "markdown",
      "source": [
        "I intend to check the distribution of LotArea, this isn't required in the question."
      ],
      "metadata": {
        "id": "mLPNZJTa-9-P"
      }
    },
    {
      "cell_type": "code",
      "source": [
        "sns.histplot(df['LotArea'])\n",
        "plt.show()\n",
        "\n",
        "plt.scatter(y_train, ols_model.predict(X_train), label='Training data')\n",
        "plt.scatter(y_test, ols_model.predict(X_test), label='Test data')\n",
        "plt.xlabel('Actual LotArea')\n",
        "plt.ylabel('Predicted LotArea')\n",
        "plt.legend()\n",
        "plt.show()"
      ],
      "metadata": {
        "colab": {
          "base_uri": "https://localhost:8080/",
          "height": 897
        },
        "id": "zuYAm6l0udHn",
        "outputId": "75aa8d77-243b-4049-b2a9-38d1659cdb12"
      },
      "execution_count": 20,
      "outputs": [
        {
          "output_type": "display_data",
          "data": {
            "text/plain": [
              "<Figure size 640x480 with 1 Axes>"
            ],
            "image/png": "[encoded data removed]"
          },
          "metadata": {}
        },
        {
          "output_type": "display_data",
          "data": {
            "text/plain": [
              "<Figure size 640x480 with 1 Axes>"
            ],
            "image/png": "[encoded data removed]"
          },
          "metadata": {}
        }
      ]
    },
    {
      "cell_type": "markdown",
      "source": [
        "Create one\n",
        "new input of your choice of values and show the prediction of LotArea using the\n",
        "same model"
      ],
      "metadata": {
        "id": "5BlqBsKEJfwP"
      }
    },
    {
      "cell_type": "code",
      "source": [
        "X = df_encoded.drop('LotArea', axis=1)\n",
        "y = df_encoded['LotArea']\n",
        "\n",
        "X_const = sm.add_constant(X)\n",
        "X_train, X_test, y_train, y_test = train_test_split(X_const, y, test_size=0.2, random_state=42)\n",
        "\n",
        "X_train = X_train.astype(float)\n",
        "y_train = y_train.astype(float)\n",
        "\n",
        "lotarea_model = sm.OLS(y_train, X_train).fit()\n",
        "\n",
        "new_house = pd.DataFrame({\n",
        "    'Id': [1461],\n",
        "    'OverallQual': [8],\n",
        "    'OverallCond': [6],\n",
        "    'YearBuilt': [2010],\n",
        "    'TotalBsmtSF': [4000],\n",
        "    '1stFlrSF': [4000],\n",
        "    '2ndFlrSF': [4000],\n",
        "    'GrLivArea': [2400],\n",
        "    'BsmtFullBath': [1],\n",
        "    'BsmtHalfBath': [0],\n",
        "    'FullBath': [2],\n",
        "    'HalfBath': [1],\n",
        "    'BedroomAbvGr': [4],\n",
        "    'KitchenAbvGr': [1],\n",
        "    'Fireplaces': [1],\n",
        "    'GarageCars': [2],\n",
        "    'PavedDrive': [1],\n",
        "    'SaleCondition': [1],\n",
        "    'SalePrice': [750000]\n",
        "})\n",
        "\n",
        "categorical_features = new_house.select_dtypes(include=['object'])\n",
        "if not categorical_features.empty:\n",
        "    new_house_encoded = pd.get_dummies(categorical_features, drop_first=True)\n",
        "    new_house = pd.concat([new_house.select_dtypes(include=['number']), new_house_encoded], axis=1)\n",
        "\n",
        "missing_cols = set(X_train.columns) - set(new_house.columns)\n",
        "for col in missing_cols:\n",
        "    new_house[col] = 0\n",
        "\n",
        "new_house = new_house[X_train.columns]\n",
        "\n",
        "new_house_const = sm.add_constant(new_house)\n",
        "\n",
        "predicted_lotarea = lotarea_model.predict(new_house_const)\n",
        "\n",
        "print(\"New House Characteristics:\")\n",
        "print(\"-------------------------\")\n",
        "for col in new_house.columns:\n",
        "    print(f\"{col}: {new_house[col].iloc[0]}\")\n",
        "\n",
        "print(\"\\nPredicted Lot Area:\")\n",
        "print(f\"{predicted_lotarea[0]:.0f} square feet\")"
      ],
      "metadata": {
        "colab": {
          "base_uri": "https://localhost:8080/"
        },
        "id": "oFBCLloJCJFy",
        "outputId": "ea1d506a-43c1-4b75-cb8c-76739f89aaaa"
      },
      "execution_count": 67,
      "outputs": [
        {
          "output_type": "stream",
          "name": "stdout",
          "text": [
            "New House Characteristics:\n",
            "-------------------------\n",
            "const: 0\n",
            "Id: 1461\n",
            "OverallQual: 8\n",
            "OverallCond: 6\n",
            "YearBuilt: 2010\n",
            "TotalBsmtSF: 4000\n",
            "1stFlrSF: 4000\n",
            "2ndFlrSF: 4000\n",
            "GrLivArea: 2400\n",
            "BsmtFullBath: 1\n",
            "BsmtHalfBath: 0\n",
            "FullBath: 2\n",
            "HalfBath: 1\n",
            "BedroomAbvGr: 4\n",
            "KitchenAbvGr: 1\n",
            "Fireplaces: 1\n",
            "GarageCars: 2\n",
            "SalePrice: 750000\n",
            "PavedDrive_P: 0\n",
            "PavedDrive_Y: 0\n",
            "SaleCondition_AdjLand: 0\n",
            "SaleCondition_Alloca: 0\n",
            "SaleCondition_Family: 0\n",
            "SaleCondition_Normal: 0\n",
            "SaleCondition_Partial: 0\n",
            "QualityPriceRatio: 0\n",
            "\n",
            "Predicted Lot Area:\n",
            "1099 square feet\n"
          ]
        }
      ]
    },
    {
      "cell_type": "markdown",
      "source": [
        "\n",
        "\n",
        "---\n",
        "\n",
        "\n",
        "6. From Question 4, drop/remove all the columns which are not signification (p-value gt 0.05) and create a new model to predict SalePrice. Discuss the performance of\n",
        "the model using few inputs as compared to using all inputs in (Question 4). Which\n",
        "model do you prefer and why?\n",
        "a. The idea is to create a simple generalized model with fewer inputs which are\n",
        "important for prediction and getting the similar performance. For this concept,\n",
        "please research and study “Regularization in Regression”"
      ],
      "metadata": {
        "id": "T2wu8O0AKPU8"
      }
    },
    {
      "cell_type": "code",
      "source": [
        "X = df.drop(['SalePrice'], axis=1)\n",
        "Y = df['SalePrice']\n",
        "\n",
        "numeric_features = X.select_dtypes(include=['number'])\n",
        "categorical_features = X.select_dtypes(exclude=['number'])\n",
        "\n",
        "if not categorical_features.empty:\n",
        "    encoder = OneHotEncoder(sparse_output=False, handle_unknown='ignore')\n",
        "    encoded_data = encoder.fit_transform(categorical_features)\n",
        "    encoded_df = pd.DataFrame(encoded_data, columns=encoder.get_feature_names_out(categorical_features.columns))\n",
        "\n",
        "    X = pd.concat([numeric_features, encoded_df], axis=1)\n",
        "\n",
        "X = sm.add_constant(X)\n",
        "model = sm.OLS(Y, X).fit()\n",
        "\n",
        "print(f\"R-squared: {model.rsquared}\")\n",
        "\n",
        "p_values = model.pvalues\n",
        "\n",
        "insignificant_features = p_values[p_values > 0.05].index.tolist()\n",
        "\n",
        "X_refined = X.drop(columns=insignificant_features)\n",
        "\n",
        "X_refined_const = sm.add_constant(X_refined)\n",
        "refined_model = sm.OLS(Y, X_refined_const).fit()\n",
        "\n",
        "\n",
        "print(f\"Refined Model R-squared: {refined_model.rsquared}\")\n",
        "print(f\"Refined Model Summary:\\n{refined_model.summary()}\")\n",
        "\n",
        "predicted_saleprice = refined_model.predict(X_refined_const)\n",
        "\n",
        "print(f\"Predicted SalePrices for the first 5 rows:\")\n",
        "print(predicted_saleprice[:5])\n"
      ],
      "metadata": {
        "colab": {
          "base_uri": "https://localhost:8080/"
        },
        "id": "ppKVaTXsK7dH",
        "outputId": "1d6d72fe-d8d4-40bb-ec16-929bd946d28a"
      },
      "execution_count": 68,
      "outputs": [
        {
          "output_type": "stream",
          "name": "stdout",
          "text": [
            "R-squared: 0.8034529153616841\n",
            "Refined Model R-squared: 0.7528815409960129\n",
            "Refined Model Summary:\n",
            "                            OLS Regression Results                            \n",
            "==============================================================================\n",
            "Dep. Variable:              SalePrice   R-squared:                       0.753\n",
            "Model:                            OLS   Adj. R-squared:                  0.750\n",
            "Method:                 Least Squares   F-statistic:                     258.4\n",
            "Date:                Mon, 21 Oct 2024   Prob (F-statistic):               0.00\n",
            "Time:                        18:42:44   Log-Likelihood:                -17524.\n",
            "No. Observations:                1460   AIC:                         3.508e+04\n",
            "Df Residuals:                    1442   BIC:                         3.518e+04\n",
            "Df Model:                          17                                         \n",
            "Covariance Type:            nonrobust                                         \n",
            "=========================================================================================\n",
            "                            coef    std err          t      P>|t|      [0.025      0.975]\n",
            "-----------------------------------------------------------------------------------------\n",
            "const                 -3.244e+05   7.03e+04     -4.617      0.000   -4.62e+05   -1.87e+05\n",
            "LotArea                   0.6879      0.113      6.112      0.000       0.467       0.909\n",
            "OverallQual             2.63e+04   1172.051     22.435      0.000     2.4e+04    2.86e+04\n",
            "OverallCond            5003.4352   1056.883      4.734      0.000    2930.242    7076.628\n",
            "YearBuilt               188.4952     53.575      3.518      0.000      83.402     293.588\n",
            "TotalBsmtSF              29.0364      3.123      9.297      0.000      22.910      35.163\n",
            "BsmtFullBath           1.207e+04   2200.508      5.486      0.000    7754.908    1.64e+04\n",
            "BedroomAbvGr           9735.2845   1368.080      7.116      0.000    7051.645    1.24e+04\n",
            "KitchenAbvGr          -4621.8269   5200.420     -0.889      0.374   -1.48e+04    5579.372\n",
            "Fireplaces             1.453e+04   1873.409      7.757      0.000    1.09e+04    1.82e+04\n",
            "GarageCars             1.898e+04   1892.292     10.030      0.000    1.53e+04    2.27e+04\n",
            "PavedDrive_N          -1.014e+05   2.31e+04     -4.392      0.000   -1.47e+05   -5.61e+04\n",
            "PavedDrive_P          -1.148e+05   2.37e+04     -4.841      0.000   -1.61e+05   -6.83e+04\n",
            "PavedDrive_Y          -1.081e+05   2.45e+04     -4.413      0.000   -1.56e+05   -6.01e+04\n",
            "SaleCondition_Abnorml -6.118e+04   1.23e+04     -4.955      0.000   -8.54e+04    -3.7e+04\n",
            "SaleCondition_AdjLand -4.677e+04    2.1e+04     -2.226      0.026    -8.8e+04   -5555.581\n",
            "SaleCondition_Alloca  -5.117e+04    1.6e+04     -3.204      0.001   -8.25e+04   -1.98e+04\n",
            "SaleCondition_Family  -7.729e+04   1.41e+04     -5.490      0.000   -1.05e+05   -4.97e+04\n",
            "SaleCondition_Normal  -5.708e+04   1.23e+04     -4.640      0.000   -8.12e+04   -3.29e+04\n",
            "SaleCondition_Partial -3.089e+04   1.33e+04     -2.321      0.020    -5.7e+04   -4781.637\n",
            "==============================================================================\n",
            "Omnibus:                      634.582   Durbin-Watson:                   1.965\n",
            "Prob(Omnibus):                  0.000   Jarque-Bera (JB):            28283.258\n",
            "Skew:                           1.287   Prob(JB):                         0.00\n",
            "Kurtosis:                      24.408   Cond. No.                     2.06e+20\n",
            "==============================================================================\n",
            "\n",
            "Notes:\n",
            "[1] Standard Errors assume that the covariance matrix of the errors is correctly specified.\n",
            "[2] The smallest eigenvalue is 7.35e-30. This might indicate that there are\n",
            "strong multicollinearity problems or that the design matrix is singular.\n",
            "Predicted SalePrices for the first 5 rows:\n",
            "0    202369.112458\n",
            "1    201034.644577\n",
            "2    220307.901932\n",
            "3    213043.492905\n",
            "4    283733.470379\n",
            "dtype: float64\n"
          ]
        }
      ]
    },
    {
      "cell_type": "markdown",
      "source": [
        "We can compare the predicted and the actual SalePrice for the first few rows."
      ],
      "metadata": {
        "id": "MX1DRVN_M67j"
      }
    },
    {
      "cell_type": "code",
      "source": [
        "comparison_df = pd.DataFrame({\n",
        "    'Actual SalePrice': Y.head(5),\n",
        "    'Predicted SalePrice': predicted_saleprice[:5]\n",
        "})\n",
        "print(comparison_df)\n"
      ],
      "metadata": {
        "colab": {
          "base_uri": "https://localhost:8080/"
        },
        "id": "dAKRxfd_Ma8V",
        "outputId": "900bf197-293b-49a5-cc1f-5b671f0d6811"
      },
      "execution_count": 52,
      "outputs": [
        {
          "output_type": "stream",
          "name": "stdout",
          "text": [
            "   Actual SalePrice  Predicted SalePrice\n",
            "0            208500        202369.112458\n",
            "1            181500        201034.644577\n",
            "2            223500        220307.901932\n",
            "3            140000        213043.492905\n",
            "4            250000        283733.470379\n"
          ]
        }
      ]
    },
    {
      "cell_type": "markdown",
      "source": [
        "We can see that the refined model is performing substantially better than the unrefined model and our predictions are relatively much closer to actual SalePrice values. In the spirit of better prediction, I will use a model with fewer, more relevant and statistically significant inputs.\n"
      ],
      "metadata": {
        "id": "K5nLs65VMr2J"
      }
    },
    {
      "cell_type": "markdown",
      "source": [
        "\n",
        "\n",
        "---\n",
        "\n",
        "7. Using the model with 3 inputs in Question 6, create 2 new data records and predict their MonthlyIncome. Discuss if the predicted output makes sense based on your new data records."
      ],
      "metadata": {
        "id": "QAN-VYmKNTtX"
      }
    },
    {
      "cell_type": "code",
      "source": [
        "top_3_inputs = ['OverallQual', 'GarageCars', 'SaleCondition_Abnorml']\n",
        "\n",
        "X_top_3 = X[top_3_inputs]\n",
        "X_top_3_const = sm.add_constant(X_top_3)\n",
        "\n",
        "model_top_3 = sm.OLS(Y, X_top_3_const).fit()\n",
        "\n",
        "print(f\"Top 3 Model R-squared: {model_top_3.rsquared}\")\n",
        "\n",
        "new_data = pd.DataFrame({\n",
        "    'OverallQual': [1, 2],\n",
        "    'GrLivArea': [500, 800],\n",
        "    'TotalBsmtSF': [700, 800],\n",
        "})\n",
        "\n",
        "new_data_const = sm.add_constant(new_data)\n",
        "\n",
        "predicted_saleprice = model_top_3.predict(new_data_const)\n",
        "\n",
        "print(\"Predicted Sale Prices for the new data records:\")\n",
        "print(predicted_saleprice)\n"
      ],
      "metadata": {
        "colab": {
          "base_uri": "https://localhost:8080/"
        },
        "id": "NaC4TBoJOwk8",
        "outputId": "c2ff6463-ac27-4ab8-ed8a-9ee3a4b5eb9b"
      },
      "execution_count": 60,
      "outputs": [
        {
          "output_type": "stream",
          "name": "stdout",
          "text": [
            "Top 3 Model R-squared: 0.6689679535332734\n",
            "Predicted Sale Prices for the new data records:\n",
            "0    8.310694e+06\n",
            "1    1.578116e+07\n",
            "dtype: float64\n"
          ]
        }
      ]
    },
    {
      "cell_type": "markdown",
      "source": [
        "The Sales Price is quite high for my inputs, and it isn't a reflection of the typical SalesPrice values in the dataset. This might be due to multilinearity, overfitting or other causes that we can explore."
      ],
      "metadata": {
        "id": "9D20k-knZLUA"
      }
    }
  ]
}